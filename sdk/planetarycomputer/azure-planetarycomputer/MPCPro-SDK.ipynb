{
 "cells": [
  {
   "cell_type": "code",
   "execution_count": 2,
   "id": "56f0c02e-86e3-4ae4-a7c7-8857e53a26a1",
   "metadata": {},
   "outputs": [],
   "source": [
    "from azure.planetarycomputer import PlanetaryComputerClient\n",
    "from azure.identity import DefaultAzureCredential"
   ]
  },
  {
   "cell_type": "code",
   "execution_count": 3,
   "id": "2c1ee590-225c-4533-b719-c928a37a63d1",
   "metadata": {},
   "outputs": [],
   "source": [
    "credential = DefaultAzureCredential()\n",
    "endpoint = \"https://test-accessibility.h5d5a9crhnc8deaz.uksouth.geocatalog.spatio.azure.com\"\n",
    "collection_id = \"python-sdk-test-collection\"\n",
    "# MPC Pro Client\n",
    "client = PlanetaryComputerClient(endpoint=endpoint, credential=DefaultAzureCredential())"
   ]
  },
  {
   "cell_type": "code",
   "execution_count": 4,
   "id": "88136a3f-a6b8-4bf5-b6eb-43a63a45cf11",
   "metadata": {},
   "outputs": [],
   "source": [
    "collection_payload = {\n",
    "    \"description\": \"Tutorial collection for integration tests\",\n",
    "    \"extent\": {\n",
    "        \"spatial\": {\"bbox\": [[-180, -90, 180, 90]]},\n",
    "        \"temporal\": {\"interval\": [[\"2020-01-01T00:00:00Z\", None]]}\n",
    "    },\n",
    "    \"id\": collection_id,\n",
    "    \"license\": \"CC-BY-4.0\",\n",
    "    \"links\": [],\n",
    "    \"stac_version\": \"1.0.0\",\n",
    "    \"title\": \"Python SDK Test Collection\",\n",
    "    \"type\": \"Collection\",\n",
    "    \"item_assets\": {\n",
    "        \"GEC\": {\n",
    "            \"type\": \"image/tiff; application=geotiff; profile=cloud-optimized\",\n",
    "            \"roles\": [\"data\"],\n",
    "            \"title\": \"VV polarization\",\n",
    "            \"description\": \"Gamma naught values corrected for terrain\",\n",
    "            \"raster:bands\": [{\n",
    "                \"nodata\": -32768,\n",
    "                \"data_type\": \"uint8\",\n",
    "                \"spatial_resolution\": 0.477\n",
    "            }]\n",
    "        }\n",
    "    }\n",
    "}"
   ]
  },
  {
   "cell_type": "code",
   "execution_count": null,
   "id": "508ca574-b837-47a3-90bd-7d88fab6cd99",
   "metadata": {},
   "outputs": [
    {
     "name": "stdout",
     "output_type": "stream",
     "text": [
      "{'collections': [{'id': 'example-collection', 'type': 'Collection', 'links': [{'rel': 'items', 'type': 'application/geo+json', 'href': 'https://test-accessibility.h5d5a9crhnc8deaz.uksouth.geocatalog.spatio.azure.com/stac/collections/example-collection/items'}, {'rel': 'parent', 'type': 'application/json', 'href': 'https://test-accessibility.h5d5a9crhnc8deaz.uksouth.geocatalog.spatio.azure.com/stac/'}, {'rel': 'root', 'type': 'application/json', 'href': 'https://test-accessibility.h5d5a9crhnc8deaz.uksouth.geocatalog.spatio.azure.com/stac/'}, {'rel': 'self', 'type': 'application/json', 'href': 'https://test-accessibility.h5d5a9crhnc8deaz.uksouth.geocatalog.spatio.azure.com/stac/collections/example-collection'}], 'title': 'Example Collection', 'extent': {'spatial': {'bbox': [[-180, -90, 180, 90]]}, 'temporal': {'interval': [['2018-01-01T00:00:00Z', '2018-12-31T23:59:59Z']]}}, 'license': 'CC-BY-4.0', 'description': 'An example collection', 'stac_version': '1.0.0', 'msft:_created': '2025-03-11T19:54:50.067546Z', 'msft:_updated': '2025-03-11T19:54:50.067546Z', 'msft:short_description': 'An example collection'}, {'id': 'example-collection1', 'type': 'Collection', 'links': [{'rel': 'items', 'type': 'application/geo+json', 'href': 'https://test-accessibility.h5d5a9crhnc8deaz.uksouth.geocatalog.spatio.azure.com/stac/collections/example-collection1/items'}, {'rel': 'parent', 'type': 'application/json', 'href': 'https://test-accessibility.h5d5a9crhnc8deaz.uksouth.geocatalog.spatio.azure.com/stac/'}, {'rel': 'root', 'type': 'application/json', 'href': 'https://test-accessibility.h5d5a9crhnc8deaz.uksouth.geocatalog.spatio.azure.com/stac/'}, {'rel': 'self', 'type': 'application/json', 'href': 'https://test-accessibility.h5d5a9crhnc8deaz.uksouth.geocatalog.spatio.azure.com/stac/collections/example-collection1'}], 'title': 'Example Collection', 'extent': {'spatial': {'bbox': [[-180, -90, 180, 90]]}, 'temporal': {'interval': [['2018-01-01T00:00:00Z', '2018-12-31T23:59:59Z']]}}, 'license': 'CC-BY-4.0', 'description': 'An example collection', 'stac_version': '1.0.0', 'msft:_created': '2025-04-22T00:30:03.363303Z', 'msft:_updated': '2025-04-22T00:30:03.363303Z', 'msft:short_description': 'An example collection'}, {'id': 'example-collection6', 'type': 'Collection', 'links': [{'rel': 'items', 'type': 'application/geo+json', 'href': 'https://test-accessibility.h5d5a9crhnc8deaz.uksouth.geocatalog.spatio.azure.com/stac/collections/example-collection6/items'}, {'rel': 'parent', 'type': 'application/json', 'href': 'https://test-accessibility.h5d5a9crhnc8deaz.uksouth.geocatalog.spatio.azure.com/stac/'}, {'rel': 'root', 'type': 'application/json', 'href': 'https://test-accessibility.h5d5a9crhnc8deaz.uksouth.geocatalog.spatio.azure.com/stac/'}, {'rel': 'self', 'type': 'application/json', 'href': 'https://test-accessibility.h5d5a9crhnc8deaz.uksouth.geocatalog.spatio.azure.com/stac/collections/example-collection6'}], 'title': 'Example Collection', 'extent': {'spatial': {'bbox': [[-180, -90, 180, 90]]}, 'temporal': {'interval': [['2018-01-01T00:00:00Z', '2018-12-31T23:59:59Z']]}}, 'license': 'CC-BY-4.0', 'description': 'An example collection', 'stac_version': '1.0.0', 'msft:_created': '2025-05-02T20:20:53.193385Z', 'msft:_updated': '2025-05-07T14:28:05.842546Z', 'msft:short_description': 'An example collection'}, {'id': 'sentinel-2-l2a', 'type': 'Collection', 'links': [{'rel': 'items', 'type': 'application/geo+json', 'href': 'https://test-accessibility.h5d5a9crhnc8deaz.uksouth.geocatalog.spatio.azure.com/stac/collections/sentinel-2-l2a/items'}, {'rel': 'parent', 'type': 'application/json', 'href': 'https://test-accessibility.h5d5a9crhnc8deaz.uksouth.geocatalog.spatio.azure.com/stac/'}, {'rel': 'root', 'type': 'application/json', 'href': 'https://test-accessibility.h5d5a9crhnc8deaz.uksouth.geocatalog.spatio.azure.com/stac/'}, {'rel': 'self', 'type': 'application/json', 'href': 'https://test-accessibility.h5d5a9crhnc8deaz.uksouth.geocatalog.spatio.azure.com/stac/collections/sentinel-2-l2a'}, {'rel': 'license', 'href': 'https://scihub.copernicus.eu/twiki/pub/SciHubWebPortal/TermsConditions/Sentinel_Data_Terms_and_Conditions.pdf', 'title': 'Copernicus Sentinel data terms'}, {'rel': 'describedby', 'href': 'https://planetarycomputer.microsoft.com/dataset/sentinel-2-l2a', 'type': 'text/html', 'title': 'Human readable dataset overview and reference'}], 'title': 'Sentinel-2 Level-2A', 'extent': {'spatial': {'bbox': [[-180, -90, 180, 90]]}, 'temporal': {'interval': [['2015-06-27T10:25:31Z', None]]}}, 'license': 'proprietary', 'keywords': ['Sentinel', 'Copernicus', 'ESA', 'Satellite', 'Global', 'Imagery', 'Reflectance'], 'providers': [{'url': 'https://sentinel.esa.int/web/sentinel/missions/sentinel-2', 'name': 'ESA', 'roles': ['producer', 'licensor']}, {'url': 'https://www.esri.com/', 'name': 'Esri', 'roles': ['processor']}, {'url': 'https://planetarycomputer.microsoft.com', 'name': 'Microsoft', 'roles': ['host', 'processor']}], 'summaries': {'gsd': [10, 20, 60], 'eo:bands': [{'name': 'AOT', 'description': 'aerosol optical thickness'}, {'gsd': 60, 'name': 'B01', 'common_name': 'coastal', 'description': 'coastal aerosol', 'center_wavelength': 0.443, 'full_width_half_max': 0.027}, {'gsd': 10, 'name': 'B02', 'common_name': 'blue', 'description': 'visible blue', 'center_wavelength': 0.49, 'full_width_half_max': 0.098}, {'gsd': 10, 'name': 'B03', 'common_name': 'green', 'description': 'visible green', 'center_wavelength': 0.56, 'full_width_half_max': 0.045}, {'gsd': 10, 'name': 'B04', 'common_name': 'red', 'description': 'visible red', 'center_wavelength': 0.665, 'full_width_half_max': 0.038}, {'gsd': 20, 'name': 'B05', 'common_name': 'rededge', 'description': 'vegetation classification red edge', 'center_wavelength': 0.704, 'full_width_half_max': 0.019}, {'gsd': 20, 'name': 'B06', 'common_name': 'rededge', 'description': 'vegetation classification red edge', 'center_wavelength': 0.74, 'full_width_half_max': 0.018}, {'gsd': 20, 'name': 'B07', 'common_name': 'rededge', 'description': 'vegetation classification red edge', 'center_wavelength': 0.783, 'full_width_half_max': 0.028}, {'gsd': 10, 'name': 'B08', 'common_name': 'nir', 'description': 'near infrared', 'center_wavelength': 0.842, 'full_width_half_max': 0.145}, {'gsd': 20, 'name': 'B8A', 'common_name': 'rededge', 'description': 'vegetation classification red edge', 'center_wavelength': 0.865, 'full_width_half_max': 0.033}, {'gsd': 60, 'name': 'B09', 'description': 'water vapor', 'center_wavelength': 0.945, 'full_width_half_max': 0.026}, {'gsd': 20, 'name': 'B11', 'common_name': 'swir16', 'description': 'short-wave infrared, snow/ice/cloud classification', 'center_wavelength': 1.61, 'full_width_half_max': 0.143}, {'gsd': 20, 'name': 'B12', 'common_name': 'swir22', 'description': 'short-wave infrared, snow/ice/cloud classification', 'center_wavelength': 2.19, 'full_width_half_max': 0.242}], 'platform': ['Sentinel-2A', 'Sentinel-2B'], 'instruments': ['msi'], 'constellation': ['sentinel-2'], 'view:off_nadir': [0]}, 'description': 'The [Sentinel-2](https://sentinel.esa.int/web/sentinel/missions/sentinel-2) program provides global imagery in thirteen spectral bands at 10m-60m resolution and a revisit time of approximately five days.  This dataset represents the global Sentinel-2 archive, from 2016 to the present, processed to L2A (bottom-of-atmosphere) using [Sen2Cor](https://step.esa.int/main/snap-supported-plugins/sen2cor/) and converted to [cloud-optimized GeoTIFF](https://www.cogeo.org/) format.', 'item_assets': {'AOT': {'gsd': '10.0n_____', 'type': 'image/tiff; application=geotiff; profile=cloud-optimized', 'roles': ['data'], 'title': 'Aerosol optical thickness (AOT)'}, 'B01': {'gsd': '60.0n_____', 'type': 'image/tiff; application=geotiff; profile=cloud-optimized', 'roles': ['data'], 'title': 'Band 1 - Coastal aerosol - 60m', 'eo:bands': [{'name': 'B01', 'common_name': 'coastal', 'description': 'Band 1 - Coastal aerosol', 'center_wavelength': 0.443, 'full_width_half_max': 0.027}]}, 'B02': {'gsd': '10.0n_____', 'type': 'image/tiff; application=geotiff; profile=cloud-optimized', 'roles': ['data'], 'title': 'Band 2 - Blue - 10m', 'eo:bands': [{'name': 'B02', 'common_name': 'blue', 'description': 'Band 2 - Blue', 'center_wavelength': 0.49, 'full_width_half_max': 0.098}]}, 'B03': {'gsd': '10.0n_____', 'type': 'image/tiff; application=geotiff; profile=cloud-optimized', 'roles': ['data'], 'title': 'Band 3 - Green - 10m', 'eo:bands': [{'name': 'B03', 'common_name': 'green', 'description': 'Band 3 - Green', 'center_wavelength': 0.56, 'full_width_half_max': 0.045}]}, 'B04': {'gsd': '10.0n_____', 'type': 'image/tiff; application=geotiff; profile=cloud-optimized', 'roles': ['data'], 'title': 'Band 4 - Red - 10m', 'eo:bands': [{'name': 'B04', 'common_name': 'red', 'description': 'Band 4 - Red', 'center_wavelength': 0.665, 'full_width_half_max': 0.038}]}, 'B05': {'gsd': '20.0n_____', 'type': 'image/tiff; application=geotiff; profile=cloud-optimized', 'roles': ['data'], 'title': 'Band 5 - Vegetation red edge 1 - 20m', 'eo:bands': [{'name': 'B05', 'common_name': 'rededge', 'description': 'Band 5 - Vegetation red edge 1', 'center_wavelength': 0.704, 'full_width_half_max': 0.019}]}, 'B06': {'gsd': '20.0n_____', 'type': 'image/tiff; application=geotiff; profile=cloud-optimized', 'roles': ['data'], 'title': 'Band 6 - Vegetation red edge 2 - 20m', 'eo:bands': [{'name': 'B06', 'common_name': 'rededge', 'description': 'Band 6 - Vegetation red edge 2', 'center_wavelength': 0.74, 'full_width_half_max': 0.018}]}, 'B07': {'gsd': '20.0n_____', 'type': 'image/tiff; application=geotiff; profile=cloud-optimized', 'roles': ['data'], 'title': 'Band 7 - Vegetation red edge 3 - 20m', 'eo:bands': [{'name': 'B07', 'common_name': 'rededge', 'description': 'Band 7 - Vegetation red edge 3', 'center_wavelength': 0.783, 'full_width_half_max': 0.028}]}, 'B08': {'gsd': '10.0n_____', 'type': 'image/tiff; application=geotiff; profile=cloud-optimized', 'roles': ['data'], 'title': 'Band 8 - NIR - 10m', 'eo:bands': [{'name': 'B08', 'common_name': 'nir', 'description': 'Band 8 - NIR', 'center_wavelength': 0.842, 'full_width_half_max': 0.145}]}, 'B09': {'gsd': '60.0n_____', 'type': 'image/tiff; application=geotiff; profile=cloud-optimized', 'roles': ['data'], 'title': 'Band 9 - Water vapor - 60m', 'eo:bands': [{'name': 'B09', 'description': 'Band 9 - Water vapor', 'center_wavelength': 0.945, 'full_width_half_max': 0.026}]}, 'B11': {'gsd': '20.0n_____', 'type': 'image/tiff; application=geotiff; profile=cloud-optimized', 'roles': ['data'], 'title': 'Band 11 - SWIR (1.6) - 20m', 'eo:bands': [{'name': 'B11', 'common_name': 'swir16', 'description': 'Band 11 - SWIR (1.6)', 'center_wavelength': 1.61, 'full_width_half_max': 0.143}]}, 'B12': {'gsd': '20.0n_____', 'type': 'image/tiff; application=geotiff; profile=cloud-optimized', 'roles': ['data'], 'title': 'Band 12 - SWIR (2.2) - 20m', 'eo:bands': [{'name': 'B12', 'common_name': 'swir22', 'description': 'Band 12 - SWIR (2.2)', 'center_wavelength': 2.19, 'full_width_half_max': 0.242}]}, 'B8A': {'gsd': '20.0n_____', 'type': 'image/tiff; application=geotiff; profile=cloud-optimized', 'roles': ['data'], 'title': 'Band 8A - Vegetation red edge 4 - 20m', 'eo:bands': [{'name': 'B8A', 'common_name': 'rededge', 'description': 'Band 8A - Vegetation red edge 4', 'center_wavelength': 0.865, 'full_width_half_max': 0.033}]}, 'SCL': {'gsd': '20.0n_____', 'type': 'image/tiff; application=geotiff; profile=cloud-optimized', 'roles': ['data'], 'title': 'Scene classfication map (SCL)'}, 'WVP': {'gsd': '10.0n_____', 'type': 'image/tiff; application=geotiff; profile=cloud-optimized', 'roles': ['data'], 'title': 'Water vapour (WVP)'}, 'visual': {'gsd': '10.0n_____', 'type': 'image/tiff; application=geotiff; profile=cloud-optimized', 'roles': ['data'], 'title': 'True color image', 'eo:bands': [{'name': 'B04', 'common_name': 'red', 'description': 'Band 4 - Red', 'center_wavelength': 0.665, 'full_width_half_max': 0.038}, {'name': 'B03', 'common_name': 'green', 'description': 'Band 3 - Green', 'center_wavelength': 0.56, 'full_width_half_max': 0.045}, {'name': 'B02', 'common_name': 'blue', 'description': 'Band 2 - Blue', 'center_wavelength': 0.49, 'full_width_half_max': 0.098}]}, 'preview': {'type': 'image/tiff; application=geotiff; profile=cloud-optimized', 'roles': ['thumbnail'], 'title': 'Thumbnail'}, 'safe-manifest': {'type': 'application/xml', 'roles': ['metadata'], 'title': 'SAFE manifest'}, 'granule-metadata': {'type': 'application/xml', 'roles': ['metadata'], 'title': 'Granule metadata'}, 'inspire-metadata': {'type': 'application/xml', 'roles': ['metadata'], 'title': 'INSPIRE metadata'}, 'product-metadata': {'type': 'application/xml', 'roles': ['metadata'], 'title': 'Product metadata'}, 'datastrip-metadata': {'type': 'application/xml', 'roles': ['metadata'], 'title': 'Datastrip metadata'}}, 'msft:region': 'westeurope', 'stac_version': '1.0.0', 'msft:_created': '2025-05-06T17:37:28.658392Z', 'msft:_updated': '2025-05-06T17:37:28.658392Z', 'msft:container': 'sentinel2-l2', 'stac_extensions': ['https://stac-extensions.github.io/item-assets/v1.0.0/schema.json', 'https://stac-extensions.github.io/table/v1.2.0/schema.json'], 'msft:storage_account': 'sentinel2l2a01', 'msft:short_description': 'The Sentinel-2 program provides global imagery in thirteen spectral bands at 10m-60m resolution and a revisit time of approximately five days.  This dataset contains the global Sentinel-2 archive, from 2016 to the present, processed to L2A (bottom-of-atmosphere).'}, {'id': 'impact-observatory', 'type': 'Collection', 'links': [{'rel': 'items', 'type': 'application/geo+json', 'href': 'https://test-accessibility.h5d5a9crhnc8deaz.uksouth.geocatalog.spatio.azure.com/stac/collections/impact-observatory/items'}, {'rel': 'parent', 'type': 'application/json', 'href': 'https://test-accessibility.h5d5a9crhnc8deaz.uksouth.geocatalog.spatio.azure.com/stac/'}, {'rel': 'root', 'type': 'application/json', 'href': 'https://test-accessibility.h5d5a9crhnc8deaz.uksouth.geocatalog.spatio.azure.com/stac/'}, {'rel': 'self', 'type': 'application/json', 'href': 'https://test-accessibility.h5d5a9crhnc8deaz.uksouth.geocatalog.spatio.azure.com/stac/collections/impact-observatory'}], 'title': 'impact-observatory', 'extent': {'spatial': {'bbox': [[-180, -90, 180, 90]]}, 'temporal': {'interval': [['2018-01-01T00:00:00Z', '2018-12-31T23:59:59Z']]}}, 'license': 'CC-BY-4.0', 'description': 'impact-observatory', 'stac_version': '1.0.0', 'msft:_created': '2025-05-21T11:34:25.100150Z', 'msft:_updated': '2025-05-21T11:34:25.100150Z', 'msft:short_description': 'impact-observatory'}, {'id': 'tutorial-collection-20250527170217', 'type': 'Collection', 'links': [{'rel': 'items', 'type': 'application/geo+json', 'href': 'https://test-accessibility.h5d5a9crhnc8deaz.uksouth.geocatalog.spatio.azure.com/stac/collections/tutorial-collection-20250527170217/items'}, {'rel': 'parent', 'type': 'application/json', 'href': 'https://test-accessibility.h5d5a9crhnc8deaz.uksouth.geocatalog.spatio.azure.com/stac/'}, {'rel': 'root', 'type': 'application/json', 'href': 'https://test-accessibility.h5d5a9crhnc8deaz.uksouth.geocatalog.spatio.azure.com/stac/'}, {'rel': 'self', 'type': 'application/json', 'href': 'https://test-accessibility.h5d5a9crhnc8deaz.uksouth.geocatalog.spatio.azure.com/stac/collections/tutorial-collection-20250527170217'}], 'title': 'Tutorial Collection', 'assets': {'thumbnail': {'href': 'https://vojrtgdatasa.blob.core.windows.net/tutorial-collection-20250527170217-34b2cde8/collection-assets/thumbnail/thumbnail.png', 'type': 'image/png', 'roles': ['thumbnail'], 'title': 'Sentinel-2 preview'}}, 'extent': {'spatial': {'bbox': [[-180, -90, 180, 90]]}, 'temporal': {'interval': [['2020-01-01T00:00:00Z', None]]}}, 'license': 'CC-BY-4.0', 'description': 'Tutorial collection for integration tests', 'item_assets': {'GEC': {'type': 'image/tiff; application=geotiff; profile=cloud-optimized', 'roles': ['data'], 'title': 'VV polarization', 'description': 'Gamma naught values corrected for terrain', 'raster:bands': [{'nodata': -32768, 'data_type': 'uint8', 'spatial_resolution': 0.477}]}}, 'stac_version': '1.0.0', 'msft:_created': '2025-05-27T21:02:48.9870711Z', 'msft:_updated': '2025-05-27T21:51:00.527167Z'}, {'id': 'sentinel-2-l2a-tutorial-372', 'type': 'Collection', 'links': [{'rel': 'items', 'type': 'application/geo+json', 'href': 'https://test-accessibility.h5d5a9crhnc8deaz.uksouth.geocatalog.spatio.azure.com/stac/collections/sentinel-2-l2a-tutorial-372/items'}, {'rel': 'parent', 'type': 'application/json', 'href': 'https://test-accessibility.h5d5a9crhnc8deaz.uksouth.geocatalog.spatio.azure.com/stac/'}, {'rel': 'root', 'type': 'application/json', 'href': 'https://test-accessibility.h5d5a9crhnc8deaz.uksouth.geocatalog.spatio.azure.com/stac/'}, {'rel': 'self', 'type': 'application/json', 'href': 'https://test-accessibility.h5d5a9crhnc8deaz.uksouth.geocatalog.spatio.azure.com/stac/collections/sentinel-2-l2a-tutorial-372'}], 'title': 'sentinel-2-l2a-tutorial-372', 'assets': {'thumbnail': {'href': 'https://vojrtgdatasa.blob.core.windows.net/sentinel-2-l2a-tutorial-372-f4d2f1d8/collection-assets/thumbnail/thumbnail.png', 'type': 'image/png', 'roles': ['thumbnail'], 'title': 'Sentinel-2 preview'}}, 'extent': {'spatial': {'bbox': [[-180, -90, 180, 90]]}, 'temporal': {'interval': [['2015-06-27T10:25:31Z', None]]}}, 'license': 'proprietary', 'keywords': ['Sentinel', 'Copernicus', 'ESA', 'Satellite', 'Global', 'Imagery', 'Reflectance'], 'providers': [{'url': 'https://sentinel.esa.int/web/sentinel/missions/sentinel-2', 'name': 'ESA', 'roles': ['producer', 'licensor']}, {'url': 'https://www.esri.com/', 'name': 'Esri', 'roles': ['processor']}, {'url': 'https://planetarycomputer.microsoft.com', 'name': 'Microsoft', 'roles': ['host', 'processor']}], 'summaries': {'gsd': [10, 20, 60], 'eo:bands': [{'name': 'AOT', 'description': 'aerosol optical thickness'}, {'gsd': 60, 'name': 'B01', 'common_name': 'coastal', 'description': 'coastal aerosol', 'center_wavelength': 0.443, 'full_width_half_max': 0.027}, {'gsd': 10, 'name': 'B02', 'common_name': 'blue', 'description': 'visible blue', 'center_wavelength': 0.49, 'full_width_half_max': 0.098}, {'gsd': 10, 'name': 'B03', 'common_name': 'green', 'description': 'visible green', 'center_wavelength': 0.56, 'full_width_half_max': 0.045}, {'gsd': 10, 'name': 'B04', 'common_name': 'red', 'description': 'visible red', 'center_wavelength': 0.665, 'full_width_half_max': 0.038}, {'gsd': 20, 'name': 'B05', 'common_name': 'rededge', 'description': 'vegetation classification red edge', 'center_wavelength': 0.704, 'full_width_half_max': 0.019}, {'gsd': 20, 'name': 'B06', 'common_name': 'rededge', 'description': 'vegetation classification red edge', 'center_wavelength': 0.74, 'full_width_half_max': 0.018}, {'gsd': 20, 'name': 'B07', 'common_name': 'rededge', 'description': 'vegetation classification red edge', 'center_wavelength': 0.783, 'full_width_half_max': 0.028}, {'gsd': 10, 'name': 'B08', 'common_name': 'nir', 'description': 'near infrared', 'center_wavelength': 0.842, 'full_width_half_max': 0.145}, {'gsd': 20, 'name': 'B8A', 'common_name': 'rededge', 'description': 'vegetation classification red edge', 'center_wavelength': 0.865, 'full_width_half_max': 0.033}, {'gsd': 60, 'name': 'B09', 'description': 'water vapor', 'center_wavelength': 0.945, 'full_width_half_max': 0.026}, {'gsd': 20, 'name': 'B11', 'common_name': 'swir16', 'description': 'short-wave infrared, snow/ice/cloud classification', 'center_wavelength': 1.61, 'full_width_half_max': 0.143}, {'gsd': 20, 'name': 'B12', 'common_name': 'swir22', 'description': 'short-wave infrared, snow/ice/cloud classification', 'center_wavelength': 2.19, 'full_width_half_max': 0.242}], 'platform': ['Sentinel-2A', 'Sentinel-2B'], 'instruments': ['msi'], 'constellation': ['sentinel-2'], 'view:off_nadir': [0]}, 'description': 'The [Sentinel-2](https://sentinel.esa.int/web/sentinel/missions/sentinel-2) program provides global imagery in thirteen spectral bands at 10m-60m resolution and a revisit time of approximately five days.  This dataset represents the global Sentinel-2 archive, from 2016 to the present, processed to L2A (bottom-of-atmosphere) using [Sen2Cor](https://step.esa.int/main/snap-supported-plugins/sen2cor/) and converted to [cloud-optimized GeoTIFF](https://www.cogeo.org/) format.', 'item_assets': {'AOT': {'gsd': 10, 'type': 'image/tiff; application=geotiff; profile=cloud-optimized', 'roles': ['data'], 'title': 'Aerosol optical thickness (AOT)'}, 'B01': {'gsd': 60, 'type': 'image/tiff; application=geotiff; profile=cloud-optimized', 'roles': ['data'], 'title': 'Band 1 - Coastal aerosol - 60m', 'eo:bands': [{'name': 'B01', 'common_name': 'coastal', 'description': 'Band 1 - Coastal aerosol', 'center_wavelength': 0.443, 'full_width_half_max': 0.027}]}, 'B02': {'gsd': 10, 'type': 'image/tiff; application=geotiff; profile=cloud-optimized', 'roles': ['data'], 'title': 'Band 2 - Blue - 10m', 'eo:bands': [{'name': 'B02', 'common_name': 'blue', 'description': 'Band 2 - Blue', 'center_wavelength': 0.49, 'full_width_half_max': 0.098}]}, 'B03': {'gsd': 10, 'type': 'image/tiff; application=geotiff; profile=cloud-optimized', 'roles': ['data'], 'title': 'Band 3 - Green - 10m', 'eo:bands': [{'name': 'B03', 'common_name': 'green', 'description': 'Band 3 - Green', 'center_wavelength': 0.56, 'full_width_half_max': 0.045}]}, 'B04': {'gsd': 10, 'type': 'image/tiff; application=geotiff; profile=cloud-optimized', 'roles': ['data'], 'title': 'Band 4 - Red - 10m', 'eo:bands': [{'name': 'B04', 'common_name': 'red', 'description': 'Band 4 - Red', 'center_wavelength': 0.665, 'full_width_half_max': 0.038}]}, 'B05': {'gsd': 20, 'type': 'image/tiff; application=geotiff; profile=cloud-optimized', 'roles': ['data'], 'title': 'Band 5 - Vegetation red edge 1 - 20m', 'eo:bands': [{'name': 'B05', 'common_name': 'rededge', 'description': 'Band 5 - Vegetation red edge 1', 'center_wavelength': 0.704, 'full_width_half_max': 0.019}]}, 'B06': {'gsd': 20, 'type': 'image/tiff; application=geotiff; profile=cloud-optimized', 'roles': ['data'], 'title': 'Band 6 - Vegetation red edge 2 - 20m', 'eo:bands': [{'name': 'B06', 'common_name': 'rededge', 'description': 'Band 6 - Vegetation red edge 2', 'center_wavelength': 0.74, 'full_width_half_max': 0.018}]}, 'B07': {'gsd': 20, 'type': 'image/tiff; application=geotiff; profile=cloud-optimized', 'roles': ['data'], 'title': 'Band 7 - Vegetation red edge 3 - 20m', 'eo:bands': [{'name': 'B07', 'common_name': 'rededge', 'description': 'Band 7 - Vegetation red edge 3', 'center_wavelength': 0.783, 'full_width_half_max': 0.028}]}, 'B08': {'gsd': 10, 'type': 'image/tiff; application=geotiff; profile=cloud-optimized', 'roles': ['data'], 'title': 'Band 8 - NIR - 10m', 'eo:bands': [{'name': 'B08', 'common_name': 'nir', 'description': 'Band 8 - NIR', 'center_wavelength': 0.842, 'full_width_half_max': 0.145}]}, 'B09': {'gsd': 60, 'type': 'image/tiff; application=geotiff; profile=cloud-optimized', 'roles': ['data'], 'title': 'Band 9 - Water vapor - 60m', 'eo:bands': [{'name': 'B09', 'description': 'Band 9 - Water vapor', 'center_wavelength': 0.945, 'full_width_half_max': 0.026}]}, 'B11': {'gsd': 20, 'type': 'image/tiff; application=geotiff; profile=cloud-optimized', 'roles': ['data'], 'title': 'Band 11 - SWIR (1.6) - 20m', 'eo:bands': [{'name': 'B11', 'common_name': 'swir16', 'description': 'Band 11 - SWIR (1.6)', 'center_wavelength': 1.61, 'full_width_half_max': 0.143}]}, 'B12': {'gsd': 20, 'type': 'image/tiff; application=geotiff; profile=cloud-optimized', 'roles': ['data'], 'title': 'Band 12 - SWIR (2.2) - 20m', 'eo:bands': [{'name': 'B12', 'common_name': 'swir22', 'description': 'Band 12 - SWIR (2.2)', 'center_wavelength': 2.19, 'full_width_half_max': 0.242}]}, 'B8A': {'gsd': 20, 'type': 'image/tiff; application=geotiff; profile=cloud-optimized', 'roles': ['data'], 'title': 'Band 8A - Vegetation red edge 4 - 20m', 'eo:bands': [{'name': 'B8A', 'common_name': 'rededge', 'description': 'Band 8A - Vegetation red edge 4', 'center_wavelength': 0.865, 'full_width_half_max': 0.033}]}, 'SCL': {'gsd': 20, 'type': 'image/tiff; application=geotiff; profile=cloud-optimized', 'roles': ['data'], 'title': 'Scene classfication map (SCL)'}, 'WVP': {'gsd': 10, 'type': 'image/tiff; application=geotiff; profile=cloud-optimized', 'roles': ['data'], 'title': 'Water vapour (WVP)'}, 'visual': {'gsd': 10, 'type': 'image/tiff; application=geotiff; profile=cloud-optimized', 'roles': ['data'], 'title': 'True color image', 'eo:bands': [{'name': 'B04', 'common_name': 'red', 'description': 'Band 4 - Red', 'center_wavelength': 0.665, 'full_width_half_max': 0.038}, {'name': 'B03', 'common_name': 'green', 'description': 'Band 3 - Green', 'center_wavelength': 0.56, 'full_width_half_max': 0.045}, {'name': 'B02', 'common_name': 'blue', 'description': 'Band 2 - Blue', 'center_wavelength': 0.49, 'full_width_half_max': 0.098}]}, 'preview': {'type': 'image/tiff; application=geotiff; profile=cloud-optimized', 'roles': ['thumbnail'], 'title': 'Thumbnail'}, 'safe-manifest': {'type': 'application/xml', 'roles': ['metadata'], 'title': 'SAFE manifest'}, 'granule-metadata': {'type': 'application/xml', 'roles': ['metadata'], 'title': 'Granule metadata'}, 'inspire-metadata': {'type': 'application/xml', 'roles': ['metadata'], 'title': 'INSPIRE metadata'}, 'product-metadata': {'type': 'application/xml', 'roles': ['metadata'], 'title': 'Product metadata'}, 'datastrip-metadata': {'type': 'application/xml', 'roles': ['metadata'], 'title': 'Datastrip metadata'}}, 'msft:region': 'westeurope', 'stac_version': '1.0.0', 'msft:_created': '2025-05-30T13:51:04.7570215Z', 'msft:_updated': '2025-05-30T14:11:36.334817Z', 'stac_extensions': ['https://stac-extensions.github.io/item-assets/v1.0.0/schema.json', 'https://stac-extensions.github.io/table/v1.2.0/schema.json'], 'msft:short_description': 'The Sentinel-2 program provides global imagery in thirteen spectral bands at 10m-60m resolution and a revisit time of approximately five days.  This dataset contains the global Sentinel-2 archive, from 2016 to the present, processed to L2A (bottom-of-atmosphere).'}, {'id': 'example-collection5', 'type': 'Collection', 'links': [{'rel': 'items', 'type': 'application/geo+json', 'href': 'https://test-accessibility.h5d5a9crhnc8deaz.uksouth.geocatalog.spatio.azure.com/stac/collections/example-collection5/items'}, {'rel': 'parent', 'type': 'application/json', 'href': 'https://test-accessibility.h5d5a9crhnc8deaz.uksouth.geocatalog.spatio.azure.com/stac/'}, {'rel': 'root', 'type': 'application/json', 'href': 'https://test-accessibility.h5d5a9crhnc8deaz.uksouth.geocatalog.spatio.azure.com/stac/'}, {'rel': 'self', 'type': 'application/json', 'href': 'https://test-accessibility.h5d5a9crhnc8deaz.uksouth.geocatalog.spatio.azure.com/stac/collections/example-collection5'}], 'title': 'Example Collection', 'extent': {'spatial': {'bbox': [[-180, -90, 180, 90]]}, 'temporal': {'interval': [['2018-01-01T00:00:00Z', '2018-12-31T23:59:59Z']]}}, 'license': 'CC-BY-4.0', 'description': 'An example collection', 'stac_version': '1.0.0', 'msft:_created': '2025-05-30T15:22:06.7061027Z', 'msft:_updated': '2025-05-30T15:22:06.7061027Z', 'msft:short_description': 'An example collection'}, {'id': 'example-collection7', 'type': 'Collection', 'links': [{'rel': 'items', 'type': 'application/geo+json', 'href': 'https://test-accessibility.h5d5a9crhnc8deaz.uksouth.geocatalog.spatio.azure.com/stac/collections/example-collection7/items'}, {'rel': 'parent', 'type': 'application/json', 'href': 'https://test-accessibility.h5d5a9crhnc8deaz.uksouth.geocatalog.spatio.azure.com/stac/'}, {'rel': 'root', 'type': 'application/json', 'href': 'https://test-accessibility.h5d5a9crhnc8deaz.uksouth.geocatalog.spatio.azure.com/stac/'}, {'rel': 'self', 'type': 'application/json', 'href': 'https://test-accessibility.h5d5a9crhnc8deaz.uksouth.geocatalog.spatio.azure.com/stac/collections/example-collection7'}], 'title': 'Example Collection', 'extent': {'spatial': {'bbox': [[-180, -90, 180, 90]]}, 'temporal': {'interval': [['2018-01-01T00:00:00Z', '2018-12-31T23:59:59Z']]}}, 'license': 'CC-BY-4.0', 'description': 'An example collection', 'stac_version': '1.0.0', 'msft:_created': '2025-06-04T00:03:14.801071Z', 'msft:_updated': '2025-06-04T00:03:14.801071Z', 'msft:short_description': 'An example collection'}, {'id': 'python-sdk-test-collection', 'type': 'Collection', 'links': [{'rel': 'items', 'type': 'application/geo+json', 'href': 'https://test-accessibility.h5d5a9crhnc8deaz.uksouth.geocatalog.spatio.azure.com/stac/collections/python-sdk-test-collection/items'}, {'rel': 'parent', 'type': 'application/json', 'href': 'https://test-accessibility.h5d5a9crhnc8deaz.uksouth.geocatalog.spatio.azure.com/stac/'}, {'rel': 'root', 'type': 'application/json', 'href': 'https://test-accessibility.h5d5a9crhnc8deaz.uksouth.geocatalog.spatio.azure.com/stac/'}, {'rel': 'self', 'type': 'application/json', 'href': 'https://test-accessibility.h5d5a9crhnc8deaz.uksouth.geocatalog.spatio.azure.com/stac/collections/python-sdk-test-collection'}], 'title': 'Python SDK Test Collection', 'extent': {'spatial': {'bbox': [[-180, -90, 180, 90]]}, 'temporal': {'interval': [['2020-01-01T00:00:00Z', None]]}}, 'license': 'CC-BY-4.0', 'description': 'Tutorial collection for integration tests', 'item_assets': {'GEC': {'type': 'image/tiff; application=geotiff; profile=cloud-optimized', 'roles': ['data'], 'title': 'VV polarization', 'description': 'Gamma naught values corrected for terrain', 'raster:bands': [{'nodata': -32768, 'data_type': 'uint8', 'spatial_resolution': 0.477}]}}, 'stac_version': '1.0.0', 'msft:_created': '2025-06-09T21:28:12.2192854Z', 'msft:_updated': '2025-08-04T21:12:33.6600226Z'}], 'links': [{'rel': 'root', 'type': 'application/json', 'href': 'https://test-accessibility.h5d5a9crhnc8deaz.uksouth.geocatalog.spatio.azure.com/stac/'}, {'rel': 'parent', 'type': 'application/json', 'href': 'https://test-accessibility.h5d5a9crhnc8deaz.uksouth.geocatalog.spatio.azure.com/stac/'}, {'rel': 'self', 'type': 'application/json', 'href': 'https://test-accessibility.h5d5a9crhnc8deaz.uksouth.geocatalog.spatio.azure.com/stac/collections'}]}\n",
      "Collection python-sdk-test-collection already exists.\n"
     ]
    }
   ],
   "source": [
    "# Create Collection\n",
    "# TODO: Fix TypeSpec so that 200 is a valid response code when begin_create_or_update is used to make the notebook idempotent\n",
    "get_all_collections_response = client.stac_collection_operations.get_all()\n",
    "print(collections)\n",
    "if any(c[\"id\"] == collection_id for c in get_all_collections_response[\"collections\"]):\n",
    "    print(f\"Collection {collection_id} already exists.\")\n",
    "else:\n",
    "    collection_create_operation = client.stac_collection_operations.begin_create(body=collection_payload, polling=False)\n",
    "    collection_create_operation.result()\n",
    " "
   ]
  },
  {
   "cell_type": "code",
   "execution_count": null,
   "id": "bc671969-55cf-4118-a84d-41f0c3c1d43e",
   "metadata": {},
   "outputs": [],
   "source": []
  },
  {
   "cell_type": "code",
   "execution_count": 18,
   "id": "cdddf2c9-ec8f-4a5f-8efc-7e97b8f0d0db",
   "metadata": {},
   "outputs": [
    {
     "data": {
      "text/plain": [
       "{'id': 'python-sdk-test-collection', 'type': 'Collection', 'links': [{'rel': 'items', 'type': 'application/geo+json', 'href': 'https://test-accessibility.h5d5a9crhnc8deaz.uksouth.geocatalog.spatio.azure.com/stac/collections/python-sdk-test-collection/items'}, {'rel': 'parent', 'type': 'application/json', 'href': 'https://test-accessibility.h5d5a9crhnc8deaz.uksouth.geocatalog.spatio.azure.com/stac/'}, {'rel': 'root', 'type': 'application/json', 'href': 'https://test-accessibility.h5d5a9crhnc8deaz.uksouth.geocatalog.spatio.azure.com/stac/'}, {'rel': 'self', 'type': 'application/json', 'href': 'https://test-accessibility.h5d5a9crhnc8deaz.uksouth.geocatalog.spatio.azure.com/stac/collections/python-sdk-test-collection'}], 'title': 'Python SDK Test Collection', 'extent': {'spatial': {'bbox': [[-180, -90, 180, 90]]}, 'temporal': {'interval': [['2020-01-01T00:00:00Z', None]]}}, 'license': 'CC-BY-4.0', 'description': 'Tutorial collection for integration tests', 'item_assets': {'GEC': {'type': 'image/tiff; application=geotiff; profile=cloud-optimized', 'roles': ['data'], 'title': 'VV polarization', 'description': 'Gamma naught values corrected for terrain', 'raster:bands': [{'nodata': -32768, 'data_type': 'uint8', 'spatial_resolution': 0.477}]}}, 'stac_version': '1.0.0', 'msft:_created': '2025-06-09T21:28:12.2192854Z', 'msft:_updated': '2025-08-04T21:12:33.6600226Z'}"
      ]
     },
     "execution_count": 18,
     "metadata": {},
     "output_type": "execute_result"
    }
   ],
   "source": [
    "# Get Collection\n",
    "client.stac_collection_operations.get(collection_id=collection_id)"
   ]
  },
  {
   "cell_type": "code",
   "execution_count": 19,
   "id": "b57ee7cc-2f14-4006-9563-10f9218e55a6",
   "metadata": {},
   "outputs": [],
   "source": [
    "import json\n",
    "from io import BytesIO\n",
    "import requests\n",
    "\n",
    "thumbnail_url = \"https://ai4edatasetspublicassets.blob.core.windows.net/assets/pc_thumbnails/sentinel-2.png\"\n",
    "# Define thumbnail asset metadata\n",
    "data_str = json.dumps({\n",
    "    \"key\": \"thumbnail\",\n",
    "    \"href\": thumbnail_url,\n",
    "    \"type\": \"image/png\",\n",
    "    \"roles\": [\"thumbnail\"],\n",
    "    \"title\": \"Sentinel-2 preview\"\n",
    "})\n",
    "\n",
    "# Download thumbnail\n",
    "thumbnail_bytes = BytesIO(requests.get(thumbnail_url).content)\n",
    "thumbnail_tuple = (\"thumbnail.png\", thumbnail_bytes)"
   ]
  },
  {
   "cell_type": "code",
   "execution_count": 20,
   "id": "dad40d6a-adb2-4f42-80ed-396089a1061e",
   "metadata": {},
   "outputs": [
    {
     "data": {
      "text/plain": [
       "{'type': 'Collection', 'id': 'python-sdk-test-collection', 'stac_version': '1.0.0', 'description': 'Tutorial collection for integration tests', 'links': [{'rel': 'items', 'type': 'application/geo+json', 'href': 'https://test-accessibility.h5d5a9crhnc8deaz.uksouth.geocatalog.spatio.azure.com/stac/collections/python-sdk-test-collection/items'}, {'rel': 'parent', 'type': 'application/json', 'href': 'https://test-accessibility.h5d5a9crhnc8deaz.uksouth.geocatalog.spatio.azure.com/stac/'}, {'rel': 'root', 'type': 'application/json', 'href': 'https://test-accessibility.h5d5a9crhnc8deaz.uksouth.geocatalog.spatio.azure.com/stac/'}, {'rel': 'self', 'type': 'application/json', 'href': 'https://test-accessibility.h5d5a9crhnc8deaz.uksouth.geocatalog.spatio.azure.com/stac/collections/python-sdk-test-collection'}], 'item_assets': {'GEC': {'type': 'image/tiff; application=geotiff; profile=cloud-optimized', 'roles': ['data'], 'title': 'VV polarization', 'description': 'Gamma naught values corrected for terrain', 'raster:bands': [{'nodata': -32768, 'data_type': 'uint8', 'spatial_resolution': 0.477}]}}, 'msft:_created': '2025-06-09T21:28:12.2192854Z', 'msft:_updated': '2025-08-04T21:20:37.457694Z', 'title': 'Python SDK Test Collection', 'extent': {'spatial': {'bbox': [[-180, -90, 180, 90]]}, 'temporal': {'interval': [['2020-01-01T00:00:00Z', None]]}}, 'license': 'CC-BY-4.0', 'assets': {'thumbnail': {'href': 'https://vojrtgdatasa.blob.core.windows.net/python-sdk-test-collection-57f0c4b8/collection-assets/thumbnail/thumbnail.png', 'type': 'image/png', 'title': 'Sentinel-2 preview', 'roles': ['thumbnail']}}}"
      ]
     },
     "execution_count": 20,
     "metadata": {},
     "output_type": "execute_result"
    }
   ],
   "source": [
    "# Create Collection Asset\n",
    "client.stac_collection_assets.create(\n",
    "    collection_id=collection_id, \n",
    "    body={\n",
    "        \"data\": json.loads(data_str),\n",
    "        \"file\": thumbnail_tuple\n",
    "    })"
   ]
  },
  {
   "cell_type": "code",
   "execution_count": 21,
   "id": "83d84268-9ce0-45e0-819d-89f2d6272e4d",
   "metadata": {},
   "outputs": [],
   "source": [
    "search_body = {\n",
    "    \"collections\": [collection_id],\n",
    "    \"bbox\": [-70.9, -33.5, -70.7, -33.3],\n",
    "    \"datetime\": \"2023-01-01T00:00:00Z/2023-12-31T23:59:59Z\"\n",
    "}\n",
    "# Create Search\n",
    "search_response = client.stac_search_operations.create(body=search_body)"
   ]
  },
  {
   "cell_type": "code",
   "execution_count": 22,
   "id": "b7b91849-207a-4f14-bad7-5e1c627a08d3",
   "metadata": {},
   "outputs": [
    {
     "data": {
      "text/plain": [
       "{'type': 'FeatureCollection', 'features': [], 'links': [{'rel': 'root', 'type': 'application/json', 'href': 'https://test-accessibility.h5d5a9crhnc8deaz.uksouth.geocatalog.spatio.azure.com/stac/'}, {'rel': 'self', 'type': 'application/json', 'href': 'https://test-accessibility.h5d5a9crhnc8deaz.uksouth.geocatalog.spatio.azure.com/stac/search?api-version=2025-04-30-preview'}]}"
      ]
     },
     "execution_count": 22,
     "metadata": {},
     "output_type": "execute_result"
    }
   ],
   "source": [
    "search_response"
   ]
  },
  {
   "cell_type": "code",
   "execution_count": 53,
   "id": "ee17f4ae",
   "metadata": {},
   "outputs": [
    {
     "name": "stdout",
     "output_type": "stream",
     "text": [
      "[{'id': '990ed5b4-c7fa-4544-8253-9904f47f2317', 'kind': 'BlobManagedIdentity', 'created': '2025-08-04T21:33:40.7595453Z'}]\n",
      "[]\n",
      "No ingestion sources found, as expected.\n"
     ]
    }
   ],
   "source": [
    "# Delete ingestion sources\n",
    "\n",
    "list_ingestion_sources_response = client.ingestion_sources.list_all()\n",
    "print(list_ingestion_sources_response[\"value\"])\n",
    "\n",
    "for ingestion_source in list_ingestion_sources_response[\"value\"]:\n",
    "    client.ingestion_sources.delete(id=ingestion_source[\"id\"])\n",
    "\n",
    "list_ingestion_sources_response = client.ingestion_sources.list_all()\n",
    "print(list_ingestion_sources_response[\"value\"])\n",
    "\n",
    "if not list_ingestion_sources_response[\"value\"]:\n",
    "    print(\"No ingestion sources found, as expected.\")"
   ]
  },
  {
   "cell_type": "code",
   "execution_count": null,
   "id": "9d99f8e5-dcef-4fbb-9edd-57a0295ea171",
   "metadata": {},
   "outputs": [
    {
     "name": "stdout",
     "output_type": "stream",
     "text": [
      "{'id': 'b34de676-8a4f-473d-b8a7-59970a411e23', 'kind': 'BlobManagedIdentity', 'created': '2025-08-04T21:37:38.4058314Z', 'connectionInfo': {'containerUrl': 'https://datazoo.blob.core.windows.net/sentinel2static', 'objectId': 'ebad594e-84af-49da-89db-7bffc9c39f3a'}}\n"
     ]
    }
   ],
   "source": [
    "create_ingestion_source_response = client.ingestion_sources.create(\n",
    "    ingestion_source= {\n",
    "        \"connectionInfo\": {\n",
    "                \"containerUrl\": \"https://datazoo.blob.core.windows.net/sentinel2static\",\n",
    "                \"objectId\": \"ebad594e-84af-49da-89db-7bffc9c39f3a\"\n",
    "            },\n",
    "        \"kind\": \"BlobManagedIdentity\"\n",
    "    }\n",
    ")\n",
    "\n",
    "print(create_ingestion_source_response)\n",
    "ingestion_source_id"
   ]
  },
  {
   "cell_type": "code",
   "execution_count": 65,
   "id": "6bee807c",
   "metadata": {},
   "outputs": [
    {
     "data": {
      "text/plain": [
       "'b34de676-8a4f-473d-b8a7-59970a411e23'"
      ]
     },
     "execution_count": 65,
     "metadata": {},
     "output_type": "execute_result"
    }
   ],
   "source": [
    "ingestion_source_id"
   ]
  },
  {
   "cell_type": "code",
   "execution_count": 66,
   "id": "4a419d55-6f49-4a18-bf79-d6430e3d0d61",
   "metadata": {},
   "outputs": [
    {
     "data": {
      "text/plain": [
       "{'id': 'b34de676-8a4f-473d-b8a7-59970a411e23', 'kind': 'BlobManagedIdentity', 'created': '2025-08-04T21:37:38.4058314Z', 'connectionInfo': {'containerUrl': 'https://datazoo.blob.core.windows.net/sentinel2static', 'objectId': 'ebad594e-84af-49da-89db-7bffc9c39f3a'}}"
      ]
     },
     "execution_count": 66,
     "metadata": {},
     "output_type": "execute_result"
    }
   ],
   "source": [
    "client.ingestion_sources.get(ingestion_source_id)"
   ]
  },
  {
   "cell_type": "code",
   "execution_count": 82,
   "id": "86457786-7192-4ddd-8316-17eef1bb253a",
   "metadata": {},
   "outputs": [],
   "source": [
    "# create ingestion\n",
    "response = client.ingestions.create(\n",
    "        collection_id=collection_id,\n",
    "        definition={\n",
    "            \"name\": \"Sentinel-2 CAMSFO Ingestion\",\n",
    "            \"importType\": \"StaticCatalog\",\n",
    "            \"keepOriginalAssets\": False,\n",
    "            \"skipExistingItems\": False,\n",
    "            \"sourceCatalogUrl\": \"https://datazoo.blob.core.windows.net/sentinel2/S2A_MSIL2A_20230815T030551_N0509_R075_T50TMK_20230815T082905.SAFE/GRANULE/L2A_T50TMK_A042543_20230815T031445/AUX_DATA/AUX_CAMSFO\",\n",
    "        },\n",
    "    )"
   ]
  },
  {
   "cell_type": "code",
   "execution_count": 83,
   "id": "0ed6edb5-a697-4a01-9854-c8e7e709f264",
   "metadata": {},
   "outputs": [],
   "source": [
    "response\n",
    "ingestion_id = response[\"id\"]"
   ]
  },
  {
   "cell_type": "code",
   "execution_count": 84,
   "id": "c801e0c7-c014-45bf-b23f-94e5530ea1f3",
   "metadata": {},
   "outputs": [
    {
     "data": {
      "text/plain": [
       "{'id': '1b8eee37-6926-4c55-bbfc-30c47ce0f599', 'creationTime': '2025-08-04T21:43:30.3463438Z', 'sourceCatalogUrl': 'https://datazoo.blob.core.windows.net/sentinel2/S2A_MSIL2A_20230815T030551_N0509_R075_T50TMK_20230815T082905.SAFE/GRANULE/L2A_T50TMK_A042543_20230815T031445/AUX_DATA/AUX_CAMSFO', 'skipExistingItems': False, 'keepOriginalAssets': False, 'operation': {'id': '1b8eee37-6926-4c55-bbfc-30c47ce0f599', 'status': 'Pending', 'statusHistory': [{'status': 'Pending', 'timestamp': '2025-08-04T21:43:30.3195115Z'}], 'creationTime': '2025-08-04T21:43:30.3195097Z', 'totalItems': 0, 'totalPendingItems': 0, 'totalSuccessfulItems': 0, 'totalFailedItems': 0}}"
      ]
     },
     "execution_count": 84,
     "metadata": {},
     "output_type": "execute_result"
    }
   ],
   "source": [
    "# create run\n",
    "ingestion_id = ingestion_id\n",
    "client.ingestions.ingestion_runs.create(\n",
    "    collection_id = collection_id,\n",
    "    ingestion_id = response.id\n",
    ")"
   ]
  },
  {
   "cell_type": "code",
   "execution_count": 85,
   "id": "a7e96ad7-093f-499c-aa7e-a89fb4227fb9",
   "metadata": {},
   "outputs": [
    {
     "data": {
      "text/plain": [
       "{'value': [{'id': '1b8eee37-6926-4c55-bbfc-30c47ce0f599', 'creationTime': '2025-08-04T21:43:30.3463438Z', 'sourceCatalogUrl': 'https://datazoo.blob.core.windows.net/sentinel2/S2A_MSIL2A_20230815T030551_N0509_R075_T50TMK_20230815T082905.SAFE/GRANULE/L2A_T50TMK_A042543_20230815T031445/AUX_DATA/AUX_CAMSFO', 'skipExistingItems': False, 'keepOriginalAssets': False, 'operation': {'id': '1b8eee37-6926-4c55-bbfc-30c47ce0f599', 'status': 'Failed', 'statusHistory': [{'status': 'Pending', 'timestamp': '2025-08-04T21:43:30.319509Z'}, {'status': 'Running', 'timestamp': '2025-08-04T21:43:30.81894Z'}, {'status': 'Failed', 'timestamp': '2025-08-04T21:43:31.191037Z', 'errorCode': 'PublicAccessRestricted', 'errorMessage': 'Error retrieving content from public source. Reason: Public access is not permitted on this storage account. Source: https://datazoo.blob.core.windows.net/sentinel2/S2A_MSIL2A_20230815T030551_N0509_R075_T50TMK_20230815T082905.SAFE/GRANULE/L2A_T50TMK_A042543_20230815T031445/AUX_DATA/AUX_CAMSFO'}], 'creationTime': '2025-08-04T21:43:30.319509Z', 'startTime': '2025-08-04T21:43:30.319509Z', 'finishTime': '2025-08-04T21:43:31.191037Z', 'totalItems': 0, 'totalPendingItems': 0, 'totalSuccessfulItems': 0, 'totalFailedItems': 0}}]}"
      ]
     },
     "execution_count": 85,
     "metadata": {},
     "output_type": "execute_result"
    }
   ],
   "source": [
    "# list runs\n",
    "client.ingestions.ingestion_runs.list_all(\n",
    "         ingestion_id=ingestion_id,\n",
    "        collection_id=collection_id,\n",
    "    )"
   ]
  },
  {
   "cell_type": "code",
   "execution_count": 86,
   "id": "c597936a-82ef-4937-a239-c39643e42f2f",
   "metadata": {},
   "outputs": [
    {
     "data": {
      "text/plain": [
       "<azure.core.polling._poller.LROPoller at 0x17b53e92990>"
      ]
     },
     "execution_count": 86,
     "metadata": {},
     "output_type": "execute_result"
    }
   ],
   "source": [
    "client.ingestions.begin_delete(\n",
    "    collection_id = collection_id,\n",
    "    ingestion_id = response.id,\n",
    "    polling = False\n",
    ")"
   ]
  },
  {
   "cell_type": "code",
   "execution_count": null,
   "id": "3e6abfee-9a88-4c1f-b2a5-a701e6847bd2",
   "metadata": {},
   "outputs": [
    {
     "ename": "TypeError",
     "evalue": "azure.planetarycomputer.models._models.StacItemOrItemCollection.__init__() got multiple values for keyword argument 'type'",
     "output_type": "error",
     "traceback": [
      "\u001b[31m---------------------------------------------------------------------------\u001b[39m",
      "\u001b[31mTypeError\u001b[39m                                 Traceback (most recent call last)",
      "\u001b[36mCell\u001b[39m\u001b[36m \u001b[39m\u001b[32mIn[87]\u001b[39m\u001b[32m, line 58\u001b[39m\n\u001b[32m     56\u001b[39m \u001b[38;5;28;01mfrom\u001b[39;00m\u001b[38;5;250m \u001b[39m\u001b[34;01mazure\u001b[39;00m\u001b[34;01m.\u001b[39;00m\u001b[34;01mplanetarycomputer\u001b[39;00m\u001b[34;01m.\u001b[39;00m\u001b[34;01mmodels\u001b[39;00m\u001b[38;5;250m \u001b[39m\u001b[38;5;28;01mimport\u001b[39;00m StacItem\n\u001b[32m     57\u001b[39m \u001b[38;5;28;01mfrom\u001b[39;00m\u001b[38;5;250m \u001b[39m\u001b[34;01mazure\u001b[39;00m\u001b[34;01m.\u001b[39;00m\u001b[34;01mplanetarycomputer\u001b[39;00m\u001b[34;01m.\u001b[39;00m\u001b[34;01mmodels\u001b[39;00m\u001b[38;5;250m \u001b[39m\u001b[38;5;28;01mimport\u001b[39;00m Link\n\u001b[32m---> \u001b[39m\u001b[32m58\u001b[39m stac_item = \u001b[43mStacItem\u001b[49m\u001b[43m(\u001b[49m\n\u001b[32m     59\u001b[39m \u001b[43m    \u001b[49m\u001b[38;5;28;43mtype\u001b[39;49m\u001b[43m=\u001b[49m\u001b[33;43m\"\u001b[39;49m\u001b[33;43mFeature\u001b[39;49m\u001b[33;43m\"\u001b[39;49m\u001b[43m,\u001b[49m\n\u001b[32m     60\u001b[39m \u001b[43m    \u001b[49m\u001b[43mgeometry\u001b[49m\u001b[43m=\u001b[49m\u001b[43mgeometry\u001b[49m\u001b[43m,\u001b[49m\n\u001b[32m     61\u001b[39m \u001b[43m    \u001b[49m\u001b[43mbbox\u001b[49m\u001b[43m=\u001b[49m\u001b[43mbbox\u001b[49m\u001b[43m,\u001b[49m\n\u001b[32m     62\u001b[39m \u001b[43m    \u001b[49m\u001b[43mstac_version\u001b[49m\u001b[43m=\u001b[49m\u001b[33;43m\"\u001b[39;49m\u001b[33;43m1.0.0\u001b[39;49m\u001b[33;43m\"\u001b[39;49m\u001b[43m,\u001b[49m\n\u001b[32m     63\u001b[39m \u001b[43m    \u001b[49m\u001b[43mproperties\u001b[49m\u001b[43m=\u001b[49m\u001b[43mproperties\u001b[49m\u001b[43m,\u001b[49m\n\u001b[32m     64\u001b[39m \u001b[43m    \u001b[49m\u001b[43mlinks\u001b[49m\u001b[43m=\u001b[49m\u001b[43m[\u001b[49m\u001b[43mLink\u001b[49m\u001b[43m(\u001b[49m\u001b[43mrel\u001b[49m\u001b[43m=\u001b[49m\u001b[33;43m\"\u001b[39;49m\u001b[33;43mcollection\u001b[39;49m\u001b[33;43m\"\u001b[39;49m\u001b[43m,\u001b[49m\n\u001b[32m     65\u001b[39m \u001b[43m                \u001b[49m\u001b[43mhref\u001b[49m\u001b[43m=\u001b[49m\u001b[33;43m\"\u001b[39;49m\u001b[33;43mhttps://test-accessibility.h5d5a9crhnc8deaz.uksouth.geocatalog.spatio.azure.com/stac/collections/python-sdk-test-collection\u001b[39;49m\u001b[33;43m\"\u001b[39;49m\u001b[43m)\u001b[49m\u001b[43m]\u001b[49m\u001b[43m,\u001b[49m\n\u001b[32m     66\u001b[39m \u001b[43m    \u001b[49m\u001b[43massets\u001b[49m\u001b[43m=\u001b[49m\u001b[43m{\u001b[49m\u001b[33;43m\"\u001b[39;49m\u001b[33;43mAOT\u001b[39;49m\u001b[33;43m\"\u001b[39;49m\u001b[43m:\u001b[49m\u001b[43m \u001b[49m\u001b[43m{\u001b[49m\n\u001b[32m     67\u001b[39m \u001b[43m            \u001b[49m\u001b[33;43m\"\u001b[39;49m\u001b[33;43mhref\u001b[39;49m\u001b[33;43m\"\u001b[39;49m\u001b[43m:\u001b[49m\u001b[43m \u001b[49m\u001b[33;43m\"\u001b[39;49m\u001b[33;43mhttps://datazoo.blob.core.windows.net/sentinel2static/items/S2A_MSIL2A_20230815T030551_R075_T50TMK_20230815T082905.json\u001b[39;49m\u001b[33;43m\"\u001b[39;49m\n\u001b[32m     68\u001b[39m \u001b[43m        \u001b[49m\u001b[43m}\u001b[49m\u001b[43m}\u001b[49m\u001b[43m,\u001b[49m\n\u001b[32m     69\u001b[39m \u001b[43m    \u001b[49m\u001b[38;5;28;43mid\u001b[39;49m\u001b[43m=\u001b[49m\u001b[33;43m\"\u001b[39;49m\u001b[33;43mS2A_MSIL2A_20230815T030551_R075_T50TMK_20230815T082908\u001b[39;49m\u001b[33;43m\"\u001b[39;49m\u001b[43m,\u001b[49m\n\u001b[32m     70\u001b[39m \u001b[43m    \u001b[49m\u001b[43mcollection\u001b[49m\u001b[43m=\u001b[49m\u001b[43mcollection_id\u001b[49m\n\u001b[32m     71\u001b[39m \u001b[43m    \u001b[49m\u001b[43m)\u001b[49m\n",
      "\u001b[36mFile \u001b[39m\u001b[32mq:\\repos\\azure-sdk-for-python\\sdk\\planetarycomputer\\azure-planetarycomputer\\azure\\planetarycomputer\\models\\_models.py:3589\u001b[39m, in \u001b[36mStacItem.__init__\u001b[39m\u001b[34m(self, *args, **kwargs)\u001b[39m\n\u001b[32m   3588\u001b[39m \u001b[38;5;28;01mdef\u001b[39;00m\u001b[38;5;250m \u001b[39m\u001b[34m__init__\u001b[39m(\u001b[38;5;28mself\u001b[39m, *args: Any, **kwargs: Any) -> \u001b[38;5;28;01mNone\u001b[39;00m:\n\u001b[32m-> \u001b[39m\u001b[32m3589\u001b[39m     \u001b[38;5;28msuper\u001b[39m().\u001b[34m__init__\u001b[39m(*args, \u001b[38;5;28mtype\u001b[39m=StacModelType.FEATURE, **kwargs)\n",
      "\u001b[31mTypeError\u001b[39m: azure.planetarycomputer.models._models.StacItemOrItemCollection.__init__() got multiple values for keyword argument 'type'"
     ]
    }
   ],
   "source": [
    "geometry = {'type': 'Polygon',\n",
    " 'coordinates': [[[-22.3257229, 63.0320389],\n",
    "   [-22.4023885, 63.047747],\n",
    "   [-22.4016604, 63.0485574],\n",
    "   [-22.4028808, 63.0487921],\n",
    "   [-22.4028386, 63.0488391],\n",
    "   [-22.4054314, 63.049339],\n",
    "   [-22.4050627, 63.04975],\n",
    "   [-22.8228334, 63.1299748],\n",
    "   [-22.822979, 63.12981],\n",
    "   [-22.8231846, 63.1298495],\n",
    "   [-22.8240444, 63.1288771],\n",
    "   [-22.8563547, 63.1348829],\n",
    "   [-22.9863784, 63.1590603],\n",
    "   [-23.0464985, 64.0127397],\n",
    "   [-20.8002655, 64.0270166],\n",
    "   [-20.8070398, 63.0416105],\n",
    "   [-22.3257229, 63.0320389]]]}\n",
    "\n",
    "bbox = [-23.04649848, 63.03203887, -20.80026553, 64.02701664]\n",
    "\n",
    "properties = {'datetime': '2024-02-11T13:12:51.024000Z',\n",
    " 'platform': 'Sentinel-2A',\n",
    " 'proj:epsg': 32627,\n",
    " 'instruments': ['msi'],\n",
    " 's2:mgrs_tile': '27VVL',\n",
    " 'constellation': 'Sentinel 2',\n",
    " 's2:granule_id': 'S2A_OPER_MSI_L2A_TL_MSFT_20240211T171119_A045123_T27VVL_N05.10',\n",
    " 'eo:cloud_cover': 82.178414,\n",
    " 's2:datatake_id': 'GS2A_20240211T131251_045123_N05.10',\n",
    " 's2:product_uri': 'S2A_MSIL2A_20240211T131251_N0510_R081_T27VVL_20240211T171119.SAFE',\n",
    " 's2:datastrip_id': 'S2A_OPER_MSI_L2A_DS_MSFT_20240211T171119_S20240211T131252_N05.10',\n",
    " 's2:product_type': 'S2MSI2A',\n",
    " 'sat:orbit_state': 'descending',\n",
    " 's2:datatake_type': 'INS-NOBS',\n",
    " 's2:generation_time': '2024-02-11T17:11:19.61018Z',\n",
    " 'sat:relative_orbit': 81,\n",
    " 's2:water_percentage': 11.673754,\n",
    " 's2:mean_solar_zenith': 77.7957267607447,\n",
    " 's2:mean_solar_azimuth': 173.129930934397,\n",
    " 's2:processing_baseline': '05.10',\n",
    " 's2:snow_ice_percentage': 5.765103,\n",
    " 's2:vegetation_percentage': 0.000366,\n",
    " 's2:thin_cirrus_percentage': 32.264775,\n",
    " 's2:cloud_shadow_percentage': 0.193934,\n",
    " 's2:nodata_pixel_percentage': 1.963673,\n",
    " 's2:unclassified_percentage': 3.7e-05,\n",
    " 's2:dark_features_percentage': 0.151322,\n",
    " 's2:not_vegetated_percentage': 0.037065,\n",
    " 's2:degraded_msi_data_percentage': 0.0235,\n",
    " 's2:high_proba_clouds_percentage': 26.63025,\n",
    " 's2:reflectance_conversion_factor': 1.02824644491128,\n",
    " 's2:medium_proba_clouds_percentage': 23.283391,\n",
    " 's2:saturated_defective_pixel_percentage': 0.0}\n",
    "\n",
    "from azure.planetarycomputer.models import StacItem\n",
    "from azure.planetarycomputer.models import Link\n",
    "stac_item = StacItem(\n",
    "    geometry=geometry,\n",
    "    bbox=bbox,\n",
    "    stac_version=\"1.0.0\",\n",
    "    properties=properties,\n",
    "    links=[Link(rel=\"collection\",\n",
    "                href=\"https://test-accessibility.h5d5a9crhnc8deaz.uksouth.geocatalog.spatio.azure.com/stac/collections/python-sdk-test-collection\")],\n",
    "    assets={\"AOT\": {\n",
    "            \"href\": \"https://datazoo.blob.core.windows.net/sentinel2static/items/S2A_MSIL2A_20230815T030551_R075_T50TMK_20230815T082905.json\"\n",
    "        }},\n",
    "    id=\"S2A_MSIL2A_20230815T030551_R075_T50TMK_20230815T082908\",\n",
    "    collection=collection_id\n",
    "    )"
   ]
  },
  {
   "cell_type": "code",
   "execution_count": null,
   "id": "afb13331-ac41-4a15-a477-97d198d8b5cd",
   "metadata": {},
   "outputs": [],
   "source": [
    "# Create Stac Item\n",
    "operation = client.stac_items.begin_create(\n",
    "    collection_id=collection_id,\n",
    "    body=stac_item\n",
    ")"
   ]
  },
  {
   "cell_type": "code",
   "execution_count": null,
   "id": "03fdd9c5-8b08-4dae-b3b6-6d7b36c8b9e6",
   "metadata": {},
   "outputs": [],
   "source": [
    "operation.result() # STAC item creation fails"
   ]
  },
  {
   "cell_type": "code",
   "execution_count": null,
   "id": "43d5abcb-e3af-4fcd-809f-b7652ba0f8d2",
   "metadata": {},
   "outputs": [],
   "source": [
    "# List All ingestion Operations\n",
    "operations = client.ingestion_operations.list_all(collection_id=collection_id)"
   ]
  },
  {
   "cell_type": "code",
   "execution_count": null,
   "id": "718e7170-e961-4b46-820b-a18252248065",
   "metadata": {},
   "outputs": [],
   "source": [
    "len(operations[\"value\"])"
   ]
  },
  {
   "cell_type": "code",
   "execution_count": null,
   "id": "004af6aa-e1c8-429d-8dd6-61d8207b3fbb",
   "metadata": {},
   "outputs": [],
   "source": [
    "# Get Collection\n",
    "client.stac_collection_operations.get(collection_id=collection_id)"
   ]
  },
  {
   "cell_type": "code",
   "execution_count": null,
   "id": "a6167c9c-18c9-42bc-a2fd-00d0498f736f",
   "metadata": {},
   "outputs": [],
   "source": [
    "render_option = {\n",
    "    \"id\": \"vv-polarization\",\n",
    "    \"name\": \"VV polarization\",\n",
    "    \"description\": \"VV asset scaled to 0–255 grayscale\",\n",
    "    \"type\": \"raster-tile\",\n",
    "    \"options\": \"assets=GEC&rescale=0,255&colormap_name=gray\",\n",
    "    \"minZoom\": 8,\n",
    "    \"conditions\": [{\"property\": \"sar:polarizations\", \"value\": [\"VV\"]}]\n",
    "}\n",
    "\n",
    "# Create Render Option\n",
    "client.stac_collection_render_options.create(\n",
    "    collection_id=collection_id,\n",
    "    body=render_option\n",
    ")"
   ]
  },
  {
   "cell_type": "code",
   "execution_count": null,
   "id": "8119e78d-6cb7-4c9f-81c8-8c529402aabc",
   "metadata": {},
   "outputs": [],
   "source": [
    "mosaics = {\"id\": \"default1\", \"name\": \"Default Mosaic\", \"description\": \"\", \"cql\": []}\n",
    "\n",
    "# Create Mosaic\n",
    "client.stac_collection_mosaics.add(\n",
    "    collection_id=collection_id,\n",
    "    body=mosaics\n",
    ")"
   ]
  },
  {
   "cell_type": "code",
   "execution_count": 3,
   "id": "be54b2cc-b474-43ae-8c2c-e5b6507ea337",
   "metadata": {},
   "outputs": [],
   "source": [
    "# Delete Collection\n",
    "collection_delete_operation = client.stac_collection_operations.begin_delete(\n",
    "    collection_id=collection_id\n",
    ")"
   ]
  },
  {
   "cell_type": "code",
   "execution_count": null,
   "id": "7d90bc07-79c1-4ec3-a684-888bfc56ba0b",
   "metadata": {},
   "outputs": [],
   "source": [
    "collection_delete_operation.result()"
   ]
  },
  {
   "cell_type": "code",
   "execution_count": null,
   "id": "c9c02a36-baa0-41ea-b683-c8dc0d0e9512",
   "metadata": {},
   "outputs": [],
   "source": []
  },
  {
   "cell_type": "code",
   "execution_count": null,
   "id": "cbf5163b-2c28-4aa6-85d2-bf4dd4e79555",
   "metadata": {},
   "outputs": [],
   "source": []
  }
 ],
 "metadata": {
  "kernelspec": {
   "display_name": ".venv",
   "language": "python",
   "name": "python3"
  },
  "language_info": {
   "codemirror_mode": {
    "name": "ipython",
    "version": 3
   },
   "file_extension": ".py",
   "mimetype": "text/x-python",
   "name": "python",
   "nbconvert_exporter": "python",
   "pygments_lexer": "ipython3",
   "version": "3.13.5"
  }
 },
 "nbformat": 4,
 "nbformat_minor": 5
}
