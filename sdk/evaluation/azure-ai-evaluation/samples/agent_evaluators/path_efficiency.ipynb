{
 "cells": [
  {
   "cell_type": "markdown",
   "id": "d1de6f2b",
   "metadata": {},
   "source": [
    "# Path Efficiency Evaluator"
   ]
  },
  {
   "cell_type": "markdown",
   "id": "a7acb533",
   "metadata": {},
   "source": [
    "### Getting Started\n",
    "\n",
    "This sample demonstrates how to use Path Efficiency Evaluator\n",
    "Before running the sample:\n",
    "```bash\n",
    "pip install azure-ai-projects azure-identity azure-ai-evaluation\n",
    "```\n",
    "Note: The Path Efficiency Evaluator does not require Azure OpenAI configuration as it's a rule-based evaluator."
   ]
  },
  {
   "cell_type": "markdown",
   "id": "dbc5612b",
   "metadata": {},
   "source": [
    "The Path Efficiency Evaluator measures how efficient an agent's sequence of actions is compared to an optimal path.\n",
    "\n",
    "The evaluator provides multiple metrics:\n",
    "\n",
    "**Numeric Scores (0.0 - 1.0):**\n",
    "- **Precision**: How many of the agent's steps were necessary (relevant to ground truth)\n",
    "- **Recall**: How many of the required steps were executed by the agent  \n",
    "- **F1 Score**: Harmonic mean of precision and recall\n",
    "\n",
    "**Binary Match Results (pass/fail):**\n",
    "- **Exact Match**: Whether the agent's steps exactly match the ground truth\n",
    "- **In-Order Match**: Whether all ground truth steps appear in correct order (allows extra steps)\n",
    "- **Any-Order Match**: Whether all ground truth steps appear with sufficient frequency (ignores order, allows extra steps)\n",
    "\n",
    "The evaluation requires the following inputs:\n",
    "- **Response**: The agent's response containing tool calls as a list of messages\n",
    "- **Ground Truth**: List of expected tool/action steps as strings"
   ]
  },
  {
   "cell_type": "markdown",
   "id": "1be910ff",
   "metadata": {},
   "source": [
    "### Initialize Path Efficiency Evaluator"
   ]
  },
  {
   "cell_type": "code",
   "execution_count": null,
   "id": "49a84a7d",
   "metadata": {},
   "outputs": [],
   "source": [
    "from azure.ai.evaluation._evaluators._path_efficiency import PathEfficiencyEvaluator\n",
    "from pprint import pprint\n",
    "\n",
    "# Initialize with custom thresholds\n",
    "path_efficiency_evaluator = PathEfficiencyEvaluator(\n",
    "    precision_threshold=0.7,\n",
    "    recall_threshold=0.8, \n",
    "    f1_score_threshold=0.75\n",
    ")\n",
    "\n",
    "# Or use default thresholds (0.5 for all metrics)\n",
    "# path_efficiency_evaluator = PathEfficiencyEvaluator()"
   ]
  },
  {
   "cell_type": "markdown",
   "id": "0247c79d",
   "metadata": {},
   "source": [
    "### Samples"
   ]
  },
  {
   "cell_type": "markdown",
   "id": "da6060ac",
   "metadata": {},
   "source": [
    "#### Sample 1: Perfect Path (Exact Match)"
   ]
  },
  {
   "cell_type": "code",
   "execution_count": null,
   "id": "67e5d8fc",
   "metadata": {},
   "outputs": [],
   "source": [
    "# Agent follows the exact optimal path\n",
    "response = [\n",
    "    {\n",
    "        \"role\": \"assistant\",\n",
    "        \"content\": [{\"type\": \"tool_call\", \"tool_call_id\": \"call_1\", \"name\": \"search\", \"arguments\": {}}],\n",
    "    },\n",
    "    {\n",
    "        \"role\": \"assistant\", \n",
    "        \"content\": [{\"type\": \"tool_call\", \"tool_call_id\": \"call_2\", \"name\": \"analyze\", \"arguments\": {}}],\n",
    "    },\n",
    "    {\n",
    "        \"role\": \"assistant\",\n",
    "        \"content\": [{\"type\": \"tool_call\", \"tool_call_id\": \"call_3\", \"name\": \"report\", \"arguments\": {}}],\n",
    "    },\n",
    "]\n",
    "\n",
    "ground_truth = [\"search\", \"analyze\", \"report\"]\n",
    "\n",
    "result = path_efficiency_evaluator(response=response, ground_truth=ground_truth)\n",
    "print(\"Perfect Path Results:\")\n",
    "pprint(result)"
   ]
  },
  {
   "cell_type": "markdown",
   "id": "0331b142",
   "metadata": {},
   "source": [
    "#### Sample 2: Efficient Path with Extra Steps"
   ]
  },
  {
   "cell_type": "code",
   "execution_count": null,
   "id": "c74e0597",
   "metadata": {},
   "outputs": [],
   "source": [
    "# Agent includes extra steps but maintains correct order\n",
    "response = [\n",
    "    {\n",
    "        \"role\": \"assistant\",\n",
    "        \"content\": [{\"type\": \"tool_call\", \"tool_call_id\": \"call_1\", \"name\": \"search\", \"arguments\": {}}],\n",
    "    },\n",
    "    {\n",
    "        \"role\": \"assistant\",\n",
    "        \"content\": [{\"type\": \"tool_call\", \"tool_call_id\": \"call_2\", \"name\": \"validate\", \"arguments\": {}}],\n",
    "    },\n",
    "    {\n",
    "        \"role\": \"assistant\", \n",
    "        \"content\": [{\"type\": \"tool_call\", \"tool_call_id\": \"call_3\", \"name\": \"analyze\", \"arguments\": {}}],\n",
    "    },\n",
    "    {\n",
    "        \"role\": \"assistant\",\n",
    "        \"content\": [{\"type\": \"tool_call\", \"tool_call_id\": \"call_4\", \"name\": \"report\", \"arguments\": {}}],\n",
    "    },\n",
    "]\n",
    "\n",
    "ground_truth = [\"search\", \"analyze\", \"report\"]\n",
    "\n",
    "result = path_efficiency_evaluator(response=response, ground_truth=ground_truth)\n",
    "print(\"\\nPath with Extra Steps Results:\")\n",
    "pprint(result)"
   ]
  },
  {
   "cell_type": "markdown",
   "id": "05b2736a",
   "metadata": {},
   "source": [
    "#### Sample 3: Inefficient Path (Wrong Order)"
   ]
  },
  {
   "cell_type": "code",
   "execution_count": null,
   "id": "c443db2c",
   "metadata": {},
   "outputs": [],
   "source": [
    "# Agent performs all required steps but in wrong order\n",
    "response = [\n",
    "    {\n",
    "        \"role\": \"assistant\",\n",
    "        \"content\": [{\"type\": \"tool_call\", \"tool_call_id\": \"call_1\", \"name\": \"report\", \"arguments\": {}}],\n",
    "    },\n",
    "    {\n",
    "        \"role\": \"assistant\",\n",
    "        \"content\": [{\"type\": \"tool_call\", \"tool_call_id\": \"call_2\", \"name\": \"search\", \"arguments\": {}}],\n",
    "    },\n",
    "    {\n",
    "        \"role\": \"assistant\", \n",
    "        \"content\": [{\"type\": \"tool_call\", \"tool_call_id\": \"call_3\", \"name\": \"analyze\", \"arguments\": {}}],\n",
    "    },\n",
    "]\n",
    "\n",
    "ground_truth = [\"search\", \"analyze\", \"report\"]\n",
    "\n",
    "result = path_efficiency_evaluator(response=response, ground_truth=ground_truth)\n",
    "print(\"\\nWrong Order Results:\")\n",
    "pprint(result)"
   ]
  },
  {
   "cell_type": "markdown",
   "id": "a21e2af8",
   "metadata": {},
   "source": [
    "#### Sample 4: Incomplete Path (Missing Steps)"
   ]
  },
  {
   "cell_type": "code",
   "execution_count": null,
   "id": "c25e2e02",
   "metadata": {},
   "outputs": [],
   "source": [
    "# Agent misses some required steps\n",
    "response = [\n",
    "    {\n",
    "        \"role\": \"assistant\",\n",
    "        \"content\": [{\"type\": \"tool_call\", \"tool_call_id\": \"call_1\", \"name\": \"search\", \"arguments\": {}}],\n",
    "    },\n",
    "    {\n",
    "        \"role\": \"assistant\",\n",
    "        \"content\": [{\"type\": \"tool_call\", \"tool_call_id\": \"call_2\", \"name\": \"analyze\", \"arguments\": {}}],\n",
    "    },\n",
    "]\n",
    "\n",
    "ground_truth = [\"search\", \"analyze\", \"report\"]\n",
    "\n",
    "result = path_efficiency_evaluator(response=response, ground_truth=ground_truth)\n",
    "print(\"\\nMissing Steps Results:\")\n",
    "pprint(result)"
   ]
  },
  {
   "cell_type": "markdown",
   "id": "e5bce7d3",
   "metadata": {},
   "source": [
    "#### Sample 5: Real-World Customer Service Scenario"
   ]
  },
  {
   "cell_type": "code",
   "execution_count": null,
   "id": "ab8a6d6f",
   "metadata": {},
   "outputs": [],
   "source": [
    "# Customer service agent handling order inquiry\n",
    "response = [\n",
    "    {\n",
    "        \"role\": \"assistant\",\n",
    "        \"content\": [{\"type\": \"tool_call\", \"tool_call_id\": \"call_1\", \"name\": \"lookup_order\", \"arguments\": {\"order_id\": \"12345\"}}],\n",
    "    },\n",
    "    {\n",
    "        \"role\": \"assistant\",\n",
    "        \"content\": [{\"type\": \"tool_call\", \"tool_call_id\": \"call_2\", \"name\": \"check_inventory\", \"arguments\": {\"product_id\": \"ABC123\"}}],\n",
    "    },\n",
    "    {\n",
    "        \"role\": \"assistant\", \n",
    "        \"content\": [{\"type\": \"tool_call\", \"tool_call_id\": \"call_3\", \"name\": \"calculate_refund\", \"arguments\": {\"order_id\": \"12345\"}}],\n",
    "    },\n",
    "    {\n",
    "        \"role\": \"assistant\",\n",
    "        \"content\": [{\"type\": \"tool_call\", \"tool_call_id\": \"call_4\", \"name\": \"process_refund\", \"arguments\": {\"order_id\": \"12345\", \"amount\": \"29.99\"}}],\n",
    "    },\n",
    "]\n",
    "\n",
    "ground_truth = [\"lookup_order\", \"calculate_refund\", \"process_refund\"]\n",
    "\n",
    "result = path_efficiency_evaluator(response=response, ground_truth=ground_truth)\n",
    "print(\"\\nCustomer Service Results:\")\n",
    "pprint(result)"
   ]
  },
  {
   "cell_type": "markdown",
   "id": "a6626053",
   "metadata": {},
   "source": [
    "#### Sample 6: Complex Path with Duplicates"
   ]
  },
  {
   "cell_type": "code",
   "execution_count": null,
   "id": "b0b2a492",
   "metadata": {},
   "outputs": [],
   "source": [
    "# Agent repeats some steps and includes extra ones\n",
    "response = [\n",
    "    {\n",
    "        \"role\": \"assistant\",\n",
    "        \"content\": [{\"type\": \"tool_call\", \"tool_call_id\": \"call_1\", \"name\": \"search\", \"arguments\": {}}],\n",
    "    },\n",
    "    {\n",
    "        \"role\": \"assistant\",\n",
    "        \"content\": [{\"type\": \"tool_call\", \"tool_call_id\": \"call_2\", \"name\": \"search\", \"arguments\": {}}],  # duplicate\n",
    "    },\n",
    "    {\n",
    "        \"role\": \"assistant\", \n",
    "        \"content\": [{\"type\": \"tool_call\", \"tool_call_id\": \"call_3\", \"name\": \"validate\", \"arguments\": {}}],  # extra step\n",
    "    },\n",
    "    {\n",
    "        \"role\": \"assistant\",\n",
    "        \"content\": [{\"type\": \"tool_call\", \"tool_call_id\": \"call_4\", \"name\": \"analyze\", \"arguments\": {}}],\n",
    "    },\n",
    "    {\n",
    "        \"role\": \"assistant\",\n",
    "        \"content\": [{\"type\": \"tool_call\", \"tool_call_id\": \"call_5\", \"name\": \"report\", \"arguments\": {}}],\n",
    "    },\n",
    "]\n",
    "\n",
    "ground_truth = [\"search\", \"analyze\", \"report\"]\n",
    "\n",
    "result = path_efficiency_evaluator(response=response, ground_truth=ground_truth)\n",
    "print(\"\\nComplex Path with Duplicates Results:\")\n",
    "pprint(result)"
   ]
  },
  {
   "cell_type": "markdown",
   "id": "d58e09b5",
   "metadata": {},
   "source": [
    "#### Sample 7: Edge Cases and Error Scenarios"
   ]
  },
  {
   "cell_type": "code",
   "execution_count": null,
   "id": "64cd71e9",
   "metadata": {},
   "outputs": [],
   "source": [
    "# Test with empty agent response\n",
    "try:\n",
    "    response = []\n",
    "    ground_truth = [\"search\", \"analyze\", \"report\"]\n",
    "    \n",
    "    result = path_efficiency_evaluator(response=response, ground_truth=ground_truth)\n",
    "    print(\"\\nEmpty Response Results:\")\n",
    "    pprint(result)\n",
    "except Exception as e:\n",
    "    print(f\"Error with empty response: {e}\")\n",
    "\n",
    "# Test with empty ground truth (should raise error)\n",
    "try:\n",
    "    response = [\n",
    "        {\n",
    "            \"role\": \"assistant\",\n",
    "            \"content\": [{\"type\": \"tool_call\", \"tool_call_id\": \"call_1\", \"name\": \"search\", \"arguments\": {}}],\n",
    "        }\n",
    "    ]\n",
    "    ground_truth = []\n",
    "    \n",
    "    result = path_efficiency_evaluator(response=response, ground_truth=ground_truth)\n",
    "    print(\"\\nEmpty Ground Truth Results:\")\n",
    "    pprint(result)\n",
    "except Exception as e:\n",
    "    print(f\"Error with empty ground truth: {e}\")"
   ]
  },
  {
   "cell_type": "markdown",
   "id": "a8f6dc32",
   "metadata": {},
   "source": [
    "#### Sample 8: Tuple Format with Parameters"
   ]
  },
  {
   "cell_type": "code",
   "execution_count": null,
   "id": "1b1a1a0c",
   "metadata": {},
   "outputs": [],
   "source": [
    "# PathEfficiencyEvaluator also supports tuple format with parameters for exact parameter matching\n",
    "response_with_params = [\n",
    "    {\n",
    "        \"role\": \"assistant\",\n",
    "        \"content\": [{\"type\": \"tool_call\", \"tool_call_id\": \"call_1\", \"name\": \"search\", \"arguments\": {\"query\": \"test\"}}],\n",
    "    },\n",
    "]\n",
    "\n",
    "# Ground truth using tuple format: (tool_names, parameters_dict)\n",
    "# Parameters must match exactly for tools to be considered matching\n",
    "ground_truth_with_params = ([\"search\"], {\"search\": {\"query\": \"test\"}})\n",
    "\n",
    "result = path_efficiency_evaluator(response=response_with_params, ground_truth=ground_truth_with_params)\n",
    "print(\"\\nTuple Format with Parameters Results:\")\n",
    "pprint(result)"
   ]
  },
  {
   "cell_type": "markdown",
   "id": "6741e8a0",
   "metadata": {},
   "source": [
    "### Evaluation Analysis Helper Function"
   ]
  },
  {
   "cell_type": "code",
   "execution_count": null,
   "id": "a68181b7",
   "metadata": {},
   "outputs": [],
   "source": [
    "def analyze_path_efficiency(response, ground_truth, scenario_name):\n",
    "    \"\"\"\n",
    "    Helper function to analyze and display path efficiency results\n",
    "    \"\"\"\n",
    "    result = path_efficiency_evaluator(response=response, ground_truth=ground_truth)\n",
    "    \n",
    "    print(f\"\\n{'='*50}\")\n",
    "    print(f\"Analysis for: {scenario_name}\")\n",
    "    print(f\"{'='*50}\")\n",
    "    \n",
    "    print(f\"Ground Truth Steps: {ground_truth}\")\n",
    "    print(f\"{'='*50}\")\n",
    "    \n",
    "    # Numeric scores\n",
    "    print(\"Numeric Scores:\")\n",
    "    print(f\"  Precision: {result['path_efficiency_precision_score']:.3f}\")\n",
    "    print(f\"  Recall: {result['path_efficiency_recall_score']:.3f}\")\n",
    "    print(f\"  F1 Score: {result['path_efficiency_f1_score']:.3f}\")\n",
    "\n",
    "    # Binary matches\n",
    "    print(\"\\nBinary Match Results:\")\n",
    "    print(f\"  Exact Match: {result['path_efficiency_exact_match_result']}\")\n",
    "    print(f\"  In-Order Match: {result['path_efficiency_in_order_match_result']}\")\n",
    "    print(f\"  Any-Order Match: {result['path_efficiency_any_order_match_result']}\")\n",
    "\n",
    "    return result"
   ]
  },
  {
   "cell_type": "markdown",
   "id": "86c22044",
   "metadata": {},
   "source": [
    "### Example Usage of Helper Function"
   ]
  },
  {
   "cell_type": "code",
   "execution_count": null,
   "id": "f3ad9842",
   "metadata": {},
   "outputs": [],
   "source": [
    "# Example: Using the helper function to analyze different scenarios\n",
    "\n",
    "# Scenario 1: Perfect efficiency\n",
    "perfect_response = [\n",
    "    {\"role\": \"assistant\", \"content\": [{\"type\": \"tool_call\", \"tool_call_id\": \"call_1\", \"name\": \"authenticate\", \"arguments\": {}}]},\n",
    "    {\"role\": \"assistant\", \"content\": [{\"type\": \"tool_call\", \"tool_call_id\": \"call_2\", \"name\": \"fetch_data\", \"arguments\": {}}]},\n",
    "    {\"role\": \"assistant\", \"content\": [{\"type\": \"tool_call\", \"tool_call_id\": \"call_3\", \"name\": \"process_result\", \"arguments\": {}}]},\n",
    "]\n",
    "perfect_ground_truth = [\"authenticate\", \"fetch_data\", \"process_result\"]\n",
    "\n",
    "analyze_path_efficiency(perfect_response, perfect_ground_truth, \"Perfect Efficiency Example\")\n",
    "\n",
    "# Scenario 2: Inefficient with extra steps\n",
    "inefficient_response = [\n",
    "    {\"role\": \"assistant\", \"content\": [{\"type\": \"tool_call\", \"tool_call_id\": \"call_1\", \"name\": \"authenticate\", \"arguments\": {}}]},\n",
    "    {\"role\": \"assistant\", \"content\": [{\"type\": \"tool_call\", \"tool_call_id\": \"call_2\", \"name\": \"log_attempt\", \"arguments\": {}}]},  # extra\n",
    "    {\"role\": \"assistant\", \"content\": [{\"type\": \"tool_call\", \"tool_call_id\": \"call_3\", \"name\": \"fetch_data\", \"arguments\": {}}]},\n",
    "    {\"role\": \"assistant\", \"content\": [{\"type\": \"tool_call\", \"tool_call_id\": \"call_4\", \"name\": \"validate_data\", \"arguments\": {}}]},  # extra\n",
    "    {\"role\": \"assistant\", \"content\": [{\"type\": \"tool_call\", \"tool_call_id\": \"call_5\", \"name\": \"process_result\", \"arguments\": {}}]},\n",
    "]\n",
    "inefficient_ground_truth = [\"authenticate\", \"fetch_data\", \"process_result\"]\n",
    "\n",
    "analyze_path_efficiency(inefficient_response, inefficient_ground_truth, \"Inefficient Path with Extra Steps\")"
   ]
  }
 ],
 "metadata": {
  "kernelspec": {
   "display_name": "Python 3",
   "language": "python",
   "name": "python3"
  },
  "language_info": {
   "codemirror_mode": {
    "name": "ipython",
    "version": 3
   },
   "file_extension": ".py",
   "mimetype": "text/x-python",
   "name": "python",
   "nbconvert_exporter": "python",
   "pygments_lexer": "ipython3",
   "version": "3.12.10"
  },
  "nbformat": 4,
  "nbformat_minor": 5
 },
 "nbformat": 4,
 "nbformat_minor": 5
}
