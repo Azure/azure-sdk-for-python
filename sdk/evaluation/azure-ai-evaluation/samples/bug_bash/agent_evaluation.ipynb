{
 "cells": [
  {
   "cell_type": "markdown",
   "metadata": {},
   "source": [
    "# Create Agent"
   ]
  },
  {
   "cell_type": "markdown",
   "metadata": {},
   "source": [
    "### Getting Started\n",
    "\n",
    "This sample demonstrates how to evaluate Azure AI Agent\n",
    "Before running the sample:\n",
    "```bash\n",
    "pip install azure-ai-projects azure-identity azure-ai-evaluation\n",
    "```\n",
    "Set these environment variables with your own values:\n",
    "1) **PROJECT_CONNECTION_STRING** - The project connection string, as found in the overview page of your Azure AI Foundry project.\n",
    "2) **MODEL_DEPLOYMENT_NAME** - The deployment name of the AI model, as found under the \"Name\" column in the \"Models + endpoints\" tab in your Azure AI Foundry project.\n",
    "3) **AZURE_OPENAI_ENDPOINT** - Azure Open AI Endpoint to be used for evaluation.\n",
    "4) **AZURE_OPENAI_API_KEY** - Azure Open AI Key to be used for evaluation.\n",
    "5) **AZURE_OPENAI_API_VERSION** - Azure Open AI Api version to be used for evaluation.\n"
   ]
  },
  {
   "cell_type": "markdown",
   "metadata": {},
   "source": [
    "### Initializing Project Client"
   ]
  },
  {
   "cell_type": "code",
   "metadata": {
    "ExecuteTime": {
     "end_time": "2025-03-24T18:38:12.237144Z",
     "start_time": "2025-03-24T18:38:08.569773Z"
    }
   },
   "source": [
    "\n",
    "import pandas as pd\n",
    "from azure.ai.projects import AIProjectClient\n",
    "from azure.identity import DefaultAzureCredential\n",
    "from azure.ai.projects.models import FunctionTool, ToolSet\n",
    "from user_functions import user_functions\n",
    "\n",
    "import os\n",
    "from dotenv import load_dotenv\n",
    "\n",
    "load_dotenv()\n",
    "\n",
    "project_client = AIProjectClient.from_connection_string(\n",
    "    credential=DefaultAzureCredential(),\n",
    "    conn_str=os.environ[\"PROJECT_CONNECTION_STRING\"],\n",
    ")\n",
    "\n",
    "AGENT_NAME = \"Seattle Tourist Assistant for bug bash\"\n",
    "\n",
    "# Adding Tools to be used by Agent \n",
    "functions = FunctionTool(user_functions)\n",
    "\n",
    "toolset = ToolSet()\n",
    "toolset.add(functions)"
   ],
   "outputs": [],
   "execution_count": 1
  },
  {
   "cell_type": "markdown",
   "metadata": {},
   "source": [
    "### Create Agent"
   ]
  },
  {
   "cell_type": "code",
   "metadata": {
    "ExecuteTime": {
     "end_time": "2025-03-24T18:38:18.040952Z",
     "start_time": "2025-03-24T18:38:15.399759Z"
    }
   },
   "source": [
    "agent = project_client.agents.create_agent(\n",
    "    model=os.environ[\"MODEL_DEPLOYMENT_NAME\"],\n",
    "    name=AGENT_NAME,\n",
    "    instructions=\"You are a helpful assistant\",\n",
    "    toolset=toolset,\n",
    ")\n",
    "\n",
    "print(f\"Created agent, ID: {agent.id}\")"
   ],
   "outputs": [
    {
     "name": "stdout",
     "output_type": "stream",
     "text": [
      "Created agent, ID: asst_6c9zDqpAI7hgbQQVcNrpDzM6\n"
     ]
    }
   ],
   "execution_count": 2
  },
  {
   "cell_type": "markdown",
   "metadata": {},
   "source": [
    "### Create Thread"
   ]
  },
  {
   "cell_type": "code",
   "metadata": {
    "ExecuteTime": {
     "end_time": "2025-03-24T18:38:29.142698Z",
     "start_time": "2025-03-24T18:38:28.765473Z"
    }
   },
   "source": [
    "thread = project_client.agents.create_thread()\n",
    "print(f\"Created thread, ID: {thread.id}\")"
   ],
   "outputs": [
    {
     "name": "stdout",
     "output_type": "stream",
     "text": [
      "Created thread, ID: thread_JLr67cGOzy6RjK4dyDxJTCzb\n"
     ]
    }
   ],
   "execution_count": 3
  },
  {
   "cell_type": "markdown",
   "metadata": {},
   "source": [
    "## Conversation with Agent\n",
    "Use below cells to have conversation with the agent\n",
    "- `Create Message[1]`\n",
    "- `Execute[2]`"
   ]
  },
  {
   "cell_type": "markdown",
   "metadata": {},
   "source": [
    "### Create Message[1]"
   ]
  },
  {
   "cell_type": "code",
   "metadata": {
    "ExecuteTime": {
     "end_time": "2025-03-24T18:38:31.775869Z",
     "start_time": "2025-03-24T18:38:31.233251Z"
    }
   },
   "source": [
    "# Create message to thread\n",
    "\n",
    "MESSAGE = \"Can you send me an email with weather information for Seattle?\"\n",
    "\n",
    "message = project_client.agents.create_message(\n",
    "    thread_id=thread.id,\n",
    "    role=\"user\",\n",
    "    content=MESSAGE,\n",
    ")\n",
    "print(f\"Created message, ID: {message.id}\")"
   ],
   "outputs": [
    {
     "name": "stdout",
     "output_type": "stream",
     "text": [
      "Created message, ID: msg_H5Qvl37d7dzDieHruwh5m8sF\n"
     ]
    }
   ],
   "execution_count": 4
  },
  {
   "cell_type": "markdown",
   "metadata": {},
   "source": [
    "### Execute[2]"
   ]
  },
  {
   "cell_type": "code",
   "metadata": {
    "ExecuteTime": {
     "end_time": "2025-03-24T18:38:50.639052Z",
     "start_time": "2025-03-24T18:38:42.845981Z"
    }
   },
   "source": [
    "run = project_client.agents.create_and_process_run(thread_id=thread.id, assistant_id=agent.id)\n",
    "\n",
    "print(f\"Run finished with status: {run.status}\")\n",
    "\n",
    "if run.status == \"failed\":\n",
    "    print(f\"Run failed: {run.last_error}\")\n",
    "\n",
    "print(f\"Run ID: {run.id}\")"
   ],
   "outputs": [
    {
     "name": "stdout",
     "output_type": "stream",
     "text": [
      "Sending email to you@example.com...\n",
      "Subject: Weather Information for Seattle\n",
      "Body:\n",
      "Weather data not available for this location.\n",
      "Run finished with status: RunStatus.COMPLETED\n",
      "Run ID: run_36pIVTiDXMkE8vxs2iZDk4mG\n"
     ]
    }
   ],
   "execution_count": 6
  },
  {
   "cell_type": "markdown",
   "metadata": {},
   "source": [
    "### List Messages"
   ]
  },
  {
   "cell_type": "code",
   "metadata": {
    "ExecuteTime": {
     "end_time": "2025-03-24T18:38:51.058784Z",
     "start_time": "2025-03-24T18:38:50.654751Z"
    }
   },
   "source": [
    "for message in project_client.agents.list_messages(thread.id, order=\"asc\").data:\n",
    "    print(f\"Role: {message.role}\")\n",
    "    print(f\"Content: {message.content[0].text.value}\")\n",
    "    print(\"-\" * 40)"
   ],
   "outputs": [
    {
     "name": "stdout",
     "output_type": "stream",
     "text": [
      "Role: MessageRole.USER\n",
      "Content: Can you send me an email with weather information for Seattle?\n",
      "----------------------------------------\n",
      "Role: MessageRole.AGENT\n",
      "Content: I have sent you an email with the weather information for Seattle. However, the data indicates that weather information is not available for this location. If you need anything else, just let me know!\n",
      "----------------------------------------\n"
     ]
    }
   ],
   "execution_count": 7
  },
  {
   "cell_type": "markdown",
   "metadata": {},
   "source": [
    "# Evaluate"
   ]
  },
  {
   "cell_type": "markdown",
   "metadata": {},
   "source": [
    "### Get data from agent"
   ]
  },
  {
   "cell_type": "code",
   "metadata": {
    "ExecuteTime": {
     "end_time": "2025-03-24T18:39:06.781538Z",
     "start_time": "2025-03-24T18:38:54.918349Z"
    }
   },
   "source": [
    "import json\n",
    "from azure.ai.evaluation import AIAgentConverter\n",
    "\n",
    "# Initialize the converter that will be backed by the project.\n",
    "converter = AIAgentConverter(project_client)\n",
    "\n",
    "thread_id = thread.id\n",
    "run_id = run.id\n",
    "\n",
    "converted_data = converter.convert(thread_id, run_id)\n",
    "print(json.dumps(converted_data, indent=4))"
   ],
   "outputs": [
    {
     "name": "stdout",
     "output_type": "stream",
     "text": [
      "{\n",
      "    \"query\": [\n",
      "        {\n",
      "            \"role\": \"system\",\n",
      "            \"content\": \"You are a helpful assistant\"\n",
      "        },\n",
      "        {\n",
      "            \"createdAt\": \"2025-03-24T18:38:31Z\",\n",
      "            \"role\": \"user\",\n",
      "            \"content\": [\n",
      "                {\n",
      "                    \"type\": \"text\",\n",
      "                    \"text\": \"Can you send me an email with weather information for Seattle?\"\n",
      "                }\n",
      "            ]\n",
      "        }\n",
      "    ],\n",
      "    \"response\": [\n",
      "        {\n",
      "            \"createdAt\": \"2025-03-24T18:38:44Z\",\n",
      "            \"run_id\": \"run_36pIVTiDXMkE8vxs2iZDk4mG\",\n",
      "            \"role\": \"assistant\",\n",
      "            \"content\": [\n",
      "                {\n",
      "                    \"type\": \"tool_call\",\n",
      "                    \"tool_call_id\": \"call_IonwQ0BQpKQWxcVwhLywiK3J\",\n",
      "                    \"name\": \"fetch_weather\",\n",
      "                    \"arguments\": {\n",
      "                        \"location\": \"Seattle\"\n",
      "                    }\n",
      "                }\n",
      "            ]\n",
      "        },\n",
      "        {\n",
      "            \"createdAt\": \"2025-03-24T18:38:45Z\",\n",
      "            \"run_id\": \"run_36pIVTiDXMkE8vxs2iZDk4mG\",\n",
      "            \"tool_call_id\": \"call_IonwQ0BQpKQWxcVwhLywiK3J\",\n",
      "            \"role\": \"tool\",\n",
      "            \"content\": [\n",
      "                {\n",
      "                    \"type\": \"tool_result\",\n",
      "                    \"tool_result\": {\n",
      "                        \"weather\": \"Weather data not available for this location.\"\n",
      "                    }\n",
      "                }\n",
      "            ]\n",
      "        },\n",
      "        {\n",
      "            \"createdAt\": \"2025-03-24T18:38:46Z\",\n",
      "            \"run_id\": \"run_36pIVTiDXMkE8vxs2iZDk4mG\",\n",
      "            \"role\": \"assistant\",\n",
      "            \"content\": [\n",
      "                {\n",
      "                    \"type\": \"tool_call\",\n",
      "                    \"tool_call_id\": \"call_N7cr3E63N9F9N1fmPFtimvtL\",\n",
      "                    \"name\": \"send_email\",\n",
      "                    \"arguments\": {\n",
      "                        \"recipient\": \"you@example.com\",\n",
      "                        \"subject\": \"Weather Information for Seattle\",\n",
      "                        \"body\": \"Weather data not available for this location.\"\n",
      "                    }\n",
      "                }\n",
      "            ]\n",
      "        },\n",
      "        {\n",
      "            \"createdAt\": \"2025-03-24T18:38:48Z\",\n",
      "            \"run_id\": \"run_36pIVTiDXMkE8vxs2iZDk4mG\",\n",
      "            \"tool_call_id\": \"call_N7cr3E63N9F9N1fmPFtimvtL\",\n",
      "            \"role\": \"tool\",\n",
      "            \"content\": [\n",
      "                {\n",
      "                    \"type\": \"tool_result\",\n",
      "                    \"tool_result\": {\n",
      "                        \"message\": \"Email successfully sent to you@example.com.\"\n",
      "                    }\n",
      "                }\n",
      "            ]\n",
      "        },\n",
      "        {\n",
      "            \"createdAt\": \"2025-03-24T18:38:49Z\",\n",
      "            \"run_id\": \"run_36pIVTiDXMkE8vxs2iZDk4mG\",\n",
      "            \"role\": \"assistant\",\n",
      "            \"content\": [\n",
      "                {\n",
      "                    \"type\": \"text\",\n",
      "                    \"text\": \"I have sent you an email with the weather information for Seattle. However, the data indicates that weather information is not available for this location. If you need anything else, just let me know!\"\n",
      "                }\n",
      "            ]\n",
      "        }\n",
      "    ],\n",
      "    \"tool_definitions\": [\n",
      "        {\n",
      "            \"name\": \"toggle_flag\",\n",
      "            \"description\": \"Toggles a boolean flag.\",\n",
      "            \"parameters\": {\n",
      "                \"type\": \"object\",\n",
      "                \"properties\": {\n",
      "                    \"flag\": {\n",
      "                        \"type\": \"boolean\",\n",
      "                        \"description\": \"The flag to toggle.\"\n",
      "                    }\n",
      "                }\n",
      "            }\n",
      "        },\n",
      "        {\n",
      "            \"name\": \"fetch_current_datetime\",\n",
      "            \"description\": \"Get the current time as a JSON string, optionally formatted.\",\n",
      "            \"parameters\": {\n",
      "                \"type\": \"object\",\n",
      "                \"properties\": {\n",
      "                    \"format\": {\n",
      "                        \"type\": [\n",
      "                            \"string\",\n",
      "                            \"null\"\n",
      "                        ],\n",
      "                        \"description\": \"The format in which to return the current time. Defaults to None, which uses a standard format.\"\n",
      "                    }\n",
      "                }\n",
      "            }\n",
      "        },\n",
      "        {\n",
      "            \"name\": \"process_records\",\n",
      "            \"description\": \"Process a list of records, where each record is a dictionary with string keys and integer values.\",\n",
      "            \"parameters\": {\n",
      "                \"type\": \"object\",\n",
      "                \"properties\": {\n",
      "                    \"records\": {\n",
      "                        \"type\": \"array\",\n",
      "                        \"items\": {\n",
      "                            \"type\": \"object\"\n",
      "                        },\n",
      "                        \"description\": \"A list containing dictionaries that map strings to integers.\"\n",
      "                    }\n",
      "                }\n",
      "            }\n",
      "        },\n",
      "        {\n",
      "            \"name\": \"merge_dicts\",\n",
      "            \"description\": \"Merges two dictionaries.\",\n",
      "            \"parameters\": {\n",
      "                \"type\": \"object\",\n",
      "                \"properties\": {\n",
      "                    \"dict1\": {\n",
      "                        \"type\": \"object\",\n",
      "                        \"description\": \"First dictionary.\"\n",
      "                    },\n",
      "                    \"dict2\": {\n",
      "                        \"type\": \"object\",\n",
      "                        \"description\": \"Second dictionary.\"\n",
      "                    }\n",
      "                }\n",
      "            }\n",
      "        },\n",
      "        {\n",
      "            \"name\": \"calculate_sum\",\n",
      "            \"description\": \"Calculates the sum of two integers.\",\n",
      "            \"parameters\": {\n",
      "                \"type\": \"object\",\n",
      "                \"properties\": {\n",
      "                    \"a\": {\n",
      "                        \"type\": \"integer\",\n",
      "                        \"description\": \"First integer.\"\n",
      "                    },\n",
      "                    \"b\": {\n",
      "                        \"type\": \"integer\",\n",
      "                        \"description\": \"Second integer.\"\n",
      "                    }\n",
      "                }\n",
      "            }\n",
      "        },\n",
      "        {\n",
      "            \"name\": \"fetch_weather\",\n",
      "            \"description\": \"Fetches the weather information for the specified location.\",\n",
      "            \"parameters\": {\n",
      "                \"type\": \"object\",\n",
      "                \"properties\": {\n",
      "                    \"location\": {\n",
      "                        \"type\": \"string\",\n",
      "                        \"description\": \"The location to fetch weather for.\"\n",
      "                    }\n",
      "                }\n",
      "            }\n",
      "        },\n",
      "        {\n",
      "            \"name\": \"get_user_info\",\n",
      "            \"description\": \"Retrieves user information based on user ID.\",\n",
      "            \"parameters\": {\n",
      "                \"type\": \"object\",\n",
      "                \"properties\": {\n",
      "                    \"user_id\": {\n",
      "                        \"type\": \"integer\",\n",
      "                        \"description\": \"ID of the user.\"\n",
      "                    }\n",
      "                }\n",
      "            }\n",
      "        },\n",
      "        {\n",
      "            \"name\": \"convert_temperature\",\n",
      "            \"description\": \"Converts temperature from Celsius to Fahrenheit.\",\n",
      "            \"parameters\": {\n",
      "                \"type\": \"object\",\n",
      "                \"properties\": {\n",
      "                    \"celsius\": {\n",
      "                        \"type\": \"number\",\n",
      "                        \"description\": \"Temperature in Celsius.\"\n",
      "                    }\n",
      "                }\n",
      "            }\n",
      "        },\n",
      "        {\n",
      "            \"name\": \"send_email\",\n",
      "            \"description\": \"Sends an email with the specified subject and body to the recipient.\",\n",
      "            \"parameters\": {\n",
      "                \"type\": \"object\",\n",
      "                \"properties\": {\n",
      "                    \"recipient\": {\n",
      "                        \"type\": \"string\",\n",
      "                        \"description\": \"Email address of the recipient.\"\n",
      "                    },\n",
      "                    \"subject\": {\n",
      "                        \"type\": \"string\",\n",
      "                        \"description\": \"Subject of the email.\"\n",
      "                    },\n",
      "                    \"body\": {\n",
      "                        \"type\": \"string\",\n",
      "                        \"description\": \"Body content of the email.\"\n",
      "                    }\n",
      "                }\n",
      "            }\n",
      "        },\n",
      "        {\n",
      "            \"name\": \"longest_word_in_sentences\",\n",
      "            \"description\": \"Finds the longest word in each sentence.\",\n",
      "            \"parameters\": {\n",
      "                \"type\": \"object\",\n",
      "                \"properties\": {\n",
      "                    \"sentences\": {\n",
      "                        \"type\": \"array\",\n",
      "                        \"items\": {\n",
      "                            \"type\": \"string\"\n",
      "                        },\n",
      "                        \"description\": \"A list of sentences.\"\n",
      "                    }\n",
      "                }\n",
      "            }\n",
      "        }\n",
      "    ]\n",
      "}\n"
     ]
    }
   ],
   "execution_count": 8
  },
  {
   "metadata": {
    "ExecuteTime": {
     "end_time": "2025-03-24T19:31:30.125354Z",
     "start_time": "2025-03-24T19:31:23.709476Z"
    }
   },
   "cell_type": "code",
   "source": [
    "import pandas as pd\n",
    "from azure.ai.projects import AIProjectClient\n",
    "from azure.identity import DefaultAzureCredential\n",
    "from azure.ai.projects.models import FunctionTool, ToolSet\n",
    "from user_functions import user_functions\n",
    "import json\n",
    "import os\n",
    "from dotenv import load_dotenv\n",
    "from azure.ai.evaluation import AIAgentConverter\n",
    "\n",
    "load_dotenv()\n",
    "\n",
    "project_client = AIProjectClient.from_connection_string(\n",
    "    credential=DefaultAzureCredential(),\n",
    "    conn_str=os.environ[\"PROJECT_CONNECTION_STRING\"],\n",
    ")\n",
    "\n",
    "converter = AIAgentConverter(project_client)\n",
    "# code_interpreter\n",
    "thread_id = 'thread_HVSuvsEWKb1rvLVZ9w8wfPWA'\n",
    "run_id = 'run_2XtFg5KIeJoWi3GF1OWfkFoU'\n",
    "\n",
    "# bing_grounding\n",
    "thread_id = \"thread_LQneQpxLNEB5vmNdMoniXgBB\"\n",
    "run_id = \"run_Kt5VWV5HEmmNesZEso5PeVhc\"\n",
    "\n",
    "converted_data = converter.convert(thread_id, run_id)\n",
    "print(json.dumps(converted_data, indent=4))"
   ],
   "outputs": [
    {
     "name": "stdout",
     "output_type": "stream",
     "text": [
      "{\n",
      "    \"query\": [\n",
      "        {\n",
      "            \"role\": \"system\",\n",
      "            \"content\": \"Be helpful.\"\n",
      "        },\n",
      "        {\n",
      "            \"createdAt\": \"2025-03-24T19:14:13Z\",\n",
      "            \"role\": \"user\",\n",
      "            \"content\": [\n",
      "                {\n",
      "                    \"type\": \"text\",\n",
      "                    \"text\": \"What are side effects of the typhoid vaccine?\"\n",
      "                }\n",
      "            ]\n",
      "        },\n",
      "        {\n",
      "            \"createdAt\": \"2025-03-24T19:14:14Z\",\n",
      "            \"run_id\": \"run_385Q4kLjYWZk7wrje28WlWv4\",\n",
      "            \"role\": \"assistant\",\n",
      "            \"content\": [\n",
      "                {\n",
      "                    \"type\": \"text\",\n",
      "                    \"text\": \"The typhoid vaccine, which is available in injectable and oral forms, can have a range of side effects. These side effects can vary depending on the form of the vaccine used. Here are some common and less common side effects:\\n\\n1. **Injectable Typhoid Vaccine (Vi polysaccharide vaccine):**\\n   - **Common Side Effects:**\\n     - Pain or swelling at the injection site\\n     - Fever\\n     - Headache\\n   - **Less Common Side Effects:**\\n     - General malaise or feeling unwell\\n     - Nausea\\n\\n2. **Oral Typhoid Vaccine (Live attenuated Ty21a vaccine):**\\n   - **Common Side Effects:**\\n     - Nausea\\n     - Abdominal pain or cramps\\n     - Headache\\n   - **Less Common Side Effects:**\\n     - Rash\\n     - Vomiting\\n\\nSerious side effects are rare but can occur. If any severe allergic reactions or unusual symptoms develop, it is essential to seek medical attention promptly. It is also important to note that certain individuals, such as those with weakened immune systems, may need to avoid the live attenuated oral vaccine. Always consult with a healthcare provider for personalized medical advice and to determine the best form of vaccination based on individual health status and travel plans.\"\n",
      "                }\n",
      "            ]\n",
      "        },\n",
      "        {\n",
      "            \"createdAt\": \"2025-03-24T19:15:15Z\",\n",
      "            \"role\": \"user\",\n",
      "            \"content\": [\n",
      "                {\n",
      "                    \"type\": \"text\",\n",
      "                    \"text\": \"What is the current status of typhoid spread in costa rica?\"\n",
      "                }\n",
      "            ]\n",
      "        }\n",
      "    ],\n",
      "    \"response\": [\n",
      "        {\n",
      "            \"createdAt\": \"2025-03-24T19:15:16Z\",\n",
      "            \"run_id\": \"run_Kt5VWV5HEmmNesZEso5PeVhc\",\n",
      "            \"role\": \"assistant\",\n",
      "            \"content\": [\n",
      "                {\n",
      "                    \"type\": \"tool_call\",\n",
      "                    \"tool_call_id\": \"call_PG9cYqLGAVO30BWBwgHMcvJQ\",\n",
      "                    \"name\": \"bing_grounding\",\n",
      "                    \"arguments\": {\n",
      "                        \"requesturl\": \"https://api.bing.microsoft.com/v7.0/search?q=\\\"typhoid outbreak status Costa Rica March 2025\\\"\"\n",
      "                    }\n",
      "                }\n",
      "            ]\n",
      "        },\n",
      "        {\n",
      "            \"createdAt\": \"2025-03-24T19:15:17Z\",\n",
      "            \"run_id\": \"run_Kt5VWV5HEmmNesZEso5PeVhc\",\n",
      "            \"role\": \"assistant\",\n",
      "            \"content\": [\n",
      "                {\n",
      "                    \"type\": \"text\",\n",
      "                    \"text\": \"As of March 2025, there is no reported outbreak of typhoid affecting humans in Costa Rica. The available information primarily relates to travel advisories mentioning general risks of typhoid through contaminated food and water, which travelers should be aware of when visiting rural areas\\u30106\\u2020source\\u3011. There is an unrelated report about a fowl typhoid outbreak affecting poultry in Costa Rica\\u30105\\u2020source\\u3011.\"\n",
      "                }\n",
      "            ]\n",
      "        }\n",
      "    ],\n",
      "    \"tool_definitions\": [\n",
      "        {\n",
      "            \"name\": \"bing_grounding\",\n",
      "            \"description\": \"\",\n",
      "            \"parameters\": {}\n",
      "        }\n",
      "    ]\n",
      "}\n"
     ]
    }
   ],
   "execution_count": 1
  },
  {
   "cell_type": "code",
   "metadata": {
    "ExecuteTime": {
     "end_time": "2025-03-24T18:52:07.755858Z",
     "start_time": "2025-03-24T18:52:07.737011Z"
    }
   },
   "source": [
    "\n",
    "\n",
    "evaluation_data = []\n",
    "run_ids = converter._list_run_ids_chronological(thread_id=thread.id)\n",
    "\n",
    "for run_id in run_ids:\n",
    "    run_data = converter.convert(thread_id, run_id)\n",
    "    evaluation_data.append(run_data)\n",
    "\n",
    "# write to file\n",
    "file_path = os.path.join(os.getcwd(), \"evaluation_data.jsonl\")\n",
    "pd.DataFrame(evaluation_data).to_json(\n",
    "    file_path, orient=\"records\", lines=True\n",
    ")"
   ],
   "outputs": [
    {
     "ename": "NameError",
     "evalue": "name 'thread' is not defined",
     "output_type": "error",
     "traceback": [
      "\u001B[31m---------------------------------------------------------------------------\u001B[39m",
      "\u001B[31mNameError\u001B[39m                                 Traceback (most recent call last)",
      "\u001B[36mCell\u001B[39m\u001B[36m \u001B[39m\u001B[32mIn[4]\u001B[39m\u001B[32m, line 24\u001B[39m\n\u001B[32m     20\u001B[39m run_id = \u001B[33m'\u001B[39m\u001B[33mrun_2XtFg5KIeJoWi3GF1OWfkFoU\u001B[39m\u001B[33m'\u001B[39m\n\u001B[32m     23\u001B[39m evaluation_data = []\n\u001B[32m---> \u001B[39m\u001B[32m24\u001B[39m run_ids = converter._list_run_ids_chronological(thread_id=\u001B[43mthread\u001B[49m.id)\n\u001B[32m     26\u001B[39m \u001B[38;5;28;01mfor\u001B[39;00m run_id \u001B[38;5;129;01min\u001B[39;00m run_ids:\n\u001B[32m     27\u001B[39m     run_data = converter.convert(thread_id, run_id)\n",
      "\u001B[31mNameError\u001B[39m: name 'thread' is not defined"
     ]
    }
   ],
   "execution_count": 4
  },
  {
   "cell_type": "markdown",
   "metadata": {},
   "source": [
    "### Setting up evaluator"
   ]
  },
  {
   "cell_type": "code",
   "execution_count": null,
   "metadata": {},
   "outputs": [],
   "source": [
    "from azure.ai.evaluation import ToolCallAccuracyEvaluator , AzureOpenAIModelConfiguration, IntentResolutionEvaluator, TaskAdherenceEvaluator\n",
    "from pprint import pprint\n",
    "\n",
    "model_config = AzureOpenAIModelConfiguration(\n",
    "    azure_endpoint=os.environ[\"AZURE_OPENAI_ENDPOINT\"],\n",
    "    api_key=os.environ[\"AZURE_OPENAI_API_KEY\"],\n",
    "    api_version=os.environ[\"AZURE_OPENAI_API_VERSION\"],\n",
    "    azure_deployment=os.environ[\"MODEL_DEPLOYMENT_NAME\"],\n",
    ")\n",
    "\n",
    "tool_call_accuracy = ToolCallAccuracyEvaluator(model_config=model_config)\n",
    "intent_resolution = IntentResolutionEvaluator(model_config=model_config)\n",
    "task_adherence = TaskAdherenceEvaluator(model_config=model_config)"
   ]
  },
  {
   "cell_type": "markdown",
   "metadata": {},
   "source": [
    "### Run Evaluator"
   ]
  },
  {
   "cell_type": "code",
   "execution_count": null,
   "metadata": {},
   "outputs": [],
   "source": [
    "from azure.ai.evaluation import evaluate\n",
    "\n",
    "response = evaluate(\n",
    "    data=file_path,\n",
    "    evaluators={\n",
    "        \"tool_call_accuracy\": tool_call_accuracy,\n",
    "        \"intent_resolution\": intent_resolution,\n",
    "        \"task_adherence\": task_adherence,\n",
    "    },\n",
    "    azure_ai_project={\n",
    "        \"subscription_id\": os.environ[\"SUBSCRIPTION_ID\"],\n",
    "        \"project_name\": os.environ[\"PROJECT_NAME\"]\",\n",
    "        \"resource_group_name\": os.envirn[\"RESOURCE_GROUP_NAME\"],\n",
    "    }\n",
    ")\n",
    "pprint(f'AI Foundary URL: {response.get(\"studio_url\")}')"
   ]
  },
  {
   "cell_type": "code",
   "execution_count": null,
   "metadata": {},
   "outputs": [],
   "source": [
    "pprint(response)"
   ]
  },
  {
   "cell_type": "markdown",
   "metadata": {},
   "source": []
  }
 ],
 "metadata": {
  "kernelspec": {
   "display_name": "agent-evals-bug-bash",
   "language": "python",
   "name": "python3"
  },
  "language_info": {
   "codemirror_mode": {
    "name": "ipython",
    "version": 3
   },
   "file_extension": ".py",
   "mimetype": "text/x-python",
   "name": "python",
   "nbconvert_exporter": "python",
   "pygments_lexer": "ipython3",
   "version": "3.11.11"
  }
 },
 "nbformat": 4,
 "nbformat_minor": 2
}
