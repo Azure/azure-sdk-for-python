{
 "cells": [
  {
   "cell_type": "markdown",
   "metadata": {},
   "source": [
    "# Task Adherence Evaluator"
   ]
  },
  {
   "cell_type": "markdown",
   "metadata": {},
   "source": [
    "The Task Adherence evaluator measures how well the agent adheres to their assigned tasks or predefined goal.\n",
    "\n",
    "The scoring is on a 1-5 integer scale and is as follows:\n",
    "\n",
    "  - Score 1: Fully inadherent\n",
    "  - Score 2: Barely adherent\n",
    "  - Score 3: Moderately adherent\n",
    "  - Score 4: Mostly adherent\n",
    "  - Score 5: Fully adherent\n",
    "\n",
    "The evaluation requires the following inputs:\n",
    "\n",
    "  - Query    : The user query. Either a string with a user request or a list of messages with previous requests from the user and responses from the assistant, potentially including a system message.\n",
    "  - Response : The response to be evaluated. Either a string or a message with the response from the agent to the last user query.\n",
    "\n",
    "There is a third optional parameter:\n",
    "  - ToolDefinitions : The list of tool definitions the agent can call. This may be useful for the evaluator to better assess if the right tool was called to adhere to user intent."
   ]
  },
  {
   "cell_type": "markdown",
   "metadata": {},
   "source": [
    "### Initialize Task Adherence Evaluator\n"
   ]
  },
  {
   "cell_type": "code",
   "execution_count": 3,
   "metadata": {},
   "outputs": [],
   "source": [
    "import os\n",
    "\n",
    "from azure.ai.projects import AIProjectClient\n",
    "from azure.ai.projects.models import ConnectionType\n",
    "from azure.identity import DefaultAzureCredential\n",
    "from azure.ai.evaluation import TaskAdherenceEvaluator\n",
    "from dotenv import load_dotenv\n",
    "from pprint import pprint\n",
    "\n",
    "#load_dotenv() loads the PROJECT_CONNECTION_STRING, MODEL_DEPLOYMENT_NAME and MODEL_DEPLOYMENT_API_VERSION variables\n",
    "#from a .env file in the current directory. You can also set these in your environment directly if you prefer\n",
    "load_dotenv()\n",
    "\n",
    "project_client = AIProjectClient.from_connection_string(\n",
    "    credential=DefaultAzureCredential(),\n",
    "    conn_str=os.environ[\"PROJECT_CONNECTION_STRING\"],\n",
    ")\n",
    "model_config = project_client.connections.get_default(\n",
    "                                            connection_type=ConnectionType.AZURE_OPEN_AI,\n",
    "                                            include_credentials=True) \\\n",
    "                                         .to_evaluator_model_config(\n",
    "                                            deployment_name=os.environ[\"MODEL_DEPLOYMENT_NAME\"],\n",
    "                                            api_version=os.environ[\"MODEL_DEPLOYMENT_API_VERSION\"],\n",
    "                                            include_credentials=True\n",
    "                                          )\n",
    "\n",
    "task_adherence_evaluator = TaskAdherenceEvaluator(model_config)"
   ]
  },
  {
   "cell_type": "markdown",
   "metadata": {},
   "source": [
    "### Samples"
   ]
  },
  {
   "cell_type": "markdown",
   "metadata": {},
   "source": [
    "#### Evaluating query and response as string"
   ]
  },
  {
   "cell_type": "code",
   "execution_count": 4,
   "metadata": {},
   "outputs": [
    {
     "name": "stdout",
     "output_type": "stream",
     "text": [
      "{'task_adherence': 2.0,\n",
      " 'task_adherence_reason': 'The response partially aligns with the query by '\n",
      "                          'mentioning two relevant practices but fails to '\n",
      "                          'provide the necessary detail or breadth, making it '\n",
      "                          'barely adherent.',\n",
      " 'task_adherence_result': 'fail',\n",
      " 'task_adherence_threshold': 5}\n"
     ]
    }
   ],
   "source": [
    "#Failure example, there's only a vague adherence to the task\n",
    "result = task_adherence_evaluator(query=\"What are the best practices for maintaining a healthy rose garden during the summer?\",\n",
    "                                  response=\"Make sure to water your roses regularly and trim them occasionally.\",\n",
    "                                 )\n",
    "pprint(result)"
   ]
  },
  {
   "cell_type": "code",
   "execution_count": 5,
   "metadata": {},
   "outputs": [
    {
     "name": "stdout",
     "output_type": "stream",
     "text": [
      "{'task_adherence': 5.0,\n",
      " 'task_adherence_reason': 'The response is comprehensive, accurate, and '\n",
      "                          'directly addresses the query with actionable steps, '\n",
      "                          'making it fully adherent to the instructions.',\n",
      " 'task_adherence_result': 'pass',\n",
      " 'task_adherence_threshold': 5}\n"
     ]
    }
   ],
   "source": [
    "#Success example, full adherence to the task\n",
    "result = task_adherence_evaluator(query=\"What are the best practices for maintaining a healthy rose garden during the summer?\",\n",
    "                                  response=\"For optimal summer care of your rose garden, start by watering deeply early in the morning to ensure the roots are well-hydrated without encouraging fungal growth. Apply a 2-3 inch layer of organic mulch around the base of the plants to conserve moisture and regulate soil temperature. Fertilize with a balanced rose fertilizer every 4–6 weeks to support healthy growth. Prune away any dead or diseased wood to promote good air circulation, and inspect regularly for pests such as aphids or spider mites, treating them promptly with an appropriate organic insecticidal soap. Finally, ensure that your roses receive at least 6 hours of direct sunlight daily for robust flowering.\",\n",
    "                                 )\n",
    "pprint(result)"
   ]
  },
  {
   "cell_type": "markdown",
   "metadata": {},
   "source": [
    "#### Evaluating query and response as list of messages"
   ]
  },
  {
   "cell_type": "code",
   "execution_count": 6,
   "metadata": {},
   "outputs": [
    {
     "name": "stdout",
     "output_type": "stream",
     "text": [
      "{'task_adherence': 5.0,\n",
      " 'task_adherence_reason': 'The response fully adheres to the query by '\n",
      "                          'providing a specific book recommendation, including '\n",
      "                          'relevant details, and offering further assistance. '\n",
      "                          'It is complete and well-executed.',\n",
      " 'task_adherence_result': 'pass',\n",
      " 'task_adherence_threshold': 5}\n"
     ]
    }
   ],
   "source": [
    "query = [\n",
    "            {\n",
    "                \"role\": \"system\",\n",
    "                \"content\": \"You are an expert in literature and at provid can provide book recommendations.\"\n",
    "            },\n",
    "            {\n",
    "                \"createdAt\": \"2025-03-14T08:00:00Z\",\n",
    "                \"role\": \"user\",\n",
    "                \"content\": [\n",
    "                    {\n",
    "                        \"type\": \"text\",\n",
    "                        \"text\": \"I love historical fiction. Can you recommend a good book from that genre?\"\n",
    "                    }\n",
    "                ]\n",
    "            }\n",
    "        ]\n",
    "\n",
    "response =  [\n",
    "                {\n",
    "                    \"createdAt\": \"2025-03-14T08:00:05Z\",\n",
    "                    \"role\": \"assistant\",\n",
    "                    \"content\": [\n",
    "                        {\n",
    "                            \"type\": \"text\",\n",
    "                            \"text\": \"Let me fetch a recommendation for historical fiction.\"\n",
    "                        }\n",
    "                    ]\n",
    "                },\n",
    "                {\n",
    "                    \"createdAt\": \"2025-03-14T08:00:10Z\",\n",
    "                    \"role\": \"assistant\",\n",
    "                    \"content\": [\n",
    "                        {\n",
    "                            \"type\": \"tool_call\",\n",
    "                            \"tool_call\": {\n",
    "                                \"id\": \"tool_call_20250314_001\",\n",
    "                                \"type\": \"function\",\n",
    "                                \"function\": {\n",
    "                                    \"name\": \"get_book\",\n",
    "                                    \"arguments\": {\n",
    "                                        \"genre\": \"historical fiction\"\n",
    "                                    }\n",
    "                                }\n",
    "                            }\n",
    "                        }\n",
    "                    ]\n",
    "                },\n",
    "                {\n",
    "                    \"createdAt\": \"2025-03-14T08:00:15Z\",\n",
    "                    \"role\": \"tool\",\n",
    "                    \"tool_call_id\": \"tool_call_20250314_001\",\n",
    "                    \"content\": [\n",
    "                        {\n",
    "                            \"type\": \"tool_result\",\n",
    "                            \"tool_result\": \"{ \\\"book\\\": { \\\"title\\\": \\\"The Pillars of the Earth\\\", \\\"author\\\": \\\"Ken Follett\\\", \\\"summary\\\": \\\"A captivating tale set in medieval England that weaves historical events with personal drama.\\\" } }\"\n",
    "                        }\n",
    "                    ]\n",
    "                },\n",
    "                {\n",
    "                    \"createdAt\": \"2025-03-14T08:00:20Z\",\n",
    "                    \"role\": \"assistant\",\n",
    "                    \"content\": [\n",
    "                        {\n",
    "                            \"type\": \"text\",\n",
    "                            \"text\": \"Based on our records, I recommend 'The Pillars of the Earth' by Ken Follett. This novel is an excellent example of historical fiction with a rich narrative and well-developed characters. Would you like more details or another suggestion?\"\n",
    "                        }\n",
    "                    ]\n",
    "                }\n",
    "       ]\n",
    "\n",
    "tool_definitions = [\n",
    "                    {\n",
    "                        \"name\": \"get_book\",\n",
    "                        \"description\": \"Retrieve a book recommendation for a specified genre.\",\n",
    "                        \"parameters\": {\n",
    "                            \"type\": \"object\",\n",
    "                            \"properties\": {\n",
    "                                \"genre\": {\n",
    "                                    \"type\": \"string\",\n",
    "                                    \"description\": \"The genre for which a book recommendation is requested.\"\n",
    "                                }\n",
    "                            }\n",
    "                        }\n",
    "                    }\n",
    "                ]\n",
    "\n",
    "result = task_adherence_evaluator(query=query,\n",
    "                                  response=response,\n",
    "                                  tool_definitions=tool_definitions,\n",
    "                                 )\n",
    "pprint(result)"
   ]
  }
 ],
 "metadata": {
  "kernelspec": {
   "display_name": "Python 3",
   "language": "python",
   "name": "python3"
  },
  "language_info": {
   "codemirror_mode": {
    "name": "ipython",
    "version": 3
   },
   "file_extension": ".py",
   "mimetype": "text/x-python",
   "name": "python",
   "nbconvert_exporter": "python",
   "pygments_lexer": "ipython3",
   "version": "3.11.9"
  }
 },
 "nbformat": 4,
 "nbformat_minor": 2
}
