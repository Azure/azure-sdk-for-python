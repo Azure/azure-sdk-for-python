{
 "cells": [
  {
   "cell_type": "markdown",
   "metadata": {},
   "source": [
    "### Response Completeness Evaluator"
   ]
  },
  {
   "cell_type": "markdown",
   "metadata": {},
   "source": [
    "The Response Completeness evaluator assesses the quality of an agent response by examining how well it aligns with the provided ground truth. The evaluation is based on the following scoring system:\n",
    "\n",
    "<pre>\n",
    "Score 1: Fully incomplete: The response misses all necessary and relevant information compared to the ground truth.\n",
    "Score 2: Barely complete: The response contains only a small percentage of the necessary information.\n",
    "Score 3: Moderately complete: The response includes about half of the necessary information.\n",
    "Score 4: Mostly complete: The response contains most of the necessary information, with only minor omissions.\n",
    "Score 5: Fully complete: The response perfectly matches all necessary and relevant information from the ground truth.\n",
    "</pre>\n",
    "\n",
    "The evaluation requires the following inputs:\n",
    "\n",
    "Response: The response to be evaluated. (string)\n",
    "Ground Truth: The correct and complete information against which the response is compared. (string)\n",
    "\n",
    "The evaluator uses these inputs to determine the completeness score, ensuring that the response meaningfully addresses the query while adhering to the provided definitions and data."
   ]
  },
  {
   "cell_type": "markdown",
   "metadata": {},
   "source": [
    "### Initialize Completeness Evaluator\n"
   ]
  },
  {
   "cell_type": "code",
   "execution_count": null,
   "metadata": {},
   "outputs": [],
   "source": [
    "from azure.ai.evaluation import CompletenessEvaluator , AzureOpenAIModelConfiguration\n",
    "from pprint import pprint\n",
    "\n",
    "model_config = AzureOpenAIModelConfiguration(\n",
    "    azure_endpoint=\"<azure_endpoint>\",\n",
    "    api_key=\"<api_key>\",\n",
    "    api_version=\"<api_version>\",\n",
    "    azure_deployment=\"<azure_deployment>\",\n",
    ")\n",
    "\n",
    "completeness_evaluator = CompletenessEvaluator(model_config=model_config)"
   ]
  },
  {
   "cell_type": "markdown",
   "metadata": {},
   "source": [
    "### Samples"
   ]
  },
  {
   "cell_type": "markdown",
   "metadata": {},
   "source": [
    "#### Evaluating for a ground_truth and prediction"
   ]
  },
  {
   "cell_type": "code",
   "execution_count": 3,
   "metadata": {},
   "outputs": [
    {
     "data": {
      "text/plain": [
       "{'completeness': 1.0,\n",
       " 'completeness_result': 'fail',\n",
       " 'completeness_threshold': 3,\n",
       " 'completeness_reason': 'The response does not include the essential information that the capital of Japan is Tokyo, making it fully incomplete. It lacks any relevant claims or statements from the ground truth.'}"
      ]
     },
     "execution_count": 3,
     "metadata": {},
     "output_type": "execute_result"
    }
   ],
   "source": [
    "result = completeness_evaluator(\n",
    "    response=\"The capital of Japan\",\n",
    "    ground_truth=\"The capital of Japan is Tokyo.\"\n",
    ")\n",
    "result"
   ]
  },
  {
   "cell_type": "code",
   "execution_count": 6,
   "metadata": {},
   "outputs": [
    {
     "data": {
      "text/plain": [
       "{'completeness': 5.0,\n",
       " 'completeness_result': 'pass',\n",
       " 'completeness_threshold': 3,\n",
       " 'completeness_reason': 'The response perfectly matches the ground truth without any omissions or errors, indicating that it is fully complete.'}"
      ]
     },
     "execution_count": 6,
     "metadata": {},
     "output_type": "execute_result"
    }
   ],
   "source": [
    "result = completeness_evaluator(\n",
    "    response=\"The capital of Japan is Tokyo.\",\n",
    "    ground_truth=\"The capital of Japan is Tokyo.\"\n",
    ")\n",
    "result"
   ]
  },
  {
   "cell_type": "markdown",
   "metadata": {},
   "source": [
    "#### Evaluating for a conversation"
   ]
  },
  {
   "cell_type": "code",
   "execution_count": 7,
   "metadata": {},
   "outputs": [
    {
     "data": {
      "text/plain": [
       "{'completeness': 1.0,\n",
       " 'completeness_threshold': 3.0,\n",
       " 'evaluation_per_turn': {'completeness': [1.0, 1.0, 1.0],\n",
       "  'completeness_result': ['fail', 'fail', 'fail'],\n",
       "  'completeness_threshold': [3, 3, 3],\n",
       "  'completeness_reason': ['The response does not contain any relevant information or claims that could be compared to a ground truth, making it fully incomplete.',\n",
       "   'The response does not contain any relevant information or claims that could be compared to a ground truth, making it fully incomplete.',\n",
       "   'The response does not contain any relevant information that can be compared to a ground truth, making it fully incomplete.']}}"
      ]
     },
     "execution_count": 7,
     "metadata": {},
     "output_type": "execute_result"
    }
   ],
   "source": [
    "conversation = {\"messages\": [{\"role\": \"system\", \"createdAt\": 1700030000, \"content\": \"You are a subscription support agent. Your role is to help customers with subscription cancellations, renewals, and upgrades.\"}, {\"run_id\": \"run_20250310_050\", \"role\": \"user\", \"createdAt\": 1700030050, \"content\": [{\"type\": \"text\", \"text\": \"Hi, I want to cancel my premium magazine subscription. I've been thinking about switching to a digital-only option. Can you help me with the cancellation and also provide details on the digital plan?\"}]}, {\"run_id\": \"run_20250310_050\", \"role\": \"assistant\", \"createdAt\": 1700030055, \"content\": [{\"type\": \"text\", \"text\": \"I\\u2019m sorry to hear you\\u2019re considering cancellation. I\\u2019ll first process your cancellation request for the premium subscription and then provide you with details about our digital plan.\"}]}, {\"run_id\": \"run_20250310_050\", \"role\": \"assistant\", \"createdAt\": 1700030060, \"content\": [{\"type\": \"tool_call\", \"tool_call\": {\"id\": \"tool_call_20250310_050\", \"type\": \"function\", \"function\": {\"name\": \"cancel_subscription\", \"arguments\": {\"subscription_id\": \"PREMIUM789\"}}}}]}, {\"run_id\": \"run_20250310_050\", \"role\": \"tool\", \"createdAt\": 1700030065, \"tool_call_id\": \"tool_call_20250310_050\", \"content\": [{\"type\": \"tool_result\", \"tool_result\": \"{ \\\"status\\\": \\\"cancelled\\\", \\\"refund\\\": \\\"$10.00 credited\\\" }\"}]}, {\"run_id\": \"run_20250310_051\", \"role\": \"assistant\", \"createdAt\": 1700030070, \"content\": [{\"type\": \"text\", \"text\": \"Your premium subscription has been cancelled and a refund of $10.00 has been credited. Now, regarding our digital plan, it offers full access to all online content at a reduced rate. Would you like me to send you more detailed information about the digital plan and how to subscribe?\"}]}, {\"run_id\": \"run_20250310_052\", \"role\": \"user\", \"createdAt\": 1700030080, \"content\": [{\"type\": \"text\", \"text\": \"Yes, please send me all the details including pricing and any special offers.\"}]}, {\"run_id\": \"run_20250310_052\", \"role\": \"assistant\", \"createdAt\": 1700030085, \"content\": [{\"type\": \"text\", \"text\": \"Our digital plan costs $4.99 per month, and if you subscribe within the next 7 days, you'll get an additional 10% discount for the first three months. It includes access to digital issues, exclusive online articles, and interactive content. Would you like to subscribe to the digital plan now?\"}]}, {\"run_id\": \"run_20250310_052\", \"role\": \"user\", \"createdAt\": 1700030090, \"content\": [{\"type\": \"text\", \"text\": \"I\\u2019m interested. Please sign me up for the digital plan.\"}]}, {\"run_id\": \"run_20250310_052\", \"role\": \"assistant\", \"createdAt\": 1700030095, \"content\": [{\"type\": \"tool_call\", \"tool_call\": {\"id\": \"tool_call_20250310_051\", \"type\": \"function\", \"function\": {\"name\": \"subscribe_digital\", \"arguments\": {\"account_number\": \"555\", \"plan\": \"digital\", \"discount\": \"10%\"}}}}]}, {\"run_id\": \"run_20250310_052\", \"role\": \"tool\", \"createdAt\": 1700030100, \"tool_call_id\": \"tool_call_20250310_051\", \"content\": [{\"type\": \"tool_result\", \"tool_result\": \"{ \\\"status\\\": \\\"subscribed\\\", \\\"subscription_id\\\": \\\"DIGI123\\\" }\"}]}, {\"run_id\": \"run_20250310_052\", \"role\": \"assistant\", \"createdAt\": 1700030105, \"content\": [{\"type\": \"text\", \"text\": \"You are now subscribed to the digital plan. Your subscription ID is DIGI123. Is there anything else I can help you with today?\"}]}], \"tools\": [{\"id\": \"tool_130\", \"name\": \"cancel_subscription\", \"description\": \"Cancel a subscription given its ID.\", \"parameters\": {\"type\": \"object\", \"properties\": {\"subscription_id\": {\"type\": \"string\", \"description\": \"The subscription ID to cancel.\"}}}}, {\"id\": \"tool_131\", \"name\": \"subscribe_digital\", \"description\": \"Subscribe to a digital plan.\", \"parameters\": {\"type\": \"object\", \"properties\": {\"account_number\": {\"type\": \"string\", \"description\": \"The account number of the customer.\"}, \"plan\": {\"type\": \"string\", \"description\": \"The subscription plan to subscribe to.\"}, \"discount\": {\"type\": \"string\", \"description\": \"Any discount applied to the subscription.\"}}}}]}\n",
    "\n",
    "result = completeness_evaluator(\n",
    "    conversation=conversation,\n",
    ")\n",
    "result"
   ]
  },
  {
   "cell_type": "code",
   "execution_count": null,
   "metadata": {},
   "outputs": [],
   "source": []
  }
 ],
 "metadata": {
  "kernelspec": {
   "display_name": "agent-evals-bug-bash",
   "language": "python",
   "name": "python3"
  },
  "language_info": {
   "codemirror_mode": {
    "name": "ipython",
    "version": 3
   },
   "file_extension": ".py",
   "mimetype": "text/x-python",
   "name": "python",
   "nbconvert_exporter": "python",
   "pygments_lexer": "ipython3",
   "version": "3.11.11"
  }
 },
 "nbformat": 4,
 "nbformat_minor": 2
}
