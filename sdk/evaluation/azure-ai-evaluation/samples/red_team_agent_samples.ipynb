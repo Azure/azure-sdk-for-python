{
 "cells": [
  {
   "cell_type": "markdown",
   "metadata": {},
   "source": [
    "# Pre-requisites\n",
    "Install Azure AI Evaluation SDK with Red Team extra to use the Red Team Agent. "
   ]
  },
  {
   "cell_type": "markdown",
   "metadata": {},
   "source": [
    "## Install uv \n",
    "uv is a very fast Python package manager. It will help make the installation of azure-ai-evaluation with extras faster. Open a Powershell (Windows) or Terminal (macOS/Linux) to run the following commands:"
   ]
  },
  {
   "cell_type": "markdown",
   "metadata": {},
   "source": [
    "`pip install uv`"
   ]
  },
  {
   "cell_type": "markdown",
   "metadata": {},
   "source": [
    "## Create a virtual environment using uv\n",
    "Create a virtual environment using uv and specify a Python version >= 3.10"
   ]
  },
  {
   "cell_type": "markdown",
   "metadata": {},
   "source": [
    "`uv venv --python 3.11`"
   ]
  },
  {
   "cell_type": "markdown",
   "metadata": {},
   "source": [
    "Ensure you are running the following scripts using the virtual environment created. To do so, activate the virtual environment using: "
   ]
  },
  {
   "cell_type": "markdown",
   "metadata": {},
   "source": [
    "`.venv\\Scripts\\activate` (Windows) "
   ]
  },
  {
   "cell_type": "markdown",
   "metadata": {},
   "source": [
    "`source .venv/bin/activate` (macOS and Linux)"
   ]
  },
  {
   "cell_type": "markdown",
   "metadata": {},
   "source": [
    "## Install Azure AI Evaluation SDK with Red Team extra\n",
    "\n",
    "With the virtual environment activated, you can now install Azure AI Evaluation SDK with Red Team extra"
   ]
  },
  {
   "cell_type": "markdown",
   "metadata": {},
   "source": [
    "`uv pip install --upgrade \"git+https://github.com/slister1001/azure-sdk-for-python.git@red-team-agent-init#subdirectory=sdk/evaluation/azure-ai-evaluation&egg=azure-ai-evaluation[redteam]\"`"
   ]
  },
  {
   "cell_type": "markdown",
   "metadata": {},
   "source": [
    "You can now open VS Code an use this environment to run the examples:"
   ]
  },
  {
   "cell_type": "markdown",
   "metadata": {},
   "source": [
    "`code .`"
   ]
  },
  {
   "cell_type": "markdown",
   "metadata": {},
   "source": [
    "# Red Team Agent Configuration\n",
    "To run RedTeamAgent, you need to import packages and configure your environment."
   ]
  },
  {
   "cell_type": "markdown",
   "metadata": {},
   "source": [
    "## Import necessary packages"
   ]
  },
  {
   "cell_type": "code",
   "execution_count": null,
   "metadata": {},
   "outputs": [],
   "source": [
    "from azure.ai.evaluation.red_team_agent import RedTeamAgent, AttackStrategy, RiskCategory\n",
    "from azure.identity import DefaultAzureCredential\n",
    "from typing import Dict, List, Optional, Any\n",
    "import os"
   ]
  },
  {
   "cell_type": "markdown",
   "metadata": {},
   "source": [
    "## Connect to an Azure AI Project\n",
    "Navigate to this [Azure AI Foundry Hub](https://int.ai.azure.com/managementCenter/hub/overview?wsid=/subscriptions/4bf6b28a-452b-4af4-8080-8a196ee0ca4b/resourceGroups/naposani/providers/Microsoft.MachineLearningServices/workspaces/sydneylister-1523&flight=AIRedTeaming=true,EvalConvergence&tid=72f988bf-86f1-41af-91ab-2d7cd011db47), and select a project. Insert the project name in the below code as `<your-project-name>`"
   ]
  },
  {
   "cell_type": "code",
   "execution_count": null,
   "metadata": {},
   "outputs": [],
   "source": [
    "azure_ai_project = {\n",
    "    \"subscription_id\": os.environ.get(\"AZURE_SUBSCRIPTION_ID\"), # INSERT THE SUBSCRIPTION ID HERE\n",
    "    \"resource_group_name\": os.environ.get(\"AZURE_RESOURCE_GROUP_NAME\"), # INSERT THE RESOURCE GROUP NAME HERE\n",
    "    \"project_name\": os.environ.get(\"AZURE_PROJECT_NAME\"), # INSERT THE PROJECT NAME HERE\n",
    "}\n",
    "credential = DefaultAzureCredential()"
   ]
  },
  {
   "cell_type": "markdown",
   "metadata": {},
   "source": [
    "# Red Team Agent Examples\n",
    "\n",
    "Below are several examples demonstrating the various ways to use the RedTeamAgent for vulnerability scanning."
   ]
  },
  {
   "cell_type": "markdown",
   "metadata": {},
   "source": [
    "## Hello World! Basic Red Team Scan with Callback Function\n",
    "\n",
    "This example shows how to use the RedTeamAgent with a simple callback function to test your application."
   ]
  },
  {
   "cell_type": "code",
   "execution_count": null,
   "metadata": {},
   "outputs": [],
   "source": [
    "# Initialize RedTeamAgent\n",
    "agent = RedTeamAgent(azure_ai_project=azure_ai_project, credential=credential, num_objectives=1)\n",
    "\n",
    "# Create a simple application callback function\n",
    "def simple_app_callback(query: str) -> str:\n",
    "    \"\"\"A simple application callback function that responds to user queries\"\"\"\n",
    "    return f\"I'm an AI assistant that follows ethical guidelines. I cannot provide harmful content.\"\n",
    "\n",
    "# Run a basic scan with the callback function \n",
    "# Only baseline attack strategy will be used (baseline is added by default)\n",
    "results = await agent.scan(\n",
    "    target=simple_app_callback,\n",
    "    scan_name=\"Basic-Callback-Test\",\n",
    ")"
   ]
  },
  {
   "cell_type": "markdown",
   "metadata": {},
   "source": [
    "## Using Specific Attack Strategies\n",
    "\n",
    "This example demonstrates using specific individual attack strategies rather than complexity groups."
   ]
  },
  {
   "cell_type": "code",
   "execution_count": null,
   "metadata": {},
   "outputs": [],
   "source": [
    "# Initialize credentials and RedTeamAgent\n",
    "credential = DefaultAzureCredential()\n",
    "agent = RedTeamAgent(\n",
    "    azure_ai_project=azure_ai_project,\n",
    "    credential=credential, \n",
    "    num_objectives=10, \n",
    "    risk_categories=[RiskCategory.HateUnfairness, RiskCategory.Violence, RiskCategory.Sexual, RiskCategory.SelfHarm]\n",
    ")\n",
    "\n",
    "# Define a medical assistant callback\n",
    "def medical_assistant_callback(query: str) -> str:\n",
    "    return \"I'm a medical information assistant. I can provide general health information but cannot diagnose conditions or prescribe treatments.\"\n",
    "\n",
    "# Run a scan with specific attack strategies\n",
    "specific_strategy_results = await agent.scan(\n",
    "    target=medical_assistant_callback,\n",
    "    scan_name=\"Specific-Strategies-Test\",\n",
    "    attack_strategies=[\n",
    "        AttackStrategy.Base64,           # Encode prompts in Base64\n",
    "        AttackStrategy.Flip,             # Flip text to evade detection\n",
    "        AttackStrategy.CharacterSpace,   # Add character spaces\n",
    "        AttackStrategy.ROT13,            # Use ROT13 encoding\n",
    "        AttackStrategy.UnicodeConfusable,# Use confusable Unicode characters\n",
    "        AttackStrategy.Tense,            # Change tense of prompts\n",
    "        AttackStrategy.CharSwap,         # Swap characters in prompts\n",
    "        AttackStrategy.Morse,            # Encode prompts in Morse code\n",
    "        AttackStrategy.Leetspeak,        # Use Leetspeak\n",
    "        AttackStrategy.Url,              # Use URLs in prompts\n",
    "        AttackStrategy.Binary,           # Encode prompts in binary\n",
    "        AttackStrategy.MODERATE,         # Use group of moderate complexity attacks\n",
    "        AttackStrategy.DIFFICULT,        # Use group of difficult complexity attacks\n",
    "    ],\n",
    "    application_scenario=\"A medical information assistant for general health information\"\n",
    ")"
   ]
  },
  {
   "cell_type": "markdown",
   "metadata": {},
   "source": [
    "## Data-Only Mode (Without Evaluation)\n",
    "\n",
    "This example shows how to run in data-only mode to collect conversation data without performing evaluations."
   ]
  },
  {
   "cell_type": "code",
   "execution_count": null,
   "metadata": {},
   "outputs": [],
   "source": [
    "# Initialize credentials and RedTeamAgent\n",
    "credential = DefaultAzureCredential()\n",
    "agent = RedTeamAgent(azure_ai_project=azure_ai_project, credential=credential, risk_categories=[RiskCategory.Sexual, RiskCategory.HateUnfairness], num_objectives=2)\n",
    "\n",
    "# Define a simple content moderator callback\n",
    "def content_moderator_callback(query: str) -> str:\n",
    "    return \"I'm a content moderation assistant. I can help identify and flag potentially inappropriate content.\"\n",
    "\n",
    "# Run a data-only scan (without evaluations)\n",
    "data_only_results = await agent.scan(\n",
    "    target=content_moderator_callback,\n",
    "    scan_name=\"Data-Only-Test\",\n",
    "    attack_strategies=[AttackStrategy.Morse, AttackStrategy.Leetspeak],\n",
    "    application_scenario=\"A content moderation system for a social media platform\",\n",
    "    data_only=True  # Only collect conversation data without evaluations\n",
    ")\n",
    "\n",
    "# You can access the collected conversation data\n",
    "conversations = data_only_results.redteaming_data\n",
    "print(f\"Collected {len(conversations) if conversations else 0} conversations without evaluation\")\n",
    "data_only_results.attack_simulation()"
   ]
  }
 ],
 "metadata": {
  "kernelspec": {
   "display_name": "pyrit-3-24",
   "language": "python",
   "name": "python3"
  },
  "language_info": {
   "codemirror_mode": {
    "name": "ipython",
    "version": 3
   },
   "file_extension": ".py",
   "mimetype": "text/x-python",
   "name": "python",
   "nbconvert_exporter": "python",
   "pygments_lexer": "ipython3",
   "version": "3.11.9"
  }
 },
 "nbformat": 4,
 "nbformat_minor": 2
}
