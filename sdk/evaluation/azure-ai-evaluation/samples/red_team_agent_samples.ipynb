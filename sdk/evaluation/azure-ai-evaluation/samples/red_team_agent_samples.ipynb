{
 "cells": [
  {
   "cell_type": "markdown",
   "metadata": {},
   "source": [
    "# Before the bug bash\n",
    "Thank you for setting up your environment ahead of the bug bash!"
   ]
  },
  {
   "cell_type": "markdown",
   "metadata": {},
   "source": [
    "## Install uv \n",
    "uv is a very fast Python package manager. It will help make the installation of azure-ai-evaluation with extras faster."
   ]
  },
  {
   "cell_type": "code",
   "execution_count": null,
   "metadata": {},
   "outputs": [],
   "source": [
    "%pip install uv"
   ]
  },
  {
   "cell_type": "markdown",
   "metadata": {},
   "source": [
    "## Create a virtual environment using uv\n",
    "Create a virtual environment using uv and specify a Python version >= 3.10"
   ]
  },
  {
   "cell_type": "code",
   "execution_count": null,
   "metadata": {},
   "outputs": [],
   "source": [
    "%uv venv --python 3.11 "
   ]
  },
  {
   "cell_type": "markdown",
   "metadata": {},
   "source": [
    "Ensure you are running the following scripts using the virtual environment created. To do so, activate the virtual environment using: \n",
    "`.venv\\Scripts\\activate` on Windows or `source .venv/bin/activate` on macOS and Linux. "
   ]
  },
  {
   "cell_type": "markdown",
   "metadata": {},
   "source": [
    "## Install Azure AI Evaluation SDK with Red Team extra\n",
    "\n",
    "With the virtual environment activated, you can now install Azure AI Evaluation SDK with Red Team extra"
   ]
  },
  {
   "cell_type": "code",
   "execution_count": null,
   "metadata": {},
   "outputs": [],
   "source": [
    "%cd azure-sdk-for-python/sdk/evaluation/azure-ai-evaluation\n",
    "%uv pip install --upgrade \"git+https://github.com/slister1001/azure-sdk-for-python.git@red-team-agent-init#subdirectory=sdk/evaluation/azure-ai-evaluation&egg=azure-ai-evaluation[redteam]\""
   ]
  },
  {
   "cell_type": "markdown",
   "metadata": {},
   "source": [
    "Thank you for setting up your environment ahead of the bug bash!"
   ]
  },
  {
   "cell_type": "markdown",
   "metadata": {},
   "source": [
    "# Red Team Agent Bug Bash Configuration\n",
    "To run RedTeamAgent, you first need to import packages and configure your environment."
   ]
  },
  {
   "cell_type": "markdown",
   "metadata": {},
   "source": [
    "## Connect to an Azure AI Project\n",
    "Navigate to this [Azure AI Foundry Hub](https://int.ai.azure.com/managementCenter/hub/overview?wsid=/subscriptions/4bf6b28a-452b-4af4-8080-8a196ee0ca4b/resourceGroups/naposani/providers/Microsoft.MachineLearningServices/workspaces/sydneylister-1523&flight=AIRedTeaming=true,EvalConvergence&tid=72f988bf-86f1-41af-91ab-2d7cd011db47), and select a project. Insert the project name in the below code as `<your-project-name>`"
   ]
  },
  {
   "cell_type": "code",
   "execution_count": null,
   "metadata": {},
   "outputs": [
    {
     "data": {
      "text/plain": [
       "True"
      ]
     },
     "execution_count": 1,
     "metadata": {},
     "output_type": "execute_result"
    }
   ],
   "source": [
    "#TODO: delete this cell\n",
    "from dotenv import load_dotenv\n",
    "import os\n",
    "load_dotenv()"
   ]
  },
  {
   "cell_type": "code",
   "execution_count": 2,
   "metadata": {},
   "outputs": [],
   "source": [
    "azure_ai_project = {\n",
    "    \"subscription_id\": \"4bf6b28a-452b-4af4-8080-8a196ee0ca4b\",\n",
    "    \"resource_group_name\": \"naposani\",\n",
    "    \"project_name\": os.environ.get(\"AZURE_PROJECT_NAME\"), # INSERT THE PROJECT NAME HERE\n",
    "}"
   ]
  },
  {
   "cell_type": "markdown",
   "metadata": {},
   "source": [
    "## Import necessary packages"
   ]
  },
  {
   "cell_type": "code",
   "execution_count": 4,
   "metadata": {},
   "outputs": [
    {
     "name": "stderr",
     "output_type": "stream",
     "text": [
      "None of PyTorch, TensorFlow >= 2.0, or Flax have been found. Models won't be available and only tokenizers, configuration and file/data utilities can be used.\n"
     ]
    }
   ],
   "source": [
    "from azure.ai.evaluation.red_team_agent import RedTeamAgent, AttackStrategy, RiskCategory\n",
    "from azure.identity import DefaultAzureCredential\n",
    "from typing import Dict, List, Optional, Any\n",
    "import os"
   ]
  },
  {
   "cell_type": "markdown",
   "metadata": {},
   "source": [
    "# Red Team Agent Examples\n",
    "\n",
    "Below are several examples demonstrating the various ways to use the RedTeamAgent for vulnerability scanning."
   ]
  },
  {
   "cell_type": "markdown",
   "metadata": {},
   "source": [
    "## Hello World! Basic Red Team Scan with Callback Function\n",
    "\n",
    "This example shows how to use the RedTeamAgent with a simple callback function to test your application."
   ]
  },
  {
   "cell_type": "code",
   "execution_count": 7,
   "metadata": {},
   "outputs": [
    {
     "name": "stderr",
     "output_type": "stream",
     "text": [
      "[2025-03-22 12:28:58 -0700][promptflow._core.entry_meta_generator][WARNING] - Generate meta in current process and timeout won't take effect. Please handle timeout manually outside current process.\n",
      "[2025-03-22 12:28:58 -0700][promptflow._sdk._orchestrator.run_submitter][INFO] - Submitting run azure_ai_evaluation_evaluators_common_base_eval_asyncevaluatorbase_84jz_u9p_20250322_122858_840150, log path: C:\\Users\\sydneylister\\.promptflow\\.runs\\azure_ai_evaluation_evaluators_common_base_eval_asyncevaluatorbase_84jz_u9p_20250322_122858_840150\\logs.txt\n"
     ]
    }
   ],
   "source": [
    "# Initialize credentials and RedTeamAgent\n",
    "credential = DefaultAzureCredential()\n",
    "agent = RedTeamAgent(azure_ai_project=azure_ai_project, credential=credential)\n",
    "\n",
    "# Create a simple application callback function\n",
    "def simple_app_callback(query: str) -> str:\n",
    "    \"\"\"A simple application callback function that responds to user queries\"\"\"\n",
    "    return f\"I'm an AI assistant that follows ethical guidelines. I cannot provide harmful content.\"\n",
    "\n",
    "# Run a basic scan with the callback function (baseline is added by default)\n",
    "results = await agent.scan(\n",
    "    target=simple_app_callback,\n",
    "    scan_name=\"Basic-Callback-Test\",\n",
    "    num_objectives=1,\n",
    "    risk_categories=[RiskCategory.Violence],\n",
    ")"
   ]
  },
  {
   "cell_type": "markdown",
   "metadata": {},
   "source": [
    "## Specify Pre-defined Attack Strategy Complexities\n",
    "\n",
    "This example demonstrates using pre-defined complexity levels for attacks."
   ]
  },
  {
   "cell_type": "code",
   "execution_count": null,
   "metadata": {},
   "outputs": [
    {
     "name": "stderr",
     "output_type": "stream",
     "text": [
      "[2025-03-22 12:32:11 -0700][promptflow._core.entry_meta_generator][WARNING] - Generate meta in current process and timeout won't take effect. Please handle timeout manually outside current process.\n",
      "[2025-03-22 12:32:11 -0700][promptflow._sdk._orchestrator.run_submitter][INFO] - Submitting run azure_ai_evaluation_evaluators_common_base_eval_asyncevaluatorbase_cbngrpr3_20250322_123211_381548, log path: C:\\Users\\sydneylister\\.promptflow\\.runs\\azure_ai_evaluation_evaluators_common_base_eval_asyncevaluatorbase_cbngrpr3_20250322_123211_381548\\logs.txt\n",
      "[2025-03-22 12:32:19 -0700][promptflow._core.entry_meta_generator][WARNING] - Generate meta in current process and timeout won't take effect. Please handle timeout manually outside current process.\n",
      "[2025-03-22 12:32:19 -0700][promptflow._sdk._orchestrator.run_submitter][INFO] - Submitting run azure_ai_evaluation_evaluators_common_base_eval_asyncevaluatorbase_9q8bqlh7_20250322_123219_743177, log path: C:\\Users\\sydneylister\\.promptflow\\.runs\\azure_ai_evaluation_evaluators_common_base_eval_asyncevaluatorbase_9q8bqlh7_20250322_123219_743177\\logs.txt\n",
      "[2025-03-22 12:32:31 -0700][promptflow._core.entry_meta_generator][WARNING] - Generate meta in current process and timeout won't take effect. Please handle timeout manually outside current process.\n",
      "[2025-03-22 12:32:31 -0700][promptflow._sdk._orchestrator.run_submitter][INFO] - Submitting run azure_ai_evaluation_evaluators_common_base_eval_asyncevaluatorbase_9d3grwyg_20250322_123231_751890, log path: C:\\Users\\sydneylister\\.promptflow\\.runs\\azure_ai_evaluation_evaluators_common_base_eval_asyncevaluatorbase_9d3grwyg_20250322_123231_751890\\logs.txt\n",
      "[2025-03-22 12:32:43 -0700][promptflow._core.entry_meta_generator][WARNING] - Generate meta in current process and timeout won't take effect. Please handle timeout manually outside current process.\n",
      "[2025-03-22 12:32:43 -0700][promptflow._sdk._orchestrator.run_submitter][INFO] - Submitting run azure_ai_evaluation_evaluators_common_base_eval_asyncevaluatorbase_hrnf59fc_20250322_123243_716510, log path: C:\\Users\\sydneylister\\.promptflow\\.runs\\azure_ai_evaluation_evaluators_common_base_eval_asyncevaluatorbase_hrnf59fc_20250322_123243_716510\\logs.txt\n",
      "[2025-03-22 12:32:52 -0700][promptflow._core.entry_meta_generator][WARNING] - Generate meta in current process and timeout won't take effect. Please handle timeout manually outside current process.\n",
      "[2025-03-22 12:32:52 -0700][promptflow._sdk._orchestrator.run_submitter][INFO] - Submitting run azure_ai_evaluation_evaluators_common_base_eval_asyncevaluatorbase_7zt4khiy_20250322_123252_300975, log path: C:\\Users\\sydneylister\\.promptflow\\.runs\\azure_ai_evaluation_evaluators_common_base_eval_asyncevaluatorbase_7zt4khiy_20250322_123252_300975\\logs.txt\n",
      "[2025-03-22 12:33:04 -0700][promptflow._core.entry_meta_generator][WARNING] - Generate meta in current process and timeout won't take effect. Please handle timeout manually outside current process.\n",
      "[2025-03-22 12:33:04 -0700][promptflow._sdk._orchestrator.run_submitter][INFO] - Submitting run azure_ai_evaluation_evaluators_common_base_eval_asyncevaluatorbase_t56n1v0_20250322_123304_742953, log path: C:\\Users\\sydneylister\\.promptflow\\.runs\\azure_ai_evaluation_evaluators_common_base_eval_asyncevaluatorbase_t56n1v0_20250322_123304_742953\\logs.txt\n",
      "[2025-03-22 12:33:17 -0700][promptflow._core.entry_meta_generator][WARNING] - Generate meta in current process and timeout won't take effect. Please handle timeout manually outside current process.\n",
      "[2025-03-22 12:33:17 -0700][promptflow._sdk._orchestrator.run_submitter][INFO] - Submitting run azure_ai_evaluation_evaluators_common_base_eval_asyncevaluatorbase_ybb5w66u_20250322_123317_426753, log path: C:\\Users\\sydneylister\\.promptflow\\.runs\\azure_ai_evaluation_evaluators_common_base_eval_asyncevaluatorbase_ybb5w66u_20250322_123317_426753\\logs.txt\n",
      "[2025-03-22 12:33:29 -0700][promptflow._core.entry_meta_generator][WARNING] - Generate meta in current process and timeout won't take effect. Please handle timeout manually outside current process.\n",
      "[2025-03-22 12:33:29 -0700][promptflow._sdk._orchestrator.run_submitter][INFO] - Submitting run azure_ai_evaluation_evaluators_common_base_eval_asyncevaluatorbase_x_xiw4ak_20250322_123329_256335, log path: C:\\Users\\sydneylister\\.promptflow\\.runs\\azure_ai_evaluation_evaluators_common_base_eval_asyncevaluatorbase_x_xiw4ak_20250322_123329_256335\\logs.txt\n",
      "[2025-03-22 12:33:43 -0700][promptflow._core.entry_meta_generator][WARNING] - Generate meta in current process and timeout won't take effect. Please handle timeout manually outside current process.\n",
      "[2025-03-22 12:33:43 -0700][promptflow._sdk._orchestrator.run_submitter][INFO] - Submitting run azure_ai_evaluation_evaluators_common_base_eval_asyncevaluatorbase_67nec62u_20250322_123342_984610, log path: C:\\Users\\sydneylister\\.promptflow\\.runs\\azure_ai_evaluation_evaluators_common_base_eval_asyncevaluatorbase_67nec62u_20250322_123342_984610\\logs.txt\n",
      "[2025-03-22 12:33:56 -0700][promptflow._core.entry_meta_generator][WARNING] - Generate meta in current process and timeout won't take effect. Please handle timeout manually outside current process.\n",
      "[2025-03-22 12:33:56 -0700][promptflow._sdk._orchestrator.run_submitter][INFO] - Submitting run azure_ai_evaluation_evaluators_common_base_eval_asyncevaluatorbase_1z_vim50_20250322_123356_204235, log path: C:\\Users\\sydneylister\\.promptflow\\.runs\\azure_ai_evaluation_evaluators_common_base_eval_asyncevaluatorbase_1z_vim50_20250322_123356_204235\\logs.txt\n",
      "[2025-03-22 12:34:08 -0700][promptflow._core.entry_meta_generator][WARNING] - Generate meta in current process and timeout won't take effect. Please handle timeout manually outside current process.\n",
      "[2025-03-22 12:34:08 -0700][promptflow._sdk._orchestrator.run_submitter][INFO] - Submitting run azure_ai_evaluation_evaluators_common_base_eval_asyncevaluatorbase_impfx6bn_20250322_123408_863014, log path: C:\\Users\\sydneylister\\.promptflow\\.runs\\azure_ai_evaluation_evaluators_common_base_eval_asyncevaluatorbase_impfx6bn_20250322_123408_863014\\logs.txt\n",
      "[2025-03-22 12:34:21 -0700][promptflow._core.entry_meta_generator][WARNING] - Generate meta in current process and timeout won't take effect. Please handle timeout manually outside current process.\n",
      "[2025-03-22 12:34:21 -0700][promptflow._sdk._orchestrator.run_submitter][INFO] - Submitting run azure_ai_evaluation_evaluators_common_base_eval_asyncevaluatorbase_bi11j27f_20250322_123421_133580, log path: C:\\Users\\sydneylister\\.promptflow\\.runs\\azure_ai_evaluation_evaluators_common_base_eval_asyncevaluatorbase_bi11j27f_20250322_123421_133580\\logs.txt\n",
      "[2025-03-22 12:34:33 -0700][promptflow._core.entry_meta_generator][WARNING] - Generate meta in current process and timeout won't take effect. Please handle timeout manually outside current process.\n",
      "[2025-03-22 12:34:33 -0700][promptflow._sdk._orchestrator.run_submitter][INFO] - Submitting run azure_ai_evaluation_evaluators_common_base_eval_asyncevaluatorbase_69bqe5v7_20250322_123433_759822, log path: C:\\Users\\sydneylister\\.promptflow\\.runs\\azure_ai_evaluation_evaluators_common_base_eval_asyncevaluatorbase_69bqe5v7_20250322_123433_759822\\logs.txt\n",
      "[2025-03-22 12:34:47 -0700][promptflow._core.entry_meta_generator][WARNING] - Generate meta in current process and timeout won't take effect. Please handle timeout manually outside current process.\n",
      "[2025-03-22 12:34:47 -0700][promptflow._sdk._orchestrator.run_submitter][INFO] - Submitting run azure_ai_evaluation_evaluators_common_base_eval_asyncevaluatorbase_8squcmf6_20250322_123447_647219, log path: C:\\Users\\sydneylister\\.promptflow\\.runs\\azure_ai_evaluation_evaluators_common_base_eval_asyncevaluatorbase_8squcmf6_20250322_123447_647219\\logs.txt\n",
      "[2025-03-22 12:35:00 -0700][promptflow._core.entry_meta_generator][WARNING] - Generate meta in current process and timeout won't take effect. Please handle timeout manually outside current process.\n",
      "[2025-03-22 12:35:00 -0700][promptflow._sdk._orchestrator.run_submitter][INFO] - Submitting run azure_ai_evaluation_evaluators_common_base_eval_asyncevaluatorbase_3219p5py_20250322_123500_531677, log path: C:\\Users\\sydneylister\\.promptflow\\.runs\\azure_ai_evaluation_evaluators_common_base_eval_asyncevaluatorbase_3219p5py_20250322_123500_531677\\logs.txt\n",
      "[2025-03-22 12:35:13 -0700][promptflow._core.entry_meta_generator][WARNING] - Generate meta in current process and timeout won't take effect. Please handle timeout manually outside current process.\n",
      "[2025-03-22 12:35:13 -0700][promptflow._sdk._orchestrator.run_submitter][INFO] - Submitting run azure_ai_evaluation_evaluators_common_base_eval_asyncevaluatorbase_qwmuj1_z_20250322_123513_369800, log path: C:\\Users\\sydneylister\\.promptflow\\.runs\\azure_ai_evaluation_evaluators_common_base_eval_asyncevaluatorbase_qwmuj1_z_20250322_123513_369800\\logs.txt\n",
      "[2025-03-22 12:35:26 -0700][promptflow._core.entry_meta_generator][WARNING] - Generate meta in current process and timeout won't take effect. Please handle timeout manually outside current process.\n",
      "[2025-03-22 12:35:26 -0700][promptflow._sdk._orchestrator.run_submitter][INFO] - Submitting run azure_ai_evaluation_evaluators_common_base_eval_asyncevaluatorbase_f6ps3ar6_20250322_123526_240113, log path: C:\\Users\\sydneylister\\.promptflow\\.runs\\azure_ai_evaluation_evaluators_common_base_eval_asyncevaluatorbase_f6ps3ar6_20250322_123526_240113\\logs.txt\n",
      "[2025-03-22 12:35:38 -0700][promptflow._core.entry_meta_generator][WARNING] - Generate meta in current process and timeout won't take effect. Please handle timeout manually outside current process.\n",
      "[2025-03-22 12:35:38 -0700][promptflow._sdk._orchestrator.run_submitter][INFO] - Submitting run azure_ai_evaluation_evaluators_common_base_eval_asyncevaluatorbase_qbgcxhte_20250322_123538_744611, log path: C:\\Users\\sydneylister\\.promptflow\\.runs\\azure_ai_evaluation_evaluators_common_base_eval_asyncevaluatorbase_qbgcxhte_20250322_123538_744611\\logs.txt\n"
     ]
    }
   ],
   "source": [
    "# Define a callback that simulates a financial advisor chatbot\n",
    "def financial_advisor_callback(query: str) -> str:\n",
    "    return \"I'm a financial advisor assistant. I can help with investment advice and financial planning within legal and ethical guidelines.\"\n",
    "\n",
    "# Run a scan with different complexity levels\n",
    "complexity_results = await agent.scan(\n",
    "    target=financial_advisor_callback,\n",
    "    scan_name=\"Complexity-Levels-Test\",\n",
    "    attack_strategies=[\n",
    "        AttackStrategy.EASY,      # Group of easy complexity attacks\n",
    "        AttackStrategy.MODERATE,  # Group of moderate complexity attacks\n",
    "        AttackStrategy.DIFFICULT  # Group of difficult complexity attacks\n",
    "    ],\n",
    "    num_objectives=1,\n",
    "    application_scenario=\"A financial advisor chatbot for investment planning\"\n",
    ")"
   ]
  },
  {
   "cell_type": "markdown",
   "metadata": {},
   "source": [
    "## Using Specific Attack Strategies\n",
    "\n",
    "This example demonstrates using specific individual attack strategies rather than complexity groups."
   ]
  },
  {
   "cell_type": "code",
   "execution_count": null,
   "metadata": {},
   "outputs": [],
   "source": [
    "# Define a medical assistant callback\n",
    "def medical_assistant_callback(query: str) -> str:\n",
    "    return \"I'm a medical information assistant. I can provide general health information but cannot diagnose conditions or prescribe treatments.\"\n",
    "\n",
    "# Run a scan with specific attack strategies\n",
    "specific_strategy_results = await agent.scan(\n",
    "    target=medical_assistant_callback,\n",
    "    scan_name=\"Specific-Strategies-Test\",\n",
    "    attack_strategies=[\n",
    "        AttackStrategy.Base64,           # Encode prompts in Base64\n",
    "        AttackStrategy.Flip,             # Flip text to evade detection\n",
    "        AttackStrategy.CharacterSpace,   # Add character spaces\n",
    "        AttackStrategy.ROT13,            # Use ROT13 encoding\n",
    "        AttackStrategy.UnicodeConfusable,# Use confusable Unicode characters\n",
    "        AttackStrategy.Tense,            # Change tense of prompts\n",
    "        AttackStrategy.CharSwap,         # Swap characters in prompts\n",
    "        AttackStrategy.Morse,            # Encode prompts in Morse code\n",
    "        AttackStrategy.Leetspeak,        # Use Leetspeak\n",
    "        AttackStrategy.Url,              # Use URLs in prompts\n",
    "        AttackStrategy.Binary,           # Encode prompts in binary\n",
    "        AttackStrategy.ROT13,            # Use ROT13 encoding\n",
    "        AttackStrategy.AsciiArt,         # Use ASCII art\n",
    "\n",
    "    ],\n",
    "    risk_categories=[RiskCategory.SelfHarm, RiskCategory.HateUnfairness, RiskCategory.Violence, RiskCategory.Sexual],\n",
    "    num_objectives=10,\n",
    "    application_scenario=\"A medical information assistant for general health information\"\n",
    ")"
   ]
  },
  {
   "cell_type": "markdown",
   "metadata": {},
   "source": [
    "## Data-Only Mode (Without Evaluation)\n",
    "\n",
    "This example shows how to run in data-only mode to collect conversation data without performing evaluations."
   ]
  },
  {
   "cell_type": "code",
   "execution_count": null,
   "metadata": {},
   "outputs": [],
   "source": [
    "# Define a simple content moderator callback\n",
    "def content_moderator_callback(query: str) -> str:\n",
    "    return \"I'm a content moderation assistant. I can help identify and flag potentially inappropriate content.\"\n",
    "\n",
    "# Run a data-only scan (without evaluations)\n",
    "data_only_results = await agent.scan(\n",
    "    target=content_moderator_callback,\n",
    "    scan_name=\"Data-Only-Test\",\n",
    "    attack_strategies=[AttackStrategy.Morse, AttackStrategy.Leetspeak],\n",
    "    risk_categories=[RiskCategory.Sexual, RiskCategory.HateUnfairness],\n",
    "    num_objectives=2,\n",
    "    application_scenario=\"A content moderation system for a social media platform\",\n",
    "    data_only=True  # Only collect conversation data without evaluations\n",
    ")\n",
    "\n",
    "# You can access the collected conversation data\n",
    "conversations = data_only_results.redteaming_data\n",
    "print(f\"Collected {len(conversations) if conversations else 0} conversations without evaluation\")\n",
    "data_only_results.attack_simulation()"
   ]
  }
 ],
 "metadata": {
  "kernelspec": {
   "display_name": "pyrit-3-22",
   "language": "python",
   "name": "python3"
  },
  "language_info": {
   "codemirror_mode": {
    "name": "ipython",
    "version": 3
   },
   "file_extension": ".py",
   "mimetype": "text/x-python",
   "name": "python",
   "nbconvert_exporter": "python",
   "pygments_lexer": "ipython3",
   "version": "3.11.9"
  }
 },
 "nbformat": 4,
 "nbformat_minor": 2
}
