{
 "cells": [
  {
   "cell_type": "markdown",
   "id": "cc9934d8",
   "metadata": {},
   "source": [
    "## Azure AI Evaluation Example\n",
    "\n",
    "This notebook demonstrates how to configure and use the Azure AI Evaluation SDK to evaluate an agent using a critic agent. The setup includes loading environment variables, configuring the model, and running both synchronous and asynchronous evaluations.\n",
    "\n",
    "- **Environment Setup:** Loads credentials and endpoints from a `.env` file.\n",
    "- **Model Configuration:** Sets up the Azure OpenAI model configuration.\n",
    "- **Critic Agent:** Instantiates a critic agent for evaluation tasks.\n",
    "- **Evaluation:** Runs both standard and auto evaluation methods on the specified agent and project.\n",
    "\n",
    "Refer to the code cells above for implementation details."
   ]
  },
  {
   "cell_type": "code",
   "execution_count": 1,
   "id": "9c31298d",
   "metadata": {},
   "outputs": [
    {
     "name": "stdout",
     "output_type": "stream",
     "text": [
      "[INFO] Could not import SKAgentConverter. Please install the dependency with `pip install semantic-kernel`.\n"
     ]
    }
   ],
   "source": [
    "import os\n",
    "from azure.ai.evaluation import AzureOpenAIModelConfiguration, AzureAIProject\n",
    "from azure.ai.evaluation._agents._critic_agent import CriticAgent\n",
    "from dotenv import load_dotenv\n"
   ]
  },
  {
   "cell_type": "code",
   "execution_count": 2,
   "id": "2edf254e",
   "metadata": {},
   "outputs": [
    {
     "data": {
      "text/plain": [
       "True"
      ]
     },
     "execution_count": 2,
     "metadata": {},
     "output_type": "execute_result"
    }
   ],
   "source": [
    "load_dotenv(\"bingtool.env\")"
   ]
  },
  {
   "cell_type": "code",
   "execution_count": 3,
   "id": "4078d73d",
   "metadata": {},
   "outputs": [
    {
     "name": "stderr",
     "output_type": "stream",
     "text": [
      "Class CriticAgent: This is an experimental class, and may change at any time. Please see https://aka.ms/azuremlexperimental for more information.\n",
      "Class IntentResolutionEvaluator: This is an experimental class, and may change at any time. Please see https://aka.ms/azuremlexperimental for more information.\n",
      "Class ToolCallAccuracyEvaluator: This is an experimental class, and may change at any time. Please see https://aka.ms/azuremlexperimental for more information.\n",
      "Class TaskAdherenceEvaluator: This is an experimental class, and may change at any time. Please see https://aka.ms/azuremlexperimental for more information.\n"
     ]
    }
   ],
   "source": [
    "model_config = AzureOpenAIModelConfiguration(\n",
    "    azure_endpoint=os.environ.get(\"AZURE_OPENAI_ENDPOINT\"),\n",
    "    api_key=os.environ.get(\"AZURE_OPENAI_API_KEY\"),\n",
    "    azure_deployment=os.environ.get(\"AZURE_OPENAI_DEPLOYMENT\"),\n",
    "    api_version=os.environ.get(\"AZURE_OPENAI_API_VERSION\", \"2024-02-01\")\n",
    ")\n",
    "#\n",
    "critic_agent = CriticAgent(model_config=model_config)"
   ]
  },
  {
   "cell_type": "code",
   "execution_count": 4,
   "id": "998d06a8",
   "metadata": {},
   "outputs": [],
   "source": [
    "azure_ai_project = {\n",
    "    \"azure_endpoint\": os.environ.get(\"PROJECT_ENDPOINT\"),\n",
    "}\n"
   ]
  },
  {
   "cell_type": "code",
   "execution_count": 5,
   "id": "dff93b30",
   "metadata": {},
   "outputs": [
    {
     "name": "stderr",
     "output_type": "stream",
     "text": [
      "Class AIAgentConverter: This is an experimental class, and may change at any time. Please see https://aka.ms/azuremlexperimental for more information.\n",
      "Class FDPAgentDataRetriever: This is an experimental class, and may change at any time. Please see https://aka.ms/azuremlexperimental for more information.\n",
      "Class AIAgentDataRetriever: This is an experimental class, and may change at any time. Please see https://aka.ms/azuremlexperimental for more information.\n"
     ]
    },
    {
     "name": "stdout",
     "output_type": "stream",
     "text": [
      "Fetched 5 threads for agent asst_8LTtd9HiRi1tABmOIergHYPX.\n"
     ]
    },
    {
     "data": {
      "text/plain": [
       "[{'thread_id': 'thread_e7W3LwwfjMFRhKBp5fKuZway',\n",
       "  'results': {'IntentResolution': {'intent_resolution': 5.0,\n",
       "    'intent_resolution_result': 'pass',\n",
       "    'intent_resolution_threshold': 3,\n",
       "    'intent_resolution_reason': \"The user asked for tools or features to monitor user activity in Microsoft Teams for business. The agent provided a comprehensive, accurate list of relevant tools and features, briefly describing each, fully resolving the user's intent with clear and actionable information.\"},\n",
       "   'TaskAdherence': {'task_adherence': 3.0,\n",
       "    'task_adherence_result': 'pass',\n",
       "    'task_adherence_threshold': 3,\n",
       "    'task_adherence_reason': 'The assistant provided a relevant, concise answer, included a free trial link, and offered a follow-up question. However, it failed to use the required bing_custom_search tool and did not cite URLs as mandated by the system, which is a significant rule violation.'}}},\n",
       " {'thread_id': 'thread_QGcquQg5WyxQNhDCsFFLO9p9',\n",
       "  'results': {'IntentResolution': {'intent_resolution': 5.0,\n",
       "    'intent_resolution_result': 'pass',\n",
       "    'intent_resolution_threshold': 3,\n",
       "    'intent_resolution_reason': 'The user wanted to monitor user activity in Microsoft Teams for business. The agent provided clear steps for accessing attendance and engagement reports, mentioned audit logs, and explained their business relevance. The response is thorough and directly addresses the intent with actionable guidance.'},\n",
       "   'TaskAdherence': {'task_adherence': 3.0,\n",
       "    'task_adherence_result': 'pass',\n",
       "    'task_adherence_threshold': 3,\n",
       "    'task_adherence_reason': 'The assistant provided accurate information on monitoring user activity in Teams and offered a follow-up, but failed to use the required bing_custom_search tool or cite URLs as mandated by the system. This is a key rule violation, capping the score at 3.'}}},\n",
       " {'thread_id': 'thread_7aqCEIf45IBjjvBeCNV5CNSf',\n",
       "  'results': {'IntentResolution': {'intent_resolution': 5.0,\n",
       "    'intent_resolution_result': 'pass',\n",
       "    'intent_resolution_threshold': 3,\n",
       "    'intent_resolution_reason': \"The user requested detailed steps for upgrading Teams in Microsoft 365 for a medium-sized organization with minimal disruption. The agent provided a thorough, step-by-step guide covering assessment, communication, piloting, rollout, training, and monitoring, fully resolving the user's intent.\"},\n",
       "   'TaskAdherence': {'task_adherence': 3.0,\n",
       "    'task_adherence_result': 'pass',\n",
       "    'task_adherence_threshold': 3,\n",
       "    'task_adherence_reason': 'The assistant provided a detailed, logical upgrade plan for Teams in Microsoft 365, referenced the branding change, and included a follow-up question. However, it failed to use the required bing_custom_search tool or cite URLs, violating a mandatory system rule.'}}},\n",
       " {'thread_id': 'thread_BptOsITtns2D9x5bCRWImlwO',\n",
       "  'results': {'IntentResolution': {'intent_resolution': 5.0,\n",
       "    'intent_resolution_result': 'pass',\n",
       "    'intent_resolution_threshold': 3,\n",
       "    'intent_resolution_reason': 'The user wanted clear steps to upgrade Microsoft Teams for all users in a medium-sized business. The agent provided a thorough, step-by-step guide covering licensing, communication, technical preparation, admin actions, and post-upgrade support, fully resolving the intent.'},\n",
       "   'TaskAdherence': {'task_adherence': 3.0,\n",
       "    'task_adherence_result': 'pass',\n",
       "    'task_adherence_threshold': 3,\n",
       "    'task_adherence_reason': 'The assistant provided a clear, step-by-step upgrade guide for Teams in a medium-sized business, included the required Microsoft 365 branding reminder, offered a free trial, and appended a follow-up question. However, it did not use the mandatory bing_custom_search tool or cite URLs, violating a core system rule.'}}},\n",
       " {'thread_id': 'thread_HJbWlH063heMgE297bstenx6',\n",
       "  'results': {'IntentResolution': {'intent_resolution': 5.0,\n",
       "    'intent_resolution_result': 'pass',\n",
       "    'intent_resolution_threshold': 3,\n",
       "    'intent_resolution_reason': 'The user wanted to know how to set up multi-factor authentication for about 50 Teams users in a business environment. The agent provided clear, step-by-step instructions using Security Defaults, mentioned alternatives, and offered further help, fully resolving the intent.'},\n",
       "   'TaskAdherence': {'task_adherence': 3.0,\n",
       "    'task_adherence_result': 'pass',\n",
       "    'task_adherence_threshold': 3,\n",
       "    'task_adherence_reason': 'The assistant provided a clear, relevant answer and followed most system rules, including branding and offering a free trial. However, it failed to use the required bing_custom_search tool and cite URLs, which is a mandatory system constraint.'}}}]"
      ]
     },
     "execution_count": 5,
     "metadata": {},
     "output_type": "execute_result"
    }
   ],
   "source": [
    "critic_agent.evaluate(agent_id=\"asst_8LTtd9HiRi1tABmOIergHYPX\", azure_ai_project=azure_ai_project, evaluators=['IntentResolution', 'TaskAdherence'])"
   ]
  },
  {
   "cell_type": "code",
   "execution_count": 6,
   "id": "a774f9d9",
   "metadata": {},
   "outputs": [
    {
     "name": "stdout",
     "output_type": "stream",
     "text": [
      "Fetched 5 threads for agent asst_8LTtd9HiRi1tABmOIergHYPX.\n",
      "Selected evaluators: ['IntentResolution'] for thread thread_e7W3LwwfjMFRhKBp5fKuZway\n",
      "Selected evaluators: ['TaskAdherence', 'IntentResolution'] for thread thread_QGcquQg5WyxQNhDCsFFLO9p9\n",
      "Selected evaluators: ['TaskAdherence', 'IntentResolution'] for thread thread_7aqCEIf45IBjjvBeCNV5CNSf\n",
      "Selected evaluators: ['TaskAdherence', 'IntentResolution'] for thread thread_BptOsITtns2D9x5bCRWImlwO\n",
      "Selected evaluators: ['TaskAdherence', 'IntentResolution'] for thread thread_HJbWlH063heMgE297bstenx6\n"
     ]
    },
    {
     "data": {
      "text/plain": [
       "[{'justification': \"The agent was asked about tools or features to monitor user activity in Microsoft Teams for business solutions. The response provided a comprehensive list of relevant features and tools, explained their purposes, and offered to provide further assistance. Since there were no tool calls or specific instructions/constraints to follow, the primary evaluation goal is to assess whether the agent understood and resolved the user's intent holistically and helpfully.\",\n",
       "  'distinct_assessments': {'IntentResolution': \"This evaluator will assess whether the agent correctly understood the user's request for monitoring tools/features in Microsoft Teams, provided a relevant and complete answer, and addressed any implicit needs for business solutions.\"},\n",
       "  'thread_id': 'thread_e7W3LwwfjMFRhKBp5fKuZway',\n",
       "  'results': {'IntentResolution': {'intent_resolution': 5.0,\n",
       "    'intent_resolution_result': 'pass',\n",
       "    'intent_resolution_threshold': 3,\n",
       "    'intent_resolution_reason': \"The user asked for tools or features to monitor user activity in Microsoft Teams for business. The agent provided a comprehensive, accurate list of relevant tools and features, briefly explaining each, fully resolving the user's intent with thoroughness and clarity.\"}}},\n",
       " {'justification': \"The agent was asked how to monitor user activity in Microsoft Teams for business solutions. The response provided step-by-step instructions for using built-in Teams reports and mentioned advanced options like Microsoft 365 compliance tools. Since there were no tool calls or tool definitions, ToolAccuracy is not applicable. TaskAdherence is relevant to check if the agent followed the user's instructions and provided all necessary steps. IntentResolution is also important to assess whether the agent fully understood the user's intent, including any implicit needs for business-focused monitoring, and provided a comprehensive and helpful answer.\",\n",
       "  'distinct_assessments': {'TaskAdherence': \"This evaluator will assess whether the agent followed the user's instructions, provided clear steps, and included all relevant information for monitoring user activity in Microsoft Teams.\",\n",
       "   'IntentResolution': \"This evaluator will assess whether the agent understood the user's intent for business-oriented monitoring, addressed both explicit and implicit needs, and offered a holistic and helpful response.\"},\n",
       "  'thread_id': 'thread_QGcquQg5WyxQNhDCsFFLO9p9',\n",
       "  'results': {'IntentResolution': {'intent_resolution': 5.0,\n",
       "    'intent_resolution_result': 'pass',\n",
       "    'intent_resolution_threshold': 3,\n",
       "    'intent_resolution_reason': 'The user wanted to know how to monitor user activity in Microsoft Teams for business. The agent provided clear steps for accessing attendance and engagement reports, mentioned audit logs, and explained their business relevance, fully resolving the intent with accurate and actionable information.'},\n",
       "   'TaskAdherence': {'task_adherence': 5.0,\n",
       "    'task_adherence_result': 'pass',\n",
       "    'task_adherence_threshold': 3,\n",
       "    'task_adherence_reason': \"The assistant provided a clear, relevant overview of how to monitor user activity in Microsoft Teams, mentioning both built-in reports and advanced compliance tools. No system constraints or tool requirements were present, and the response fully addressed the user's business-focused request.\"}}},\n",
       " {'justification': \"The agent was asked for steps to upgrade Teams for all users in Microsoft 365, with an emphasis on a smooth transition and minimal workflow disruption. The response provides a detailed, step-by-step plan addressing the user's explicit requirements. TaskAdherence is needed to assess whether the agent followed the instructions, covered all necessary steps, and respected the constraints (smooth transition, no workflow disruption). IntentResolution is also relevant to ensure the agent fully understood the user's intent, including implicit needs such as communication, training, and support, and provided a holistic, helpful response. ToolAccuracy is not applicable as no tools were used or available.\",\n",
       "  'distinct_assessments': {'TaskAdherence': \"Will assess if the agent followed the user's instructions, provided all required steps for upgrading Teams, and addressed the constraints of ensuring a smooth transition and avoiding workflow disruption.\",\n",
       "   'IntentResolution': \"Will assess if the agent correctly understood the user's intent, including both explicit and implicit needs (such as communication, training, and support), and provided a comprehensive and helpful response.\"},\n",
       "  'thread_id': 'thread_7aqCEIf45IBjjvBeCNV5CNSf',\n",
       "  'results': {'IntentResolution': {'intent_resolution': 5.0,\n",
       "    'intent_resolution_result': 'pass',\n",
       "    'intent_resolution_threshold': 3,\n",
       "    'intent_resolution_reason': \"The user requested detailed steps to upgrade Teams in Microsoft 365 for a medium-sized organization with minimal workflow disruption. The agent provided a thorough, step-by-step guide covering assessment, communication, piloting, rollout, training, and monitoring, fully resolving the user's intent.\"},\n",
       "   'TaskAdherence': {'task_adherence': 5.0,\n",
       "    'task_adherence_result': 'pass',\n",
       "    'task_adherence_threshold': 3,\n",
       "    'task_adherence_reason': \"The assistant provided a clear, step-by-step plan for upgrading Teams in Microsoft 365, addressing assessment, communication, piloting, rollout, training, and monitoring. No system constraints or tool requirements were present, and the response fully met the user's request.\"}}},\n",
       " {'justification': \"The agent was asked for the steps to upgrade Teams for everyone in a medium-sized business. The response provides a step-by-step guide, referencing licensing, communication, environment preparation, admin center usage, policy settings, training, and monitoring. TaskAdherence is relevant to ensure the agent followed the instruction to provide steps and covered all necessary aspects. IntentResolution is also important to assess whether the agent fully understood the user's intent (including implicit needs such as minimizing disruption and ensuring user readiness) and provided a holistic, helpful response. ToolAccuracy is not applicable as no tools were used or available.\",\n",
       "  'distinct_assessments': {'TaskAdherence': \"This evaluator will assess whether the agent followed the user's instruction to provide upgrade steps, included all required steps, respected any implied constraints (such as business size), and completed the task as requested.\",\n",
       "   'IntentResolution': \"This evaluator will assess whether the agent understood the user's intent (to upgrade Teams for all users in a medium-sized business), addressed both explicit and implicit needs (such as communication, training, and support), and provided a comprehensive and helpful response.\"},\n",
       "  'thread_id': 'thread_BptOsITtns2D9x5bCRWImlwO',\n",
       "  'results': {'IntentResolution': {'intent_resolution': 5.0,\n",
       "    'intent_resolution_result': 'pass',\n",
       "    'intent_resolution_threshold': 3,\n",
       "    'intent_resolution_reason': 'The user wanted clear steps to upgrade Microsoft Teams for all users in a medium-sized business. The agent provided a thorough, step-by-step guide covering licensing, communication, technical preparation, admin actions, and post-upgrade support, fully resolving the intent.'},\n",
       "   'TaskAdherence': {'task_adherence': 5.0,\n",
       "    'task_adherence_result': 'pass',\n",
       "    'task_adherence_threshold': 3,\n",
       "    'task_adherence_reason': \"The assistant provided a clear, step-by-step guide for upgrading Teams for all users in a medium-sized business, covering licensing, communication, environment prep, admin settings, and user support. No system constraints or tool requirements were present, and the response fully met the user's needs.\"}}},\n",
       " {'justification': \"The agent was asked how to set up multi-factor authentication for Teams users in a business environment with around 50 users. The response provided a clear, step-by-step method using Security Defaults, mentioned licensing considerations, and offered further help. Since there were no tool calls, ToolAccuracy is not applicable. TaskAdherence is relevant to check if the agent followed the instructions, respected constraints, and completed all required steps. IntentResolution is also relevant to ensure the agent fully understood and addressed the user's intent, including any implicit needs such as scalability, cost, and user communication.\",\n",
       "  'distinct_assessments': {'TaskAdherence': \"This evaluator will assess whether the agent provided a complete, step-by-step process for enabling MFA for Teams users, respected the business context (50 users), and included all necessary steps and considerations as per the user's request.\",\n",
       "   'IntentResolution': \"This evaluator will assess whether the agent correctly understood the user's intent (setting up MFA for Teams users in a small business), addressed possible implicit needs (cost, ease of deployment, user notification), and provided a holistic, helpful response.\"},\n",
       "  'thread_id': 'thread_HJbWlH063heMgE297bstenx6',\n",
       "  'results': {'IntentResolution': {'intent_resolution': 5.0,\n",
       "    'intent_resolution_result': 'pass',\n",
       "    'intent_resolution_threshold': 3,\n",
       "    'intent_resolution_reason': 'The user wanted to know how to set up multi-factor authentication for about 50 Teams users in a business environment. The agent provided clear, step-by-step instructions using Security Defaults, mentioned alternatives, and offered further help, fully resolving the intent.'},\n",
       "   'TaskAdherence': {'task_adherence': 5.0,\n",
       "    'task_adherence_result': 'pass',\n",
       "    'task_adherence_threshold': 3,\n",
       "    'task_adherence_reason': \"The assistant provided clear, step-by-step instructions for enabling MFA for Teams users in a business environment, addressed group-specific options, and offered additional resources. No system constraints or tool requirements were present, and the user's request was fully satisfied.\"}}}]"
      ]
     },
     "execution_count": 6,
     "metadata": {},
     "output_type": "execute_result"
    }
   ],
   "source": [
    "\n",
    "import nest_asyncio\n",
    "import asyncio\n",
    "\n",
    "nest_asyncio.apply()\n",
    "\n",
    "critic_agent.auto_evaluate(agent_id=\"asst_8LTtd9HiRi1tABmOIergHYPX\", azure_ai_project=azure_ai_project)"
   ]
  },
  {
   "cell_type": "code",
   "execution_count": null,
   "id": "328c61ec",
   "metadata": {},
   "outputs": [],
   "source": []
  }
 ],
 "metadata": {
  "kernelspec": {
   "display_name": "aoai",
   "language": "python",
   "name": "python3"
  },
  "language_info": {
   "codemirror_mode": {
    "name": "ipython",
    "version": 3
   },
   "file_extension": ".py",
   "mimetype": "text/x-python",
   "name": "python",
   "nbconvert_exporter": "python",
   "pygments_lexer": "ipython3",
   "version": "3.10.16"
  }
 },
 "nbformat": 4,
 "nbformat_minor": 5
}
