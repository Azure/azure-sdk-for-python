{
 "cells": [
  {
   "cell_type": "code",
   "execution_count": null,
   "metadata": {},
   "outputs": [
    {
     "ename": "",
     "evalue": "",
     "output_type": "error",
     "traceback": [
      "\u001b[1;31mFailed to start the Kernel. \n",
      "\u001b[1;31mBad file descriptor (C:\\Users\\runneradmin\\AppData\\Local\\Temp\\tmpem1mty41\\build\\_deps\\bundled_libzmq-src\\src\\epoll.cpp:73). \n",
      "\u001b[1;31mView Jupyter <a href='command:jupyter.viewOutput'>log</a> for further details."
     ]
    }
   ],
   "source": [
    "from azure.identity import DefaultAzureCredential\n",
    "from azure.ai.ml import MLClient\n",
    "from azure.ai.ml.entities._credentials import UserIdentityConfiguration\n",
    "from azure.ai.ml.entities._indexes import ModelConfiguration, LocalSource, AzureAISearchConfig, AISearchSource, GitSource\n",
    "import os"
   ]
  },
  {
   "cell_type": "code",
   "execution_count": null,
   "metadata": {},
   "outputs": [],
   "source": [
    "from azure.identity import DefaultAzureCredential\n",
    "from azure.ai.ml import MLClient\n",
    "\n",
    "client=MLClient(DefaultAzureCredential(), \n",
    "                subscription_id=\"f375b912-331c-4fc5-8e9f-2d7205e3e036\",\n",
    "                resource_group_name=\"rg-jingyizhuai\",\n",
    "                workspace_name=\"jingyizhu-2148\")\n",
    "\n",
    "\n",
    "from azure.ai.ml.entities import Index\n",
    "client.indexes.create_or_update(Index(name=\"new-mlindex\", path=\"MLIndex\", version=\"1\", stage=\"Development\"))\n",
    "ml_index=client.indexes.get(\"new-mlindex\", label=\"latest\")\n",
    "\n",
    "retriever = ml_index.as_langchain_retriever()\n",
    "retriever.get_relevant_documents(\"which tent is the most waterproof?\")"
   ]
  },
  {
   "cell_type": "code",
   "execution_count": null,
   "metadata": {},
   "outputs": [],
   "source": [
    "# client=MLClient(DefaultAzureCredential(), \n",
    "#                 subscription_id=\"f375b912-331c-4fc5-8e9f-2d7205e3e036\",\n",
    "#                 resource_group_name=\"rg-jingyizhuaiint\",\n",
    "#                 workspace_name=\"jingyizhu-2543\")\n",
    "# client=MLClient(DefaultAzureCredential(), \n",
    "#                 subscription_id=\"f375b912-331c-4fc5-8e9f-2d7205e3e036\",\n",
    "#                 resource_group_name=\"rg-jingyizhuaiint\",\n",
    "#                 workspace_name=\"jingyizhu-2543\")\n",
    "\n",
    "client=MLClient.from_config(DefaultAzureCredential(), path=\"./config.json\")\n",
    "# index_name = \"remote-ai-search-00\"\n",
    "index_name = \"remote-cohere-00\"\n",
    "\n",
    "## aoai and acs connections - entra id\n",
    "aoai_connection = client.connections.get(\"jingyiaoai\")\n",
    "ai_search_connection = client.connections.get(\"jingyiacsuk\")\n",
    "embeddings_model_config = ModelConfiguration.from_connection(aoai_connection, \n",
    "                                                             model_name=\"text-embedding-ada-002\",\n",
    "                                                             deployment_name=\"text-embedding-ada-002\")\n",
    "\n",
    "## aoai and acs connections\n",
    "aoai_connection = client.connections.get(\"jingyizhuoai\", populate_secrets=True)\n",
    "ai_search_connection = client.connections.get(\"AzureAISearch\")\n",
    "# os.environ[\"AZURE_OPENAI_API_KEY\"] = \"0464ab68426e4f8bb1418052c16befc3\" # workaround for connections.get() not returning api_key\n",
    "embeddings_model_config = ModelConfiguration.from_connection(aoai_connection, \n",
    "                                                             model_name=\"text-embedding-ada-002\",\n",
    "                                                             deployment_name=\"text-embedding-ada-002\")\n",
    "\n",
    "## cohere\n",
    "cohere_serverless_connection = client.connections.get(\"cohere-connection\")\n",
    "ai_search_connection = client.connections.get(\"AzureAISearch\")\n",
    "embeddings_model_config = ModelConfiguration.from_connection(cohere_serverless_connection)\n",
    "\n",
    "\n",
    "## Input sources\n",
    "input_source_local = LocalSource(input_data=\"product-info/\")\n",
    "input_source_git = GitSource(git_url=\"https://github.com/rust-lang/book.git\", git_branch_name=\"main\", git_connection_id=\"\")\n",
    "input_source_urls=\"azureml://subscriptions/f375b912-331c-4fc5-8e9f-2d7205e3e036/resourcegroups/rg-jingyizhuai/workspaces/jingyizhu-project-2/datastores/workspaceblobstore/paths/UI/2024-04-22_171136_UTC/\"\n",
    "input_source_ai_search = AISearchSource(ai_search_index_name=\"remote_index\",\n",
    "                                        ai_search_index_content_key=\"content\",\n",
    "                                        ai_search_index_embedding_key=\"contentVector\",\n",
    "                                        ai_search_index_title_key=\"title\",\n",
    "                                        ai_search_index_metadata_key=\"meta_json_string\",\n",
    "                                        ai_search_index_connection_id=ai_search_connection.id\n",
    "                                        )"
   ]
  },
  {
   "cell_type": "code",
   "execution_count": null,
   "metadata": {},
   "outputs": [],
   "source": [
    "client.indexes.build_index(\n",
    "    name=index_name, # name of your index\n",
    "    embeddings_model_config=embeddings_model_config,\n",
    "    # data_source_citation_url=\"https://azuremlexamples.blob.core.windows.net/product-info\", # citation links\n",
    "    input_source=input_source_local,\n",
    "    # input_source_credential=UserIdentityConfiguration(), # user specified identity used to access the data. Default behavior is to just assume identity of the ml_client\n",
    "    index_config=AzureAISearchConfig(\n",
    "        ai_search_index_name=index_name,  # the name of the index store in Ai search service\n",
    "        ai_search_connection_id=ai_search_connection.id, # get the AI Search connection details\n",
    "    ),\n",
    "    # overwrite_if_exists=False, # default behavior is False\n",
    "    tokens_per_chunk = 800, # Optional field - Maximum number of tokens per chunk\n",
    "    token_overlap_across_chunks = 0, # Optional field - Number of tokens to overlap between chunks\n",
    ")"
   ]
  },
  {
   "cell_type": "code",
   "execution_count": null,
   "metadata": {},
   "outputs": [],
   "source": [
    "ml_index=client.indexes.get(\"remote-url\", label=\"latest\")\n",
    "\n",
    "ml_index=client.indexes.get(\"jingyi-test-index\", label=\"latest\")"
   ]
  },
  {
   "cell_type": "code",
   "execution_count": null,
   "metadata": {},
   "outputs": [],
   "source": [
    "# An mlindex can be converted to a LangChain retriever and used in a chain\n",
    "retriever = ml_index.as_langchain_retriever()\n",
    "# LangChain provides general query APIs\n",
    "retriever.get_relevant_documents(\"which tent is the most waterproof?\")"
   ]
  },
  {
   "cell_type": "code",
   "execution_count": null,
   "metadata": {},
   "outputs": [],
   "source": [
    "# from langchain.chains import RetrievalQA\n",
    "\n",
    "# completion_model = client.model_catalog.get_model('azure_open_ai://gpt-35-turbo')\n",
    "# chain = RetrievalQA.from_chain_type(llm=completion_model, chain_type=\"stuff\", retriever=retriever)\n",
    "\n",
    "# user_input = 'which tent is the most waterproof?'\n",
    "# result = chain.run(user_input)"
   ]
  },
  {
   "cell_type": "code",
   "execution_count": null,
   "metadata": {},
   "outputs": [],
   "source": [
    "path = \"azureml://subscriptions/f375b912-331c-4fc5-8e9f-2d7205e3e036/resourcegroups/rg-jingyizhuai/workspaces/jingyizhu-project-2/datastores/workspaceblobstore/paths/indexes/remote-local-02/3a76509a-600b-4c65-a593-1b0944fa68ff/\"\n",
    "from azureml.rag.mlindex import MLIndex as InternalMLIndex\n",
    "retriever = InternalMLIndex(str(path)).as_langchain_retriever()\n",
    "retriever.get_relevant_documents(\"which tent is the most waterproof?\")"
   ]
  }
 ],
 "metadata": {
  "kernelspec": {
   "display_name": "env",
   "language": "python",
   "name": "python3"
  },
  "language_info": {
   "name": "python",
   "version": "3.9.13"
  }
 },
 "nbformat": 4,
 "nbformat_minor": 2
}
