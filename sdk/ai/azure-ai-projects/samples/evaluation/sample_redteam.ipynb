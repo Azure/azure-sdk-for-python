{
 "cells": [
  {
   "cell_type": "markdown",
   "metadata": {},
   "source": [
    "# Sample Red Team\n",
    "\n",
    "This notebook demonstrates how to use the synchronous methods to create, get, list, and run Red Team scans using the Azure AI Project SDK."
   ]
  },
  {
   "cell_type": "markdown",
   "metadata": {},
   "source": [
    "## Prerequisites\n",
    "\n",
    "Before running this notebook, ensure you have the following:\n",
    "- Python 3.8 or later.\n",
    "- The Azure AI Project SDK installed. You can install it using the following command:\n",
    "  ```bash\n",
    "  pip install azure-ai-projects azure-identity\n",
    "  ```\n",
    "- Set the following environment variables with your own values:\n",
    "  - `PROJECT_ENDPOINT`: The Azure AI Project endpoint, as found in the overview page of your Azure AI Foundry project.\n",
    "  - `AZURE_OPENAI_DEPLOYMENT`: Your Azure OpenAI deployment name."
   ]
  },
  {
   "cell_type": "code",
   "execution_count": null,
   "metadata": {},
   "outputs": [],
   "source": [
    "# Import required libraries\n",
    "import os\n",
    "from azure.identity import DefaultAzureCredential\n",
    "from azure.ai.projects import AIProjectClient\n",
    "from azure.ai.projects.models import (\n",
    "    RedTeam,\n",
    "    AzureOpenAIModelConfiguration,\n",
    "    AttackStrategy,\n",
    "    RiskCategory,\n",
    ")"
   ]
  },
  {
   "cell_type": "markdown",
   "metadata": {},
   "source": [
    "## Set Environment Variables\n",
    "\n",
    "Ensure the following environment variables are set before proceeding."
   ]
  },
  {
   "cell_type": "code",
   "execution_count": null,
   "metadata": {},
   "outputs": [],
   "source": [
    "# Set environment variables\n",
    "endpoint = os.environ[\"PROJECT_ENDPOINT\"]  # Example: https://<account_name>.services.ai.azure.com/api/projects/<project_name>\n",
    "model_deployment_name = os.environ[\"AZURE_OPENAI_DEPLOYMENT\"]"
   ]
  },
  {
   "cell_type": "markdown",
   "metadata": {},
   "source": [
    "## Authenticate and Initialize the Client"
   ]
  },
  {
   "cell_type": "code",
   "execution_count": null,
   "metadata": {},
   "outputs": [],
   "source": [
    "# Authenticate and initialize the client\n",
    "credential = DefaultAzureCredential(exclude_interactive_browser_credential=False)\n",
    "project_client = AIProjectClient(endpoint=endpoint, credential=credential)"
   ]
  },
  {
   "cell_type": "markdown",
   "metadata": {},
   "source": [
    "## Create and Run a Red Team Scan\n",
    "\n",
    "This section demonstrates how to create a Red Team scan for direct model testing."
   ]
  },
  {
   "cell_type": "code",
   "execution_count": null,
   "metadata": {},
   "outputs": [],
   "source": [
    "# Create a Red Team scan\n",
    "print(\"Creating a Red Team scan for direct model testing\")\n",
    "\n",
    "# Create target configuration for testing an Azure OpenAI model\n",
    "target_config = AzureOpenAIModelConfiguration(model_deployment_name=model_deployment_name)\n",
    "\n",
    "# Create the Red Team configuration\n",
    "red_team = RedTeam(\n",
    "    attack_strategies=[AttackStrategy.BASE64],\n",
    "    risk_categories=[RiskCategory.VIOLENCE],\n",
    "    display_name=\"redteamtest1\",  # Use a simpler name\n",
    "    target=target_config,\n",
    ")\n",
    "\n",
    "# Create and run the Red Team scan\n",
    "red_team_response = project_client.red_teams.create(red_team=red_team)\n",
    "print(f\"Red Team scan created with scan name: {red_team_response.name}\")"
   ]
  },
  {
   "cell_type": "markdown",
   "metadata": {},
   "source": [
    "# Callback Target Cloud Red Team Scan\n",
    "\n",
    "This section demonstrates the upcoming advanced callback scenarios in cloud red team scans."
   ]
  },
  {
   "cell_type": "markdown",
   "metadata": {},
   "source": [
    "## Simple in-line callback\n",
    "\n",
    "This sample provides a simple in-line callback that allows customers to send inline function for the callback to be run in cloud during the red team scan."
   ]
  },
  {
   "cell_type": "code",
   "execution_count": null,
   "metadata": {},
   "outputs": [],
   "source": [
    "# Create a Red Team scan\n",
    "print(\"Creating a Red Team scan with inline callback\")\n",
    "\n",
    "# Create target configuration for red teaming\n",
    "target_config = InLineCallbackConfiguration(callback={\n",
    "    \"type\": \"InLineCallback\",\n",
    "    \"function\": \"print('Red Team inline scan')\",\n",
    "})\n",
    "\n",
    "# Create the Red Team configuration\n",
    "red_team = RedTeam(\n",
    "    attack_strategies=[AttackStrategy.BASE64],\n",
    "    risk_categories=[RiskCategory.VIOLENCE],\n",
    "    display_name=\"redteamtest1\",  # Use a simpler name\n",
    "    target=target_config,\n",
    ")\n",
    "\n",
    "# Create and run the Red Team scan\n",
    "red_team_response = project_client.red_teams.create(red_team=red_team)\n",
    "print(f\"Red Team scan created with scan name: {red_team_response.name}\")"
   ]
  },
  {
   "cell_type": "markdown",
   "metadata": {},
   "source": [
    "## Advanced callback\n",
    "\n",
    "This sample provides advanced callback that allows customers to send callback function from a python file, registered as an asset, to be run in cloud during the red team scan."
   ]
  },
  {
   "cell_type": "code",
   "execution_count": null,
   "metadata": {},
   "outputs": [],
   "source": [
    "# Create a Red Team scan\n",
    "print(\"Creating a Red Team scan for direct model testing\")\n",
    "\n",
    "callback = project_client.datasets.upload_file(\n",
    "    name=callback_name,\n",
    "    version=\"1\",\n",
    "    file=\"./samples_folder/callback.py\",\n",
    ")\n",
    "\n",
    "# Create target configuration for red teaming\n",
    "target_config = AdvancedCallbackConfiguration(callback_id=callback.id)\n",
    "\n",
    "# Create the Red Team configuration\n",
    "red_team = RedTeam(\n",
    "    attack_strategies=[AttackStrategy.BASE64],\n",
    "    risk_categories=[RiskCategory.VIOLENCE],\n",
    "    display_name=\"redteamtest1\",  # Use a simpler name\n",
    "    target=target_config,\n",
    ")\n",
    "\n",
    "# Create and run the Red Team scan\n",
    "red_team_response = project_client.red_teams.create(red_team=red_team)\n",
    "print(f\"Red Team scan created with scan name: {red_team_response.name}\")"
   ]
  },
  {
   "cell_type": "markdown",
   "metadata": {},
   "source": [
    "## Get Red Team Scan Details\n",
    "\n",
    "Retrieve the details of the created Red Team scan."
   ]
  },
  {
   "cell_type": "code",
   "execution_count": null,
   "metadata": {},
   "outputs": [],
   "source": [
    "# Get Red Team scan details\n",
    "print(\"Getting Red Team scan details\")\n",
    "get_red_team_response = project_client.red_teams.get(name=red_team_response.name)\n",
    "print(f\"Red Team scan status: {get_red_team_response.status}\")"
   ]
  },
  {
   "cell_type": "markdown",
   "metadata": {},
   "source": [
    "## List All Red Team Scans\n",
    "\n",
    "List all Red Team scans in the project."
   ]
  },
  {
   "cell_type": "code",
   "execution_count": null,
   "metadata": {},
   "outputs": [],
   "source": [
    "# List all Red Team scans\n",
    "print(\"Listing all Red Team scans\")\n",
    "for scan in project_client.red_teams.list():\n",
    "    print(f\"Found scan: {scan.name}, Status: {scan.status}\")"
   ]
  }
 ],
 "metadata": {
  "kernelspec": {
   "display_name": "Python 3",
   "language": "python",
   "name": "python3"
  },
  "language_info": {
   "codemirror_mode": {
    "name": "ipython",
    "version": 3
   },
   "file_extension": ".py",
   "mimetype": "text/x-python",
   "name": "python",
   "nbconvert_exporter": "python",
   "pygments_lexer": "ipython3",
   "version": "3.8.10"
  }
 },
 "nbformat": 4,
 "nbformat_minor": 4
}
