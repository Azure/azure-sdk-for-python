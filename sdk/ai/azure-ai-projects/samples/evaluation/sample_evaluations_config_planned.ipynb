{
 "cells": [
  {
   "cell_type": "markdown",
   "id": "77521b2c",
   "metadata": {},
   "source": [
    "# Evaluation config API "
   ]
  },
  {
   "cell_type": "markdown",
   "id": "8a65b693",
   "metadata": {},
   "source": [
    "## AI Foundry Agent service continuous evaluation config"
   ]
  },
  {
   "cell_type": "code",
   "execution_count": null,
   "id": "6f1e19d1",
   "metadata": {},
   "outputs": [],
   "source": [
    "# The data will be written into the backend within the project's resource group\n",
    "project_client.evalation.config.create_or_update(\n",
    "    type=\"agent\",\n",
    "    config={\n",
    "        \"agent_id\": \"agent_1\",\n",
    "        \"sampling_percent\": 30,\n",
    "        \"hourly_token_limit\": 10000, # aka \"max_request_rate\"\n",
    "    }\n",
    ")\n",
    "\n",
    "# Setup Azure function in the project's resource group to subscribe to Azure EventGrid \"agent_eval_event\""
   ]
  },
  {
   "cell_type": "markdown",
   "id": "43eb3bd3",
   "metadata": {},
   "source": [
    "### Sample Azure func"
   ]
  },
  {
   "cell_type": "code",
   "execution_count": null,
   "id": "04beaeb3",
   "metadata": {},
   "outputs": [],
   "source": [
    "import azure.functions as func\n",
    "\n",
    "app = func.FunctionApp()\n",
    "\n",
    "@app.event_grid_trigger(arg_name=\"agent_eval_event\")\n",
    "def EventGridTrigger(azeventgrid: func.EventGridEvent):\n",
    "    # Step 1: get agent Id\n",
    "    agent_id = azeventgrid.id\n",
    "    # Step 2: if agent_id is None, throw an error, otherwise, if no configuration is found, set the default configuration\n",
    "    # Step 3: use the sampling configuration to determine whether to run the evaluation\n",
    "    # Step 4: if the evaluation is run, fetch agent run data from agent service, and then call RAISvc API to run the evaluation"
   ]
  },
  {
   "cell_type": "markdown",
   "id": "cbd571c2",
   "metadata": {},
   "source": [
    "## Schedule evaluation config"
   ]
  },
  {
   "cell_type": "code",
   "execution_count": null,
   "id": "b621cb22",
   "metadata": {},
   "outputs": [],
   "source": [
    "# The data will be written into the Azure key vault within the project's resource group\n",
    "project_client.eval_config.create_or_update(\n",
    "    type=\"schedule\",\n",
    "    config={\n",
    "        \"id\": \"schedule_1\",\n",
    "        \"target\": {\n",
    "            \"type\": \"app_insights\",\n",
    "            \"url\": \"/subscriptions/<sub-id>/resourceGroups/<rg-name>/providers/microsoft.insights/components/<app-insights-name>\",\n",
    "            \"cron\": \"0 0 * * *\",\n",
    "            \"timezone\": \"UTC\",\n",
    "        },\n",
    "    }\n",
    ")\n",
    "\n",
    "# Setup Azure function in the project's resource group to subscribe to Azure EventGrid \"agent_eval_event\""
   ]
  },
  {
   "cell_type": "markdown",
   "id": "bb593bf3",
   "metadata": {},
   "source": [
    "### Sample Azure func"
   ]
  },
  {
   "cell_type": "code",
   "execution_count": null,
   "id": "48c98109",
   "metadata": {},
   "outputs": [],
   "source": [
    "import logging\n",
    "import azure.functions as func\n",
    "from datetime import datetime, timezone\n",
    "\n",
    "app = func.FunctionApp()\n",
    "\n",
    "@app.timer_trigger(schedule=\"0 0 * * * *\", arg_name=\"myTimer\", run_on_startup=False,\n",
    "              use_monitor=False) \n",
    "def timer_trigger(myTimer: func.TimerRequest) -> None:\n",
    "    # Step 1: fetch data from the target\n",
    "    # Step 2: run the evaluation from RAISvc API"
   ]
  }
 ],
 "metadata": {
  "kernelspec": {
   "display_name": "py311",
   "language": "python",
   "name": "python3"
  },
  "language_info": {
   "codemirror_mode": {
    "name": "ipython",
    "version": 3
   },
   "file_extension": ".py",
   "mimetype": "text/x-python",
   "name": "python",
   "nbconvert_exporter": "python",
   "pygments_lexer": "ipython3",
   "version": "3.11.9"
  }
 },
 "nbformat": 4,
 "nbformat_minor": 5
}
