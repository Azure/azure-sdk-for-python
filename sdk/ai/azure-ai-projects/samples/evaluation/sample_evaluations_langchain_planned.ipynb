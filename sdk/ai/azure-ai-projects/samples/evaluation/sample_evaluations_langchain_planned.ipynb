{
 "cells": [
  {
   "cell_type": "markdown",
   "id": "bd5b9e66",
   "metadata": {},
   "source": [
    "### Source\n",
    "* https://python.langchain.com/docs/tutorials/agents/\n",
    "* https://python.langchain.com/docs/integrations/chat/azure_chat_openai/"
   ]
  },
  {
   "cell_type": "code",
   "execution_count": null,
   "id": "330805df",
   "metadata": {},
   "outputs": [],
   "source": [
    "import os\n",
    "from langchain_openai import AzureChatOpenAI\n",
    "from dotenv import load_dotenv\n",
    "load_dotenv()\n",
    "\n",
    "import getpass\n",
    "\n",
    "if \"AZURE_OPENAI_API_KEY\" not in os.environ:\n",
    "    os.environ[\"AZURE_OPENAI_API_KEY\"] = getpass.getpass(\n",
    "        \"Enter your AzureOpenAI API key: \"\n",
    "    )\n",
    "\n",
    "llm = AzureChatOpenAI(\n",
    "    azure_deployment=os.getenv(\"AZURE_OPENAI_CHAT_DEPLOYMENT_NAME\"),\n",
    "    api_version=os.getenv(\"AZURE_OPENAI_API_VERSION\"),\n",
    "    temperature=0,\n",
    "    max_tokens=None,\n",
    "    timeout=None,\n",
    "    max_retries=2,\n",
    "    # other params...\n",
    ")"
   ]
  },
  {
   "cell_type": "code",
   "execution_count": null,
   "id": "d27629ad",
   "metadata": {},
   "outputs": [],
   "source": [
    "# Setup tracing\n",
    "\n",
    "from azure.identity import DefaultAzureCredential\n",
    "from azure.ai.projects import AIProjectClient  # type: ignore\n",
    "from azure.monitor.opentelemetry import configure_azure_monitor\n",
    "\n",
    "project_endpoint = os.getenv(\"AI_FOUNDRY_PROJ_ENDPOINT\")\n",
    "project_client = AIProjectClient(endpoint=project_endpoint, credential=DefaultAzureCredential()) # type: ignore\n",
    "configure_azure_monitor(\n",
    "    connection_string=project_client.telemetry.get_connection_string()\n",
    ")"
   ]
  },
  {
   "cell_type": "code",
   "execution_count": null,
   "id": "dc8636c8",
   "metadata": {},
   "outputs": [],
   "source": [
    "import requests\n",
    "from langchain_core.tools import tool\n",
    "\n",
    "@tool\n",
    "def search_wikipedia(term: str) -> str:\n",
    "    \"\"\"Search wikipedia for the term provided\"\"\"\n",
    "    # https://en.wikipedia.org/wiki/Neanderthal\n",
    "    url = f\"https://en.wikipedia.org/wiki/{term}\"\n",
    "    search_response = requests.get(url)\n",
    "\n",
    "    prompt = f\"The user asked a question about {term}\\nSummerize the following context:\\n##Context\\n {search_response.content}\"\n",
    "    llm_response = llm.invoke(prompt)\n",
    "    return llm_response.content # type: ignore"
   ]
  },
  {
   "cell_type": "code",
   "execution_count": null,
   "id": "78e6ee06",
   "metadata": {},
   "outputs": [],
   "source": [
    "# Import relevant functionality\n",
    "# from langchain_anthropic import ChatAnthropic\n",
    "from langchain_community.tools.tavily_search import TavilySearchResults\n",
    "from langchain_core.messages import HumanMessage\n",
    "from langgraph.checkpoint.memory import MemorySaver\n",
    "from langgraph.prebuilt import create_react_agent\n",
    "\n",
    "# Create the agent\n",
    "memory = MemorySaver()\n",
    "model = llm\n",
    "search = TavilySearchResults(max_results=2)\n",
    "tools = [search, search_wikipedia]\n",
    "system_prompt = \"You are a friendly and helpful customer service agent. Use tools to answer the question if appropriate\"\n",
    "agent_executor = create_react_agent(\n",
    "    model,\n",
    "    tools,\n",
    "    prompt=system_prompt,\n",
    "    checkpointer=memory,\n",
    ")"
   ]
  },
  {
   "cell_type": "code",
   "execution_count": null,
   "id": "29c69013",
   "metadata": {},
   "outputs": [],
   "source": [
    "from dataclasses import dataclass\n",
    "\n",
    "@dataclass\n",
    "class AgentEvalData:\n",
    "    query: list[dict[str, str | dict]] # type: ignore\n",
    "    response: list[dict[str, str | dict]] # type: ignore\n",
    "    tool_definitions: list[dict[str, str | dict]] # type: ignore"
   ]
  },
  {
   "cell_type": "code",
   "execution_count": null,
   "id": "762094ee",
   "metadata": {},
   "outputs": [],
   "source": [
    "# Use the LangChain agent\n",
    "thread_id = \"abc123\"\n",
    "config = { \"configurable\": { \"thread_id\": thread_id } }\n",
    "\n",
    "def _get_datetime():\n",
    "    from datetime import datetime, timezone\n",
    "    utc_now = datetime.now(timezone.utc)\n",
    "    return utc_now.isoformat()\n",
    "\n",
    "def _get_tool_definitions(tool_func):\n",
    "    definitions = {\n",
    "        \"name\": tool_func.name,\n",
    "        \"description\": tool_func.description,\n",
    "        \"parameters\": {\n",
    "            \"type\": \"object\",\n",
    "            \"properties\": {},\n",
    "        }\n",
    "    }\n",
    "\n",
    "    # tool_func.args is a dict, use for loop to get each key in it\n",
    "    for key in tool_func.args:\n",
    "        definitions[\"parameters\"][\"properties\"][key] = {\n",
    "            \"type\": tool_func.args[key]['type'],\n",
    "            \"description\": tool_func.args[key]['description'] if \"description\" in tool_func.args[key] else \"\",\n",
    "        }\n",
    "\n",
    "    return definitions\n",
    "\n",
    "def agent_run(message: str) -> AgentEvalData:\n",
    "    agent_eval_data: AgentEvalData = AgentEvalData(\n",
    "        query=[{ # type: ignore\n",
    "            \"role\": \"system\",\n",
    "            \"content\": system_prompt,\n",
    "        }, {\n",
    "            \"createdAt\": _get_datetime(),\n",
    "            \"role\": \"user\",\n",
    "            \"content\": [ # type: ignore\n",
    "                {\n",
    "                    \"type\": \"text\",\n",
    "                    \"text\": message,\n",
    "                }\n",
    "            ]\n",
    "        }],\n",
    "        response=[], # type: ignore\n",
    "        tool_definitions=[ # type: ignore\n",
    "            _get_tool_definitions(search),\n",
    "            _get_tool_definitions(search_wikipedia),\n",
    "        ]\n",
    "    )\n",
    "\n",
    "    for step in agent_executor.stream(\n",
    "        {\"messages\": [HumanMessage(content=message)]},\n",
    "        config, # type: ignore\n",
    "        stream_mode=\"values\",\n",
    "    ):\n",
    "        # step[\"messages\"][-1].pretty_print()\n",
    "        for message in step[\"messages\"]:\n",
    "            message.pretty_print() # type: ignore\n",
    "\n",
    "    return agent_eval_data"
   ]
  },
  {
   "cell_type": "code",
   "execution_count": null,
   "id": "20ffbf24",
   "metadata": {},
   "outputs": [],
   "source": [
    "agent_run(\"what is the weather in Redmond, WA?\")"
   ]
  },
  {
   "cell_type": "code",
   "execution_count": null,
   "id": "ebfdbe33",
   "metadata": {},
   "outputs": [],
   "source": [
    "agent_run(\"how about tomorrow?\")"
   ]
  },
  {
   "cell_type": "code",
   "execution_count": null,
   "id": "e5fc57d9",
   "metadata": {},
   "outputs": [],
   "source": [
    "# agent_eval_data = agent_run(\"Neanderthal\")\n",
    "agent_eval_data = agent_run(\"Hanging_Gardens_of_Babylon\")\n",
    "from dataclasses import asdict\n",
    "import json\n",
    "print(json.dumps(asdict(agent_eval_data), indent=2)) # type: ignore"
   ]
  }
 ],
 "metadata": {
  "kernelspec": {
   "display_name": "py311",
   "language": "python",
   "name": "python3"
  },
  "language_info": {
   "codemirror_mode": {
    "name": "ipython",
    "version": 3
   },
   "file_extension": ".py",
   "mimetype": "text/x-python",
   "name": "python",
   "nbconvert_exporter": "python",
   "pygments_lexer": "ipython3",
   "version": "3.11.9"
  }
 },
 "nbformat": 4,
 "nbformat_minor": 5
}
