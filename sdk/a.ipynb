{
 "cells": [
  {
   "cell_type": "code",
   "execution_count": 2,
   "metadata": {},
   "outputs": [
    {
     "name": "stdout",
     "output_type": "stream",
     "text": [
      "xxxxxxxxxxxxxxxxxxxxxxxxxxxxxxxxxxxxxx\n"
     ]
    }
   ],
   "source": [
    "from azure.ai.ml import command, Input\n",
    "from azure.ai.ml.entities._job.job_service import JobService\n",
    "\n",
    "# define the command\n",
    "command_job = command(\n",
    "    code=\"./src\",\n",
    "    command=\"python main.py --iris-csv ${{inputs.iris_csv}} --learning-rate ${{inputs.learning_rate}} --boosting ${{inputs.boosting}}\",\n",
    "    environment=\"azureml:AzureML-sklearn-0.24-ubuntu18.04-py37-cpu:3\",\n",
    "    inputs={\n",
    "        \"iris_csv\": Input(\n",
    "            type=\"uri_file\",\n",
    "            path=\"https://azuremlexamples.blob.core.windows.net/datasets/iris.csv\",\n",
    "        ),\n",
    "        \"learning_rate\": 0.9,\n",
    "        \"boosting\": \"gbdt\",\n",
    "    },\n",
    "    # compute=\"Test\",\n",
    "    services={\n",
    "      \"JobService01\": JobService(\n",
    "        job_service_type = \"JupyterLabx\",\n",
    "        endpoint = \"https://endpoing\",\n",
    "        nodes = \"all\",\n",
    "      )\n",
    "    },\n",
    "    compute=\"tony-cpu-01-compute\",\n",
    ")"
   ]
  }
 ],
 "metadata": {
  "kernelspec": {
   "display_name": "Python 3.7.8 ('env-2022-09-07': venv)",
   "language": "python",
   "name": "python3"
  },
  "language_info": {
   "codemirror_mode": {
    "name": "ipython",
    "version": 3
   },
   "file_extension": ".py",
   "mimetype": "text/x-python",
   "name": "python",
   "nbconvert_exporter": "python",
   "pygments_lexer": "ipython3",
   "version": "3.7.8"
  },
  "orig_nbformat": 4,
  "vscode": {
   "interpreter": {
    "hash": "10a0be50a4739929a0bcf2ba3cdeda8ffef11372f459e2a22ece15426d0e7169"
   }
  }
 },
 "nbformat": 4,
 "nbformat_minor": 2
}
